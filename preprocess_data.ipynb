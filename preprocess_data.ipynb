{
 "cells": [
  {
   "cell_type": "markdown",
   "metadata": {},
   "source": [
    "# Preprocessing Data\n",
    "\n"
   ]
  },
  {
   "cell_type": "code",
   "execution_count": 33,
   "metadata": {},
   "outputs": [],
   "source": [
    "import pandas as pd\n",
    "import numpy as np\n",
    "from sklearn import preprocessing\n",
    "from collections import Counter\n",
    "import rfpimp\n",
    "from sklearn import feature_selection\n",
    "from sklearn.model_selection import (\n",
    "                    train_test_split,\n",
    "                    StratifiedKFold\n",
    "                                    )\n",
    "from sklearn import (\n",
    "                    ensemble,\n",
    "                    preprocessing,\n",
    "                    tree,\n",
    "                    impute,\n",
    "                    linear_model\n",
    "                    )\n",
    "\n",
    "import matplotlib.pyplot as plt\n",
    "\n",
    "from sklearn.experimental import enable_iterative_imputer\n",
    "\n",
    "from sklearn.ensemble import RandomForestClassifier\n",
    "\n",
    "from yellowbrick.features import RFECV\n",
    "\n",
    "from sklearn.feature_selection import RFE\n",
    "\n",
    "from sklearn.utils import resample"
   ]
  },
  {
   "cell_type": "code",
   "execution_count": 2,
   "metadata": {},
   "outputs": [],
   "source": [
    "# URL to the dataset\n",
    "url = r\"data/titanic.csv\"\n",
    "\n",
    "# Read the dataset\n",
    "titanic_df = pd.read_csv(url)\n",
    "\n",
    "\n",
    "orig_df = titanic_df"
   ]
  },
  {
   "cell_type": "code",
   "execution_count": 3,
   "metadata": {},
   "outputs": [],
   "source": [
    "def clean_titanic(titanic_df: pd.DataFrame):\n",
    "    \"\"\"\n",
    "        Perform cleaning on the Titanic dataset\n",
    "    \"\"\"    \n",
    "    # Create a new copy of the Dataset without altering the orginal df \n",
    "    df = titanic_df.copy(deep=True)    \n",
    "    # Drop irrelevant columns\n",
    "    df = (\n",
    "            df.drop(\n",
    "                    columns=['body',\n",
    "                             'cabin',\n",
    "                             'boat',\n",
    "                             'home.dest',\n",
    "                             'name',\n",
    "                             'ticket']  \n",
    "                    )\n",
    "             )\n",
    "    \n",
    "    # Convert the embarked column to categorical data\n",
    "    df['embarked'] = (\n",
    "                      df['embarked']\n",
    "                      # Convert to categorical type\n",
    "                      .astype('category')\n",
    "                     )\n",
    "    # Convert the sex column to categorical data\n",
    "    df['sex'] = (\n",
    "                df['sex']\n",
    "                # Set as category\n",
    "                .astype('category')\n",
    "                )\n",
    "    # Now lets create dummy columns for the categorical data and avoid Perfoect Colinearity\n",
    "    df = pd.get_dummies(df, columns=['embarked', 'sex'], drop_first=True) \n",
    "    \n",
    "    return df\n",
    "\n"
   ]
  },
  {
   "cell_type": "code",
   "execution_count": 4,
   "metadata": {},
   "outputs": [],
   "source": [
    "def get_train_test_X_y(clean_titanic_df: pd.DataFrame, y_col: str, size: float = 0.3):\n",
    "    # Get a copy of the original df\n",
    "    df = clean_titanic_df.copy(deep=True)\n",
    "    # Get the target\n",
    "    y = df[y_col]\n",
    "    # Get the features\n",
    "    X = df.drop(columns=y_col)\n",
    "    # Split the data into train and test\n",
    "    X_train, X_test, y_train, y_test = train_test_split(X, y, test_size=size, random_state=42)\n",
    "    # Get all feature cols\n",
    "    feature_cols = X.columns\n",
    "    # Get all Numeric columns\n",
    "    num_cols = [\n",
    "            'pclass',\n",
    "            'age',\n",
    "            'sibsp',\n",
    "            'parch',\n",
    "            'fare'\n",
    "        ]\n",
    "\n",
    "    cat_cols = [\n",
    "                'embarked_Q',\n",
    "                'embarked_S',\n",
    "                'sex_male'\n",
    "                ]\n",
    "\n",
    "    # Impute the missing values based on characteristics of the numeric columns\n",
    "    imputer = impute.IterativeImputer()\n",
    "\n",
    "    X_train.loc[:, feature_cols] = imputer.fit_transform(X_train[feature_cols])\n",
    "\n",
    "    X_test.loc[:, feature_cols] = imputer.transform(X_test[feature_cols])\n",
    "    \n",
    "    # Standardising the numeric columns\n",
    "    scaler = preprocessing.StandardScaler()\n",
    "\n",
    "    # Standardize the Numeric Features leaving out the Categorical features\n",
    "    X_train.loc[:, num_cols] = scaler.fit_transform(X_train[num_cols])\n",
    "\n",
    "\n",
    "    # Standardising the test data\n",
    "    X_test.loc[:, num_cols] = scaler.transform(X_test[num_cols])\n",
    "    \n",
    "    return X_train, X_test, y_train, y_test\n",
    "\n",
    "\n",
    "#Cleaning Data\n",
    "clean_df = clean_titanic(titanic_df=orig_df)\n",
    "\n",
    "\n",
    "# Get the testing and training set\n",
    "X_train, X_test, y_train, y_test = get_train_test_X_y(clean_titanic_df=clean_df, y_col='survived')\n",
    "\n",
    "\n",
    "# Concatenate all the data\n",
    "X = pd.concat([X_train, X_test], axis=0)\n",
    "y = pd.concat([y_train, y_test], axis=0)\n",
    "\n"
   ]
  },
  {
   "cell_type": "code",
   "execution_count": 5,
   "metadata": {},
   "outputs": [
    {
     "data": {
      "text/html": [
       "<div>\n",
       "<style scoped>\n",
       "    .dataframe tbody tr th:only-of-type {\n",
       "        vertical-align: middle;\n",
       "    }\n",
       "\n",
       "    .dataframe tbody tr th {\n",
       "        vertical-align: top;\n",
       "    }\n",
       "\n",
       "    .dataframe thead th {\n",
       "        text-align: right;\n",
       "    }\n",
       "</style>\n",
       "<table border=\"1\" class=\"dataframe\">\n",
       "  <thead>\n",
       "    <tr style=\"text-align: right;\">\n",
       "      <th></th>\n",
       "      <th>a</th>\n",
       "      <th>b</th>\n",
       "    </tr>\n",
       "  </thead>\n",
       "  <tbody>\n",
       "    <tr>\n",
       "      <th>0</th>\n",
       "      <td>1</td>\n",
       "      <td>-12000</td>\n",
       "    </tr>\n",
       "    <tr>\n",
       "      <th>1</th>\n",
       "      <td>2</td>\n",
       "      <td>-11000</td>\n",
       "    </tr>\n",
       "    <tr>\n",
       "      <th>2</th>\n",
       "      <td>3</td>\n",
       "      <td>0</td>\n",
       "    </tr>\n",
       "    <tr>\n",
       "      <th>3</th>\n",
       "      <td>4</td>\n",
       "      <td>1000</td>\n",
       "    </tr>\n",
       "    <tr>\n",
       "      <th>4</th>\n",
       "      <td>5</td>\n",
       "      <td>2000</td>\n",
       "    </tr>\n",
       "    <tr>\n",
       "      <th>5</th>\n",
       "      <td>6</td>\n",
       "      <td>3000</td>\n",
       "    </tr>\n",
       "    <tr>\n",
       "      <th>6</th>\n",
       "      <td>7</td>\n",
       "      <td>4000</td>\n",
       "    </tr>\n",
       "    <tr>\n",
       "      <th>7</th>\n",
       "      <td>8</td>\n",
       "      <td>5000</td>\n",
       "    </tr>\n",
       "    <tr>\n",
       "      <th>8</th>\n",
       "      <td>9</td>\n",
       "      <td>6000</td>\n",
       "    </tr>\n",
       "    <tr>\n",
       "      <th>9</th>\n",
       "      <td>10</td>\n",
       "      <td>7000</td>\n",
       "    </tr>\n",
       "  </tbody>\n",
       "</table>\n",
       "</div>"
      ],
      "text/plain": [
       "    a      b\n",
       "0   1 -12000\n",
       "1   2 -11000\n",
       "2   3      0\n",
       "3   4   1000\n",
       "4   5   2000\n",
       "5   6   3000\n",
       "6   7   4000\n",
       "7   8   5000\n",
       "8   9   6000\n",
       "9  10   7000"
      ]
     },
     "execution_count": 5,
     "metadata": {},
     "output_type": "execute_result"
    }
   ],
   "source": [
    "X_2 = pd.DataFrame(\n",
    "    {\n",
    "        \"a\": [1, 2, 3, 4, 5, 6, 7, 8, 9, 10],\n",
    "        \"b\": [-12000, -11000, 0, 1000, 2000, 3000, 4000, 5000, 6000, 7000],\n",
    "    }\n",
    ")\n",
    "\n",
    "X_2"
   ]
  },
  {
   "cell_type": "markdown",
   "metadata": {},
   "source": [
    "> Some algorithms, such as SVM, perform better when the data is\n",
    "standardized. Each column should have a mean value of 0 and standard\n",
    "deviation of 1."
   ]
  },
  {
   "cell_type": "code",
   "execution_count": 6,
   "metadata": {},
   "outputs": [
    {
     "data": {
      "text/plain": [
       "array([[-1.5666989 , -1.97027602],\n",
       "       [-1.21854359, -1.81265393],\n",
       "       [-0.87038828, -0.07881104],\n",
       "       [-0.52223297,  0.07881104],\n",
       "       [-0.17407766,  0.23643312],\n",
       "       [ 0.17407766,  0.3940552 ],\n",
       "       [ 0.52223297,  0.55167728],\n",
       "       [ 0.87038828,  0.70929937],\n",
       "       [ 1.21854359,  0.86692145],\n",
       "       [ 1.5666989 ,  1.02454353]])"
      ]
     },
     "execution_count": 6,
     "metadata": {},
     "output_type": "execute_result"
    }
   ],
   "source": [
    "# Performing Standardisation\n",
    "\n",
    "std = preprocessing.StandardScaler()\n",
    "\n",
    "std.fit_transform(X_2)\n"
   ]
  },
  {
   "cell_type": "code",
   "execution_count": 7,
   "metadata": {},
   "outputs": [
    {
     "data": {
      "text/plain": [
       "array([2.87228132e+00, 6.34428877e+03])"
      ]
     },
     "execution_count": 7,
     "metadata": {},
     "output_type": "execute_result"
    }
   ],
   "source": [
    "std.scale_"
   ]
  },
  {
   "cell_type": "code",
   "execution_count": 8,
   "metadata": {},
   "outputs": [
    {
     "data": {
      "text/plain": [
       "array([  5.5, 500. ])"
      ]
     },
     "execution_count": 8,
     "metadata": {},
     "output_type": "execute_result"
    }
   ],
   "source": [
    "# Original Mean\n",
    "std.mean_"
   ]
  },
  {
   "cell_type": "code",
   "execution_count": 9,
   "metadata": {},
   "outputs": [
    {
     "data": {
      "text/plain": [
       "array([8.250e+00, 4.025e+07])"
      ]
     },
     "execution_count": 9,
     "metadata": {},
     "output_type": "execute_result"
    }
   ],
   "source": [
    "# Original Std Dev\n",
    "std.var_"
   ]
  },
  {
   "cell_type": "markdown",
   "metadata": {},
   "source": [
    "> Remember that you will need to track the original\n",
    "mean and standard deviation if you use this for preprocessing. Any sample\n",
    "that you will use to predict later will need to be standardized with those\n",
    "same values. This is to prevent DATA LEAKAGE."
   ]
  },
  {
   "cell_type": "code",
   "execution_count": 10,
   "metadata": {},
   "outputs": [
    {
     "data": {
      "text/html": [
       "<div>\n",
       "<style scoped>\n",
       "    .dataframe tbody tr th:only-of-type {\n",
       "        vertical-align: middle;\n",
       "    }\n",
       "\n",
       "    .dataframe tbody tr th {\n",
       "        vertical-align: top;\n",
       "    }\n",
       "\n",
       "    .dataframe thead th {\n",
       "        text-align: right;\n",
       "    }\n",
       "</style>\n",
       "<table border=\"1\" class=\"dataframe\">\n",
       "  <thead>\n",
       "    <tr style=\"text-align: right;\">\n",
       "      <th></th>\n",
       "      <th>a</th>\n",
       "      <th>b</th>\n",
       "    </tr>\n",
       "  </thead>\n",
       "  <tbody>\n",
       "    <tr>\n",
       "      <th>0</th>\n",
       "      <td>-1.486301</td>\n",
       "      <td>-1.869168</td>\n",
       "    </tr>\n",
       "    <tr>\n",
       "      <th>1</th>\n",
       "      <td>-1.156012</td>\n",
       "      <td>-1.719635</td>\n",
       "    </tr>\n",
       "    <tr>\n",
       "      <th>2</th>\n",
       "      <td>-0.825723</td>\n",
       "      <td>-0.074767</td>\n",
       "    </tr>\n",
       "    <tr>\n",
       "      <th>3</th>\n",
       "      <td>-0.495434</td>\n",
       "      <td>0.074767</td>\n",
       "    </tr>\n",
       "    <tr>\n",
       "      <th>4</th>\n",
       "      <td>-0.165145</td>\n",
       "      <td>0.224300</td>\n",
       "    </tr>\n",
       "    <tr>\n",
       "      <th>5</th>\n",
       "      <td>0.165145</td>\n",
       "      <td>0.373834</td>\n",
       "    </tr>\n",
       "    <tr>\n",
       "      <th>6</th>\n",
       "      <td>0.495434</td>\n",
       "      <td>0.523367</td>\n",
       "    </tr>\n",
       "    <tr>\n",
       "      <th>7</th>\n",
       "      <td>0.825723</td>\n",
       "      <td>0.672900</td>\n",
       "    </tr>\n",
       "    <tr>\n",
       "      <th>8</th>\n",
       "      <td>1.156012</td>\n",
       "      <td>0.822434</td>\n",
       "    </tr>\n",
       "    <tr>\n",
       "      <th>9</th>\n",
       "      <td>1.486301</td>\n",
       "      <td>0.971967</td>\n",
       "    </tr>\n",
       "  </tbody>\n",
       "</table>\n",
       "</div>"
      ],
      "text/plain": [
       "          a         b\n",
       "0 -1.486301 -1.869168\n",
       "1 -1.156012 -1.719635\n",
       "2 -0.825723 -0.074767\n",
       "3 -0.495434  0.074767\n",
       "4 -0.165145  0.224300\n",
       "5  0.165145  0.373834\n",
       "6  0.495434  0.523367\n",
       "7  0.825723  0.672900\n",
       "8  1.156012  0.822434\n",
       "9  1.486301  0.971967"
      ]
     },
     "execution_count": 10,
     "metadata": {},
     "output_type": "execute_result"
    }
   ],
   "source": [
    "X_std = (X_2 - X_2.mean()) / X_2.std()\n",
    "\n",
    "X_std"
   ]
  },
  {
   "cell_type": "markdown",
   "metadata": {},
   "source": [
    "## Scale to Range\n",
    "\n",
    "Scaling to range is translating data so it is between 0 and 1, inclusive.\n",
    "Having the data bounded may be useful. However, if you have outliers, you\n",
    "probably want to be careful using this"
   ]
  },
  {
   "cell_type": "code",
   "execution_count": 11,
   "metadata": {},
   "outputs": [
    {
     "data": {
      "text/plain": [
       "array([[0.        , 0.        ],\n",
       "       [0.11111111, 0.05263158],\n",
       "       [0.22222222, 0.63157895],\n",
       "       [0.33333333, 0.68421053],\n",
       "       [0.44444444, 0.73684211],\n",
       "       [0.55555556, 0.78947368],\n",
       "       [0.66666667, 0.84210526],\n",
       "       [0.77777778, 0.89473684],\n",
       "       [0.88888889, 0.94736842],\n",
       "       [1.        , 1.        ]])"
      ]
     },
     "execution_count": 11,
     "metadata": {},
     "output_type": "execute_result"
    }
   ],
   "source": [
    "mms = preprocessing.MinMaxScaler()\n",
    "\n",
    "mms.fit(X_2)\n",
    "\n",
    "mms.transform(X_2)"
   ]
  },
  {
   "cell_type": "markdown",
   "metadata": {},
   "source": [
    "## Dummy Variables\n",
    "\n",
    "We can use pandas to create dummy variables from categorical data. This is\n",
    "also referred to as one-hot encoding, or indicator encoding. Dummy\n",
    "variables are especially useful if the data is nominal (unordered). The\n",
    "get_dummies function in pandas creates multiple columns for a categorical\n",
    "column, each with a 1 or 0 if the original column had that value:"
   ]
  },
  {
   "cell_type": "code",
   "execution_count": 12,
   "metadata": {},
   "outputs": [
    {
     "data": {
      "text/html": [
       "<div>\n",
       "<style scoped>\n",
       "    .dataframe tbody tr th:only-of-type {\n",
       "        vertical-align: middle;\n",
       "    }\n",
       "\n",
       "    .dataframe tbody tr th {\n",
       "        vertical-align: top;\n",
       "    }\n",
       "\n",
       "    .dataframe thead th {\n",
       "        text-align: right;\n",
       "    }\n",
       "</style>\n",
       "<table border=\"1\" class=\"dataframe\">\n",
       "  <thead>\n",
       "    <tr style=\"text-align: right;\">\n",
       "      <th></th>\n",
       "      <th>name</th>\n",
       "      <th>inst</th>\n",
       "    </tr>\n",
       "  </thead>\n",
       "  <tbody>\n",
       "    <tr>\n",
       "      <th>0</th>\n",
       "      <td>Maame</td>\n",
       "      <td>drums</td>\n",
       "    </tr>\n",
       "    <tr>\n",
       "      <th>1</th>\n",
       "      <td>Marvin</td>\n",
       "      <td>guitar</td>\n",
       "    </tr>\n",
       "    <tr>\n",
       "      <th>2</th>\n",
       "      <td>David</td>\n",
       "      <td>piano</td>\n",
       "    </tr>\n",
       "  </tbody>\n",
       "</table>\n",
       "</div>"
      ],
      "text/plain": [
       "     name    inst\n",
       "0   Maame   drums\n",
       "1  Marvin  guitar\n",
       "2   David   piano"
      ]
     },
     "execution_count": 12,
     "metadata": {},
     "output_type": "execute_result"
    }
   ],
   "source": [
    "X_cat = pd.DataFrame({\n",
    "    'name': ['Maame', 'Marvin', 'David'],\n",
    "    'inst': ['drums', 'guitar', 'piano']\n",
    "})\n",
    "\n",
    "\n",
    "X_cat"
   ]
  },
  {
   "cell_type": "code",
   "execution_count": 13,
   "metadata": {},
   "outputs": [
    {
     "data": {
      "text/html": [
       "<div>\n",
       "<style scoped>\n",
       "    .dataframe tbody tr th:only-of-type {\n",
       "        vertical-align: middle;\n",
       "    }\n",
       "\n",
       "    .dataframe tbody tr th {\n",
       "        vertical-align: top;\n",
       "    }\n",
       "\n",
       "    .dataframe thead th {\n",
       "        text-align: right;\n",
       "    }\n",
       "</style>\n",
       "<table border=\"1\" class=\"dataframe\">\n",
       "  <thead>\n",
       "    <tr style=\"text-align: right;\">\n",
       "      <th></th>\n",
       "      <th>name_Maame</th>\n",
       "      <th>name_Marvin</th>\n",
       "      <th>inst_guitar</th>\n",
       "      <th>inst_piano</th>\n",
       "    </tr>\n",
       "  </thead>\n",
       "  <tbody>\n",
       "    <tr>\n",
       "      <th>0</th>\n",
       "      <td>1</td>\n",
       "      <td>0</td>\n",
       "      <td>0</td>\n",
       "      <td>0</td>\n",
       "    </tr>\n",
       "    <tr>\n",
       "      <th>1</th>\n",
       "      <td>0</td>\n",
       "      <td>1</td>\n",
       "      <td>1</td>\n",
       "      <td>0</td>\n",
       "    </tr>\n",
       "    <tr>\n",
       "      <th>2</th>\n",
       "      <td>0</td>\n",
       "      <td>0</td>\n",
       "      <td>0</td>\n",
       "      <td>1</td>\n",
       "    </tr>\n",
       "  </tbody>\n",
       "</table>\n",
       "</div>"
      ],
      "text/plain": [
       "   name_Maame  name_Marvin  inst_guitar  inst_piano\n",
       "0           1            0            0           0\n",
       "1           0            1            1           0\n",
       "2           0            0            0           1"
      ]
     },
     "execution_count": 13,
     "metadata": {},
     "output_type": "execute_result"
    }
   ],
   "source": [
    "pd.get_dummies(X_cat, drop_first=True)"
   ]
  },
  {
   "cell_type": "markdown",
   "metadata": {},
   "source": [
    "## Label Encoder\n",
    "\n",
    "An alternative to dummy variable encoding is label encoding. This will take\n",
    "categorical data and assign each value a number. It is useful for high cardinality data. This encoder imposes ordinality, which may or may not be desired. It can take up less space than one-hot encoding, and some (tree) algorithms can deal with this encoding."
   ]
  },
  {
   "cell_type": "code",
   "execution_count": 14,
   "metadata": {},
   "outputs": [
    {
     "data": {
      "text/plain": [
       "array([0, 1, 2])"
      ]
     },
     "execution_count": 14,
     "metadata": {},
     "output_type": "execute_result"
    }
   ],
   "source": [
    "lab = preprocessing.LabelEncoder()\n",
    "\n",
    "lab.fit_transform(X_cat['inst'])"
   ]
  },
  {
   "cell_type": "code",
   "execution_count": 15,
   "metadata": {},
   "outputs": [
    {
     "data": {
      "text/plain": [
       "array(['drums', 'guitar', 'piano'], dtype=object)"
      ]
     },
     "execution_count": 15,
     "metadata": {},
     "output_type": "execute_result"
    }
   ],
   "source": [
    "# Inverse transform\n",
    "\n",
    "lab.inverse_transform([0,1,2])"
   ]
  },
  {
   "cell_type": "markdown",
   "metadata": {},
   "source": [
    "## Frequency Encoding\n",
    "\n",
    "Another option for handling high cardinality categorical data is to frequency\n",
    "encode it. This means replacing the name of the category with the count it\n",
    "had in the training data. We will use pandas to do this. First, we will use the\n",
    "pandas .value_counts method to make a mapping (a pandas series that\n",
    "maps strings to counts). With the mapping we can use the .map method to\n",
    "do the encoding:"
   ]
  },
  {
   "cell_type": "code",
   "execution_count": 16,
   "metadata": {},
   "outputs": [
    {
     "data": {
      "text/plain": [
       "0    2\n",
       "1    2\n",
       "2    2\n",
       "3    2\n",
       "4    1\n",
       "Name: name, dtype: int64"
      ]
     },
     "execution_count": 16,
     "metadata": {},
     "output_type": "execute_result"
    }
   ],
   "source": [
    "X_cat = pd.DataFrame({\n",
    "    'name': ['Maame', 'Marvin', 'Maame', 'Marvin', 'David'],\n",
    "    'inst': ['drums', 'guitar', 'piano', 'piano', 'drums']\n",
    "})\n",
    "\n",
    "mapping = X_cat.name.value_counts()\n",
    "\n",
    "X_cat.name.map(mapping)"
   ]
  },
  {
   "cell_type": "markdown",
   "metadata": {},
   "source": [
    "> Make sure you store the training mapping so you can encode future data\n",
    "with the same data."
   ]
  },
  {
   "cell_type": "code",
   "execution_count": 17,
   "metadata": {},
   "outputs": [
    {
     "data": {
      "text/plain": [
       "Maame     2\n",
       "Marvin    2\n",
       "David     1\n",
       "Name: name, dtype: int64"
      ]
     },
     "execution_count": 17,
     "metadata": {},
     "output_type": "execute_result"
    }
   ],
   "source": [
    "mapping"
   ]
  },
  {
   "cell_type": "markdown",
   "metadata": {},
   "source": [
    "## Pulling Categories from Strings\n",
    "\n",
    "One way to increase the accuracy of the Titanic model is to pull out titles\n",
    "from the names. A quick hack to find the most common triples is to use the\n",
    "Counter class:"
   ]
  },
  {
   "cell_type": "code",
   "execution_count": 18,
   "metadata": {},
   "outputs": [
    {
     "data": {
      "text/plain": [
       "[(', M', 1282),\n",
       " (' Mr', 954),\n",
       " ('r. ', 830),\n",
       " ('Mr.', 757),\n",
       " ('s. ', 460),\n",
       " ('n, ', 320),\n",
       " (' Mi', 283),\n",
       " ('iss', 261),\n",
       " ('ss.', 261),\n",
       " ('Mis', 260)]"
      ]
     },
     "execution_count": 18,
     "metadata": {},
     "output_type": "execute_result"
    }
   ],
   "source": [
    "\n",
    "\n",
    "\n",
    "c = Counter()\n",
    "\n",
    "def triples(val):\n",
    "    for i in range(len(val)):\n",
    "        c[val[i : i + 3]] += 1\n",
    "        \n",
    "\n",
    "titanic_df['name'].apply(triples)\n",
    "\n",
    "c.most_common(10)"
   ]
  },
  {
   "cell_type": "markdown",
   "metadata": {},
   "source": [
    "> Another option is to use a regular expression to pull out the capital letter\n",
    "followed by lowercase letters and a period:"
   ]
  },
  {
   "cell_type": "code",
   "execution_count": 19,
   "metadata": {},
   "outputs": [
    {
     "data": {
      "text/plain": [
       "Mr          757\n",
       "Miss        260\n",
       "Mrs         197\n",
       "Master       61\n",
       "Rev           8\n",
       "Dr            8\n",
       "Col           4\n",
       "Mlle          2\n",
       "Ms            2\n",
       "Major         2\n",
       "Capt          1\n",
       "Sir           1\n",
       "Dona          1\n",
       "Jonkheer      1\n",
       "Countess      1\n",
       "Don           1\n",
       "Mme           1\n",
       "Lady          1\n",
       "Name: name, dtype: int64"
      ]
     },
     "execution_count": 19,
     "metadata": {},
     "output_type": "execute_result"
    }
   ],
   "source": [
    "# Using regex to pull out data\n",
    "\n",
    "(\n",
    "    titanic_df['name']\n",
    "    # Pull out the capital letter followed by lowercase letters\n",
    "    .str.extract('([A-Za-z]+)\\.', expand=False)\n",
    "    # Lets get the value count for the extracted data\n",
    "    .value_counts()\n",
    ")"
   ]
  },
  {
   "cell_type": "markdown",
   "metadata": {},
   "source": [
    "## Manual Feature Engineering\n",
    "\n",
    "We can use pandas to generate new features. For the titanic dataset, we can add aggregate cabin data. Using hte pandas `groupby` method, we can create data and merge it back in, aligning it back to the original data using the `.merge()` method."
   ]
  },
  {
   "cell_type": "code",
   "execution_count": 20,
   "metadata": {},
   "outputs": [
    {
     "name": "stderr",
     "output_type": "stream",
     "text": [
      "C:\\Users\\INNO\\AppData\\Local\\Temp\\ipykernel_10328\\1134747707.py:2: FutureWarning: ['name', 'sex', 'ticket', 'embarked', 'boat', 'home.dest'] did not aggregate successfully. If any error is raised this will raise in a future version of pandas. Drop these columns/ops to avoid this warning.\n",
      "  titanic_df\n"
     ]
    }
   ],
   "source": [
    "agg = (\n",
    "    titanic_df\n",
    "    # Groupby the cabin\n",
    "    .groupby('cabin')\n",
    "    # Find the aggregates of each cabin group\n",
    "    .agg(['min', 'max', 'mean', 'sum'])\n",
    "    # Rest the index\n",
    "    .reset_index()\n",
    "      )"
   ]
  },
  {
   "cell_type": "code",
   "execution_count": 21,
   "metadata": {},
   "outputs": [
    {
     "data": {
      "text/html": [
       "<div>\n",
       "<style scoped>\n",
       "    .dataframe tbody tr th:only-of-type {\n",
       "        vertical-align: middle;\n",
       "    }\n",
       "\n",
       "    .dataframe tbody tr th {\n",
       "        vertical-align: top;\n",
       "    }\n",
       "\n",
       "    .dataframe thead th {\n",
       "        text-align: right;\n",
       "    }\n",
       "</style>\n",
       "<table border=\"1\" class=\"dataframe\">\n",
       "  <thead>\n",
       "    <tr style=\"text-align: right;\">\n",
       "      <th></th>\n",
       "      <th>pclass</th>\n",
       "      <th>survived</th>\n",
       "      <th>name</th>\n",
       "      <th>sex</th>\n",
       "      <th>age</th>\n",
       "      <th>sibsp</th>\n",
       "      <th>parch</th>\n",
       "      <th>ticket</th>\n",
       "      <th>fare</th>\n",
       "      <th>cabin</th>\n",
       "      <th>...</th>\n",
       "      <th>parch_mean</th>\n",
       "      <th>parch_sum</th>\n",
       "      <th>fare_min</th>\n",
       "      <th>fare_max</th>\n",
       "      <th>fare_mean</th>\n",
       "      <th>fare_sum</th>\n",
       "      <th>body_min</th>\n",
       "      <th>body_max</th>\n",
       "      <th>body_mean</th>\n",
       "      <th>body_sum</th>\n",
       "    </tr>\n",
       "  </thead>\n",
       "  <tbody>\n",
       "    <tr>\n",
       "      <th>0</th>\n",
       "      <td>1</td>\n",
       "      <td>1</td>\n",
       "      <td>Allen, Miss. Elisabeth Walton</td>\n",
       "      <td>female</td>\n",
       "      <td>29.0000</td>\n",
       "      <td>0</td>\n",
       "      <td>0</td>\n",
       "      <td>24160</td>\n",
       "      <td>211.3375</td>\n",
       "      <td>B5</td>\n",
       "      <td>...</td>\n",
       "      <td>0.5</td>\n",
       "      <td>1</td>\n",
       "      <td>211.3375</td>\n",
       "      <td>211.3375</td>\n",
       "      <td>211.3375</td>\n",
       "      <td>422.675</td>\n",
       "      <td>NaN</td>\n",
       "      <td>NaN</td>\n",
       "      <td>NaN</td>\n",
       "      <td>0.0</td>\n",
       "    </tr>\n",
       "    <tr>\n",
       "      <th>1</th>\n",
       "      <td>1</td>\n",
       "      <td>1</td>\n",
       "      <td>Madill, Miss. Georgette Alexandra</td>\n",
       "      <td>female</td>\n",
       "      <td>15.0000</td>\n",
       "      <td>0</td>\n",
       "      <td>1</td>\n",
       "      <td>24160</td>\n",
       "      <td>211.3375</td>\n",
       "      <td>B5</td>\n",
       "      <td>...</td>\n",
       "      <td>0.5</td>\n",
       "      <td>1</td>\n",
       "      <td>211.3375</td>\n",
       "      <td>211.3375</td>\n",
       "      <td>211.3375</td>\n",
       "      <td>422.675</td>\n",
       "      <td>NaN</td>\n",
       "      <td>NaN</td>\n",
       "      <td>NaN</td>\n",
       "      <td>0.0</td>\n",
       "    </tr>\n",
       "    <tr>\n",
       "      <th>2</th>\n",
       "      <td>1</td>\n",
       "      <td>1</td>\n",
       "      <td>Allison, Master. Hudson Trevor</td>\n",
       "      <td>male</td>\n",
       "      <td>0.9167</td>\n",
       "      <td>1</td>\n",
       "      <td>2</td>\n",
       "      <td>113781</td>\n",
       "      <td>151.5500</td>\n",
       "      <td>C22 C26</td>\n",
       "      <td>...</td>\n",
       "      <td>2.0</td>\n",
       "      <td>8</td>\n",
       "      <td>151.5500</td>\n",
       "      <td>151.5500</td>\n",
       "      <td>151.5500</td>\n",
       "      <td>606.200</td>\n",
       "      <td>135.0</td>\n",
       "      <td>135.0</td>\n",
       "      <td>135.0</td>\n",
       "      <td>135.0</td>\n",
       "    </tr>\n",
       "    <tr>\n",
       "      <th>3</th>\n",
       "      <td>1</td>\n",
       "      <td>0</td>\n",
       "      <td>Allison, Miss. Helen Loraine</td>\n",
       "      <td>female</td>\n",
       "      <td>2.0000</td>\n",
       "      <td>1</td>\n",
       "      <td>2</td>\n",
       "      <td>113781</td>\n",
       "      <td>151.5500</td>\n",
       "      <td>C22 C26</td>\n",
       "      <td>...</td>\n",
       "      <td>2.0</td>\n",
       "      <td>8</td>\n",
       "      <td>151.5500</td>\n",
       "      <td>151.5500</td>\n",
       "      <td>151.5500</td>\n",
       "      <td>606.200</td>\n",
       "      <td>135.0</td>\n",
       "      <td>135.0</td>\n",
       "      <td>135.0</td>\n",
       "      <td>135.0</td>\n",
       "    </tr>\n",
       "    <tr>\n",
       "      <th>4</th>\n",
       "      <td>1</td>\n",
       "      <td>0</td>\n",
       "      <td>Allison, Mr. Hudson Joshua Creighton</td>\n",
       "      <td>male</td>\n",
       "      <td>30.0000</td>\n",
       "      <td>1</td>\n",
       "      <td>2</td>\n",
       "      <td>113781</td>\n",
       "      <td>151.5500</td>\n",
       "      <td>C22 C26</td>\n",
       "      <td>...</td>\n",
       "      <td>2.0</td>\n",
       "      <td>8</td>\n",
       "      <td>151.5500</td>\n",
       "      <td>151.5500</td>\n",
       "      <td>151.5500</td>\n",
       "      <td>606.200</td>\n",
       "      <td>135.0</td>\n",
       "      <td>135.0</td>\n",
       "      <td>135.0</td>\n",
       "      <td>135.0</td>\n",
       "    </tr>\n",
       "  </tbody>\n",
       "</table>\n",
       "<p>5 rows × 42 columns</p>\n",
       "</div>"
      ],
      "text/plain": [
       "   pclass  survived                                  name     sex      age  \\\n",
       "0       1         1         Allen, Miss. Elisabeth Walton  female  29.0000   \n",
       "1       1         1     Madill, Miss. Georgette Alexandra  female  15.0000   \n",
       "2       1         1        Allison, Master. Hudson Trevor    male   0.9167   \n",
       "3       1         0          Allison, Miss. Helen Loraine  female   2.0000   \n",
       "4       1         0  Allison, Mr. Hudson Joshua Creighton    male  30.0000   \n",
       "\n",
       "   sibsp  parch  ticket      fare    cabin  ... parch_mean parch_sum  \\\n",
       "0      0      0   24160  211.3375       B5  ...        0.5         1   \n",
       "1      0      1   24160  211.3375       B5  ...        0.5         1   \n",
       "2      1      2  113781  151.5500  C22 C26  ...        2.0         8   \n",
       "3      1      2  113781  151.5500  C22 C26  ...        2.0         8   \n",
       "4      1      2  113781  151.5500  C22 C26  ...        2.0         8   \n",
       "\n",
       "   fare_min  fare_max  fare_mean  fare_sum  body_min  body_max  body_mean  \\\n",
       "0  211.3375  211.3375   211.3375   422.675       NaN       NaN        NaN   \n",
       "1  211.3375  211.3375   211.3375   422.675       NaN       NaN        NaN   \n",
       "2  151.5500  151.5500   151.5500   606.200     135.0     135.0      135.0   \n",
       "3  151.5500  151.5500   151.5500   606.200     135.0     135.0      135.0   \n",
       "4  151.5500  151.5500   151.5500   606.200     135.0     135.0      135.0   \n",
       "\n",
       "   body_sum  \n",
       "0       0.0  \n",
       "1       0.0  \n",
       "2     135.0  \n",
       "3     135.0  \n",
       "4     135.0  \n",
       "\n",
       "[5 rows x 42 columns]"
      ]
     },
     "execution_count": 21,
     "metadata": {},
     "output_type": "execute_result"
    }
   ],
   "source": [
    "agg.columns = [\n",
    "    '_'.join(col).strip('_') for col in agg.columns.values\n",
    "              ]\n",
    "\n",
    "agg_df = titanic_df.merge(agg, on='cabin')\n",
    "\n",
    "agg_df.head()"
   ]
  },
  {
   "cell_type": "markdown",
   "metadata": {},
   "source": [
    "# Feature Selection\n",
    "\n",
    "We use feature selection to select features that are useful to the model.\n",
    "Irrelevant features may have a negative effect on a model. Correlated\n",
    "features can make coefficients in regression (or feature importance in tree\n",
    "models) unstable or difficult to interpret.\n",
    "\n",
    "\n",
    "The curse of dimensionality is another issue to consider. As you increase the\n",
    "number of dimensions of your data, it becomes more sparse. This can make\n",
    "it difficult to pull out a signal unless you have more data. Neighbor\n",
    "calculations tend to lose their usefulness as more dimensions are added.\n",
    "\n",
    "\n",
    "Also, training time is usually a function of the number of columns (and\n",
    "sometimes it is worse than linear). If you can be concise and precise with\n",
    "your columns, you can have a better model in less time. We"
   ]
  },
  {
   "cell_type": "code",
   "execution_count": 22,
   "metadata": {},
   "outputs": [
    {
     "data": {
      "text/html": [
       "<div>\n",
       "<style scoped>\n",
       "    .dataframe tbody tr th:only-of-type {\n",
       "        vertical-align: middle;\n",
       "    }\n",
       "\n",
       "    .dataframe tbody tr th {\n",
       "        vertical-align: top;\n",
       "    }\n",
       "\n",
       "    .dataframe thead th {\n",
       "        text-align: right;\n",
       "    }\n",
       "</style>\n",
       "<table border=\"1\" class=\"dataframe\">\n",
       "  <thead>\n",
       "    <tr style=\"text-align: right;\">\n",
       "      <th></th>\n",
       "      <th>pclass</th>\n",
       "      <th>survived</th>\n",
       "      <th>age</th>\n",
       "      <th>sibsp</th>\n",
       "      <th>parch</th>\n",
       "      <th>fare</th>\n",
       "      <th>body</th>\n",
       "      <th>pclass_min</th>\n",
       "      <th>pclass_max</th>\n",
       "      <th>pclass_mean</th>\n",
       "      <th>...</th>\n",
       "      <th>parch_mean</th>\n",
       "      <th>parch_sum</th>\n",
       "      <th>fare_min</th>\n",
       "      <th>fare_max</th>\n",
       "      <th>fare_mean</th>\n",
       "      <th>fare_sum</th>\n",
       "      <th>body_min</th>\n",
       "      <th>body_max</th>\n",
       "      <th>body_mean</th>\n",
       "      <th>body_sum</th>\n",
       "    </tr>\n",
       "  </thead>\n",
       "  <tbody>\n",
       "    <tr>\n",
       "      <th>pclass</th>\n",
       "      <td>NaN</td>\n",
       "      <td>-0.013737</td>\n",
       "      <td>-0.338608</td>\n",
       "      <td>-0.110235</td>\n",
       "      <td>0.031053</td>\n",
       "      <td>-0.313012</td>\n",
       "      <td>-0.001275</td>\n",
       "      <td>1.000000</td>\n",
       "      <td>1.000000</td>\n",
       "      <td>1.000000</td>\n",
       "      <td>...</td>\n",
       "      <td>0.033058</td>\n",
       "      <td>0.067205</td>\n",
       "      <td>-0.333985</td>\n",
       "      <td>-0.304595</td>\n",
       "      <td>-0.328897</td>\n",
       "      <td>-0.184594</td>\n",
       "      <td>-0.093504</td>\n",
       "      <td>-0.093504</td>\n",
       "      <td>-0.093504</td>\n",
       "      <td>0.039864</td>\n",
       "    </tr>\n",
       "    <tr>\n",
       "      <th>survived</th>\n",
       "      <td>NaN</td>\n",
       "      <td>NaN</td>\n",
       "      <td>-0.207643</td>\n",
       "      <td>0.147828</td>\n",
       "      <td>0.095863</td>\n",
       "      <td>0.104499</td>\n",
       "      <td>NaN</td>\n",
       "      <td>-0.013737</td>\n",
       "      <td>-0.013737</td>\n",
       "      <td>-0.013737</td>\n",
       "      <td>...</td>\n",
       "      <td>0.089167</td>\n",
       "      <td>0.063053</td>\n",
       "      <td>0.077773</td>\n",
       "      <td>0.071811</td>\n",
       "      <td>0.076971</td>\n",
       "      <td>0.065400</td>\n",
       "      <td>-0.065309</td>\n",
       "      <td>-0.065309</td>\n",
       "      <td>-0.065309</td>\n",
       "      <td>-0.379099</td>\n",
       "    </tr>\n",
       "    <tr>\n",
       "      <th>age</th>\n",
       "      <td>NaN</td>\n",
       "      <td>NaN</td>\n",
       "      <td>NaN</td>\n",
       "      <td>-0.080817</td>\n",
       "      <td>-0.161294</td>\n",
       "      <td>0.013872</td>\n",
       "      <td>0.047948</td>\n",
       "      <td>-0.338608</td>\n",
       "      <td>-0.338608</td>\n",
       "      <td>-0.338608</td>\n",
       "      <td>...</td>\n",
       "      <td>-0.219792</td>\n",
       "      <td>-0.224602</td>\n",
       "      <td>-0.016911</td>\n",
       "      <td>0.006568</td>\n",
       "      <td>-0.000427</td>\n",
       "      <td>-0.067864</td>\n",
       "      <td>0.190493</td>\n",
       "      <td>0.190493</td>\n",
       "      <td>0.190493</td>\n",
       "      <td>0.134186</td>\n",
       "    </tr>\n",
       "    <tr>\n",
       "      <th>sibsp</th>\n",
       "      <td>NaN</td>\n",
       "      <td>NaN</td>\n",
       "      <td>NaN</td>\n",
       "      <td>NaN</td>\n",
       "      <td>0.266089</td>\n",
       "      <td>0.279720</td>\n",
       "      <td>0.040477</td>\n",
       "      <td>-0.110235</td>\n",
       "      <td>-0.110235</td>\n",
       "      <td>-0.110235</td>\n",
       "      <td>...</td>\n",
       "      <td>0.372616</td>\n",
       "      <td>0.512242</td>\n",
       "      <td>0.335545</td>\n",
       "      <td>0.254082</td>\n",
       "      <td>0.292785</td>\n",
       "      <td>0.516349</td>\n",
       "      <td>-0.089987</td>\n",
       "      <td>-0.089987</td>\n",
       "      <td>-0.089987</td>\n",
       "      <td>-0.058475</td>\n",
       "    </tr>\n",
       "    <tr>\n",
       "      <th>parch</th>\n",
       "      <td>NaN</td>\n",
       "      <td>NaN</td>\n",
       "      <td>NaN</td>\n",
       "      <td>NaN</td>\n",
       "      <td>NaN</td>\n",
       "      <td>0.391883</td>\n",
       "      <td>-0.145454</td>\n",
       "      <td>0.031053</td>\n",
       "      <td>0.031053</td>\n",
       "      <td>0.031053</td>\n",
       "      <td>...</td>\n",
       "      <td>0.939334</td>\n",
       "      <td>0.824436</td>\n",
       "      <td>0.401671</td>\n",
       "      <td>0.360905</td>\n",
       "      <td>0.390905</td>\n",
       "      <td>0.604844</td>\n",
       "      <td>-0.114803</td>\n",
       "      <td>-0.114803</td>\n",
       "      <td>-0.114803</td>\n",
       "      <td>-0.027587</td>\n",
       "    </tr>\n",
       "  </tbody>\n",
       "</table>\n",
       "<p>5 rows × 35 columns</p>\n",
       "</div>"
      ],
      "text/plain": [
       "          pclass  survived       age     sibsp     parch      fare      body  \\\n",
       "pclass       NaN -0.013737 -0.338608 -0.110235  0.031053 -0.313012 -0.001275   \n",
       "survived     NaN       NaN -0.207643  0.147828  0.095863  0.104499       NaN   \n",
       "age          NaN       NaN       NaN -0.080817 -0.161294  0.013872  0.047948   \n",
       "sibsp        NaN       NaN       NaN       NaN  0.266089  0.279720  0.040477   \n",
       "parch        NaN       NaN       NaN       NaN       NaN  0.391883 -0.145454   \n",
       "\n",
       "          pclass_min  pclass_max  pclass_mean  ...  parch_mean  parch_sum  \\\n",
       "pclass      1.000000    1.000000     1.000000  ...    0.033058   0.067205   \n",
       "survived   -0.013737   -0.013737    -0.013737  ...    0.089167   0.063053   \n",
       "age        -0.338608   -0.338608    -0.338608  ...   -0.219792  -0.224602   \n",
       "sibsp      -0.110235   -0.110235    -0.110235  ...    0.372616   0.512242   \n",
       "parch       0.031053    0.031053     0.031053  ...    0.939334   0.824436   \n",
       "\n",
       "          fare_min  fare_max  fare_mean  fare_sum  body_min  body_max  \\\n",
       "pclass   -0.333985 -0.304595  -0.328897 -0.184594 -0.093504 -0.093504   \n",
       "survived  0.077773  0.071811   0.076971  0.065400 -0.065309 -0.065309   \n",
       "age      -0.016911  0.006568  -0.000427 -0.067864  0.190493  0.190493   \n",
       "sibsp     0.335545  0.254082   0.292785  0.516349 -0.089987 -0.089987   \n",
       "parch     0.401671  0.360905   0.390905  0.604844 -0.114803 -0.114803   \n",
       "\n",
       "          body_mean  body_sum  \n",
       "pclass    -0.093504  0.039864  \n",
       "survived  -0.065309 -0.379099  \n",
       "age        0.190493  0.134186  \n",
       "sibsp     -0.089987 -0.058475  \n",
       "parch     -0.114803 -0.027587  \n",
       "\n",
       "[5 rows x 35 columns]"
      ]
     },
     "execution_count": 22,
     "metadata": {},
     "output_type": "execute_result"
    }
   ],
   "source": [
    "limit = 0.95\n",
    "\n",
    "corr = agg_df.corr()\n",
    "\n",
    "mask = np.triu(\n",
    "        np.ones(corr.shape), k = 1\n",
    "              ).astype(bool)\n",
    "\n",
    "corr_no_diag = corr.where(mask)\n",
    "\n",
    "corr_no_diag.head()"
   ]
  },
  {
   "cell_type": "code",
   "execution_count": 23,
   "metadata": {},
   "outputs": [
    {
     "data": {
      "text/plain": [
       "['pclass_min',\n",
       " 'pclass_max',\n",
       " 'pclass_mean',\n",
       " 'sibsp_mean',\n",
       " 'parch_mean',\n",
       " 'fare_mean',\n",
       " 'body_min',\n",
       " 'body_max',\n",
       " 'body_mean',\n",
       " 'body_sum']"
      ]
     },
     "execution_count": 23,
     "metadata": {},
     "output_type": "execute_result"
    }
   ],
   "source": [
    "coll = [\n",
    "        col for col in corr_no_diag.columns\n",
    "        if any(abs(corr_no_diag[col]) > limit)\n",
    "       ]\n",
    "\n",
    "coll"
   ]
  },
  {
   "cell_type": "markdown",
   "metadata": {},
   "source": [
    "The `rfpimp` package has a visualization of multicollinearity. The\n",
    "plot_dependence_heatmap function trains a random forest for each\n",
    "numeric column from the other columns in a training dataset. The\n",
    "dependence value is the R2 score from the out-of-bag (OOB) estimates for\n",
    "predicting that column.\n",
    "\n",
    "\n",
    "The suggested way to use this plot is to find values close to 1. The label on\n",
    "the X axis is the feature that predicts the Y axis label. If a feature predicts\n",
    "another, you can remove the predicted feature (the feature on the Y axis)."
   ]
  },
  {
   "cell_type": "code",
   "execution_count": 24,
   "metadata": {},
   "outputs": [
    {
     "data": {
      "image/svg+xml": "<?xml version=\"1.0\" encoding=\"utf-8\" standalone=\"no\"?>\n<!DOCTYPE svg PUBLIC \"-//W3C//DTD SVG 1.1//EN\"\n  \"http://www.w3.org/Graphics/SVG/1.1/DTD/svg11.dtd\">\n<svg xmlns:xlink=\"http://www.w3.org/1999/xlink\" width=\"842.659375pt\" height=\"738.656524pt\" viewBox=\"0 0 842.659375 738.656524\" xmlns=\"http://www.w3.org/2000/svg\" version=\"1.1\">\n <metadata>\n  <rdf:RDF xmlns:dc=\"http://purl.org/dc/elements/1.1/\" xmlns:cc=\"http://creativecommons.org/ns#\" xmlns:rdf=\"http://www.w3.org/1999/02/22-rdf-syntax-ns#\">\n   <cc:Work>\n    <dc:type rdf:resource=\"http://purl.org/dc/dcmitype/StillImage\"/>\n    <dc:date>2022-08-26T22:24:23.593638</dc:date>\n    <dc:format>image/svg+xml</dc:format>\n    <dc:creator>\n     <cc:Agent>\n      <dc:title>Matplotlib v3.5.2, https://matplotlib.org/</dc:title>\n     </cc:Agent>\n    </dc:creator>\n   </cc:Work>\n  </rdf:RDF>\n </metadata>\n <defs>\n  <style type=\"text/css\">*{stroke-linejoin: round; stroke-linecap: butt}</style>\n </defs>\n <g id=\"figure_1\">\n  <g id=\"patch_1\">\n   <path d=\"M 0 738.656524 \nL 842.659375 738.656524 \nL 842.659375 0 \nL 0 0 \nL 0 738.656524 \nz\n\" style=\"fill: none\"/>\n  </g>\n  <g id=\"axes_1\">\n   <g id=\"patch_2\">\n    <path d=\"M 87.924375 641.922013 \nL 759.965725 641.922013 \nL 759.965725 44.551924 \nL 87.924375 44.551924 \nz\n\" style=\"fill: #ffffff\"/>\n   </g>\n   <g clip-path=\"url(#pa52f1c7bf7)\">\n    <image xlink:href=\"data:image/png;base64,\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\" id=\"imagef9a3de43f5\" transform=\"scale(1 -1)translate(0 -598)\" x=\"87.924375\" y=\"-43.922013\" width=\"673\" height=\"598\"/>\n   </g>\n   <g id=\"matplotlib.axis_1\">\n    <g id=\"xtick_1\">\n     <g id=\"line2d_1\">\n      <path d=\"M 125.260006 641.922013 \nL 125.260006 44.551924 \n\" clip-path=\"url(#pa52f1c7bf7)\" style=\"fill: none; stroke: #cccccc; stroke-opacity: 0.25; stroke-linecap: round\"/>\n     </g>\n     <g id=\"line2d_2\"/>\n     <g id=\"text_1\">\n      <!-- $\\bf Dependence$ -->\n      <g style=\"fill: #444443\" transform=\"translate(88.979335 737.650984)rotate(-70)scale(0.14 -0.14)\">\n       <defs>\n        <path id=\"DejaVuSans-Bold-44\" d=\"M 1791 3756 \nL 1791 909 \nL 2222 909 \nQ 2959 909 3348 1275 \nQ 3738 1641 3738 2338 \nQ 3738 3031 3350 3393 \nQ 2963 3756 2222 3756 \nL 1791 3756 \nz\nM 588 4666 \nL 1856 4666 \nQ 2919 4666 3439 4514 \nQ 3959 4363 4331 4000 \nQ 4659 3684 4818 3271 \nQ 4978 2859 4978 2338 \nQ 4978 1809 4818 1395 \nQ 4659 981 4331 666 \nQ 3956 303 3431 151 \nQ 2906 0 1856 0 \nL 588 0 \nL 588 4666 \nz\n\" transform=\"scale(0.015625)\"/>\n        <path id=\"DejaVuSans-Bold-65\" d=\"M 4031 1759 \nL 4031 1441 \nL 1416 1441 \nQ 1456 1047 1700 850 \nQ 1944 653 2381 653 \nQ 2734 653 3104 758 \nQ 3475 863 3866 1075 \nL 3866 213 \nQ 3469 63 3072 -14 \nQ 2675 -91 2278 -91 \nQ 1328 -91 801 392 \nQ 275 875 275 1747 \nQ 275 2603 792 3093 \nQ 1309 3584 2216 3584 \nQ 3041 3584 3536 3087 \nQ 4031 2591 4031 1759 \nz\nM 2881 2131 \nQ 2881 2450 2695 2645 \nQ 2509 2841 2209 2841 \nQ 1884 2841 1681 2658 \nQ 1478 2475 1428 2131 \nL 2881 2131 \nz\n\" transform=\"scale(0.015625)\"/>\n        <path id=\"DejaVuSans-Bold-70\" d=\"M 1656 506 \nL 1656 -1331 \nL 538 -1331 \nL 538 3500 \nL 1656 3500 \nL 1656 2988 \nQ 1888 3294 2169 3439 \nQ 2450 3584 2816 3584 \nQ 3463 3584 3878 3070 \nQ 4294 2556 4294 1747 \nQ 4294 938 3878 423 \nQ 3463 -91 2816 -91 \nQ 2450 -91 2169 54 \nQ 1888 200 1656 506 \nz\nM 2400 2772 \nQ 2041 2772 1848 2508 \nQ 1656 2244 1656 1747 \nQ 1656 1250 1848 986 \nQ 2041 722 2400 722 \nQ 2759 722 2948 984 \nQ 3138 1247 3138 1747 \nQ 3138 2247 2948 2509 \nQ 2759 2772 2400 2772 \nz\n\" transform=\"scale(0.015625)\"/>\n        <path id=\"DejaVuSans-Bold-6e\" d=\"M 4056 2131 \nL 4056 0 \nL 2931 0 \nL 2931 347 \nL 2931 1631 \nQ 2931 2084 2911 2256 \nQ 2891 2428 2841 2509 \nQ 2775 2619 2662 2680 \nQ 2550 2741 2406 2741 \nQ 2056 2741 1856 2470 \nQ 1656 2200 1656 1722 \nL 1656 0 \nL 538 0 \nL 538 3500 \nL 1656 3500 \nL 1656 2988 \nQ 1909 3294 2193 3439 \nQ 2478 3584 2822 3584 \nQ 3428 3584 3742 3212 \nQ 4056 2841 4056 2131 \nz\n\" transform=\"scale(0.015625)\"/>\n        <path id=\"DejaVuSans-Bold-64\" d=\"M 2919 2988 \nL 2919 4863 \nL 4044 4863 \nL 4044 0 \nL 2919 0 \nL 2919 506 \nQ 2688 197 2409 53 \nQ 2131 -91 1766 -91 \nQ 1119 -91 703 423 \nQ 288 938 288 1747 \nQ 288 2556 703 3070 \nQ 1119 3584 1766 3584 \nQ 2128 3584 2408 3439 \nQ 2688 3294 2919 2988 \nz\nM 2181 722 \nQ 2541 722 2730 984 \nQ 2919 1247 2919 1747 \nQ 2919 2247 2730 2509 \nQ 2541 2772 2181 2772 \nQ 1825 2772 1636 2509 \nQ 1447 2247 1447 1747 \nQ 1447 1247 1636 984 \nQ 1825 722 2181 722 \nz\n\" transform=\"scale(0.015625)\"/>\n        <path id=\"DejaVuSans-Bold-63\" d=\"M 3366 3391 \nL 3366 2478 \nQ 3138 2634 2908 2709 \nQ 2678 2784 2431 2784 \nQ 1963 2784 1702 2511 \nQ 1441 2238 1441 1747 \nQ 1441 1256 1702 982 \nQ 1963 709 2431 709 \nQ 2694 709 2930 787 \nQ 3166 866 3366 1019 \nL 3366 103 \nQ 3103 6 2833 -42 \nQ 2563 -91 2291 -91 \nQ 1344 -91 809 395 \nQ 275 881 275 1747 \nQ 275 2613 809 3098 \nQ 1344 3584 2291 3584 \nQ 2566 3584 2833 3536 \nQ 3100 3488 3366 3391 \nz\n\" transform=\"scale(0.015625)\"/>\n       </defs>\n       <use xlink:href=\"#DejaVuSans-Bold-44\" transform=\"translate(0 0.015625)\"/>\n       <use xlink:href=\"#DejaVuSans-Bold-65\" transform=\"translate(83.007812 0.015625)\"/>\n       <use xlink:href=\"#DejaVuSans-Bold-70\" transform=\"translate(150.830078 0.015625)\"/>\n       <use xlink:href=\"#DejaVuSans-Bold-65\" transform=\"translate(222.412109 0.015625)\"/>\n       <use xlink:href=\"#DejaVuSans-Bold-6e\" transform=\"translate(290.234375 0.015625)\"/>\n       <use xlink:href=\"#DejaVuSans-Bold-64\" transform=\"translate(361.425781 0.015625)\"/>\n       <use xlink:href=\"#DejaVuSans-Bold-65\" transform=\"translate(433.007812 0.015625)\"/>\n       <use xlink:href=\"#DejaVuSans-Bold-6e\" transform=\"translate(500.830078 0.015625)\"/>\n       <use xlink:href=\"#DejaVuSans-Bold-63\" transform=\"translate(572.021484 0.015625)\"/>\n       <use xlink:href=\"#DejaVuSans-Bold-65\" transform=\"translate(631.298828 0.015625)\"/>\n      </g>\n     </g>\n    </g>\n    <g id=\"xtick_2\">\n     <g id=\"line2d_3\">\n      <path d=\"M 199.931267 641.922013 \nL 199.931267 44.551924 \n\" clip-path=\"url(#pa52f1c7bf7)\" style=\"fill: none; stroke: #cccccc; stroke-opacity: 0.25; stroke-linecap: round\"/>\n     </g>\n     <g id=\"line2d_4\"/>\n     <g id=\"text_2\">\n      <!-- pclass -->\n      <g style=\"fill: #444443\" transform=\"translate(183.744785 682.637553)rotate(-70)scale(0.14 -0.14)\">\n       <defs>\n        <path id=\"ArialMT-70\" d=\"M 422 -1272 \nL 422 3319 \nL 934 3319 \nL 934 2888 \nQ 1116 3141 1344 3267 \nQ 1572 3394 1897 3394 \nQ 2322 3394 2647 3175 \nQ 2972 2956 3137 2557 \nQ 3303 2159 3303 1684 \nQ 3303 1175 3120 767 \nQ 2938 359 2589 142 \nQ 2241 -75 1856 -75 \nQ 1575 -75 1351 44 \nQ 1128 163 984 344 \nL 984 -1272 \nL 422 -1272 \nz\nM 931 1641 \nQ 931 1000 1190 694 \nQ 1450 388 1819 388 \nQ 2194 388 2461 705 \nQ 2728 1022 2728 1688 \nQ 2728 2322 2467 2637 \nQ 2206 2953 1844 2953 \nQ 1484 2953 1207 2617 \nQ 931 2281 931 1641 \nz\n\" transform=\"scale(0.015625)\"/>\n        <path id=\"ArialMT-63\" d=\"M 2588 1216 \nL 3141 1144 \nQ 3050 572 2676 248 \nQ 2303 -75 1759 -75 \nQ 1078 -75 664 370 \nQ 250 816 250 1647 \nQ 250 2184 428 2587 \nQ 606 2991 970 3192 \nQ 1334 3394 1763 3394 \nQ 2303 3394 2647 3120 \nQ 2991 2847 3088 2344 \nL 2541 2259 \nQ 2463 2594 2264 2762 \nQ 2066 2931 1784 2931 \nQ 1359 2931 1093 2626 \nQ 828 2322 828 1663 \nQ 828 994 1084 691 \nQ 1341 388 1753 388 \nQ 2084 388 2306 591 \nQ 2528 794 2588 1216 \nz\n\" transform=\"scale(0.015625)\"/>\n        <path id=\"ArialMT-6c\" d=\"M 409 0 \nL 409 4581 \nL 972 4581 \nL 972 0 \nL 409 0 \nz\n\" transform=\"scale(0.015625)\"/>\n        <path id=\"ArialMT-61\" d=\"M 2588 409 \nQ 2275 144 1986 34 \nQ 1697 -75 1366 -75 \nQ 819 -75 525 192 \nQ 231 459 231 875 \nQ 231 1119 342 1320 \nQ 453 1522 633 1644 \nQ 813 1766 1038 1828 \nQ 1203 1872 1538 1913 \nQ 2219 1994 2541 2106 \nQ 2544 2222 2544 2253 \nQ 2544 2597 2384 2738 \nQ 2169 2928 1744 2928 \nQ 1347 2928 1158 2789 \nQ 969 2650 878 2297 \nL 328 2372 \nQ 403 2725 575 2942 \nQ 747 3159 1072 3276 \nQ 1397 3394 1825 3394 \nQ 2250 3394 2515 3294 \nQ 2781 3194 2906 3042 \nQ 3031 2891 3081 2659 \nQ 3109 2516 3109 2141 \nL 3109 1391 \nQ 3109 606 3145 398 \nQ 3181 191 3288 0 \nL 2700 0 \nQ 2613 175 2588 409 \nz\nM 2541 1666 \nQ 2234 1541 1622 1453 \nQ 1275 1403 1131 1340 \nQ 988 1278 909 1158 \nQ 831 1038 831 891 \nQ 831 666 1001 516 \nQ 1172 366 1500 366 \nQ 1825 366 2078 508 \nQ 2331 650 2450 897 \nQ 2541 1088 2541 1459 \nL 2541 1666 \nz\n\" transform=\"scale(0.015625)\"/>\n        <path id=\"ArialMT-73\" d=\"M 197 991 \nL 753 1078 \nQ 800 744 1014 566 \nQ 1228 388 1613 388 \nQ 2000 388 2187 545 \nQ 2375 703 2375 916 \nQ 2375 1106 2209 1216 \nQ 2094 1291 1634 1406 \nQ 1016 1563 777 1677 \nQ 538 1791 414 1992 \nQ 291 2194 291 2438 \nQ 291 2659 392 2848 \nQ 494 3038 669 3163 \nQ 800 3259 1026 3326 \nQ 1253 3394 1513 3394 \nQ 1903 3394 2198 3281 \nQ 2494 3169 2634 2976 \nQ 2775 2784 2828 2463 \nL 2278 2388 \nQ 2241 2644 2061 2787 \nQ 1881 2931 1553 2931 \nQ 1166 2931 1000 2803 \nQ 834 2675 834 2503 \nQ 834 2394 903 2306 \nQ 972 2216 1119 2156 \nQ 1203 2125 1616 2013 \nQ 2213 1853 2448 1751 \nQ 2684 1650 2818 1456 \nQ 2953 1263 2953 975 \nQ 2953 694 2789 445 \nQ 2625 197 2315 61 \nQ 2006 -75 1616 -75 \nQ 969 -75 630 194 \nQ 291 463 197 991 \nz\n\" transform=\"scale(0.015625)\"/>\n       </defs>\n       <use xlink:href=\"#ArialMT-70\"/>\n       <use xlink:href=\"#ArialMT-63\" x=\"55.615234\"/>\n       <use xlink:href=\"#ArialMT-6c\" x=\"105.615234\"/>\n       <use xlink:href=\"#ArialMT-61\" x=\"127.832031\"/>\n       <use xlink:href=\"#ArialMT-73\" x=\"183.447266\"/>\n       <use xlink:href=\"#ArialMT-73\" x=\"233.447266\"/>\n      </g>\n     </g>\n    </g>\n    <g id=\"xtick_3\">\n     <g id=\"line2d_5\">\n      <path d=\"M 274.602528 641.922013 \nL 274.602528 44.551924 \n\" clip-path=\"url(#pa52f1c7bf7)\" style=\"fill: none; stroke: #cccccc; stroke-opacity: 0.25; stroke-linecap: round\"/>\n     </g>\n     <g id=\"line2d_6\"/>\n     <g id=\"text_3\">\n      <!-- age -->\n      <g style=\"fill: #444443\" transform=\"translate(263.845464 667.240665)rotate(-70)scale(0.14 -0.14)\">\n       <defs>\n        <path id=\"ArialMT-67\" d=\"M 319 -275 \nL 866 -356 \nQ 900 -609 1056 -725 \nQ 1266 -881 1628 -881 \nQ 2019 -881 2231 -725 \nQ 2444 -569 2519 -288 \nQ 2563 -116 2559 434 \nQ 2191 0 1641 0 \nQ 956 0 581 494 \nQ 206 988 206 1678 \nQ 206 2153 378 2554 \nQ 550 2956 876 3175 \nQ 1203 3394 1644 3394 \nQ 2231 3394 2613 2919 \nL 2613 3319 \nL 3131 3319 \nL 3131 450 \nQ 3131 -325 2973 -648 \nQ 2816 -972 2473 -1159 \nQ 2131 -1347 1631 -1347 \nQ 1038 -1347 672 -1080 \nQ 306 -813 319 -275 \nz\nM 784 1719 \nQ 784 1066 1043 766 \nQ 1303 466 1694 466 \nQ 2081 466 2343 764 \nQ 2606 1063 2606 1700 \nQ 2606 2309 2336 2618 \nQ 2066 2928 1684 2928 \nQ 1309 2928 1046 2623 \nQ 784 2319 784 1719 \nz\n\" transform=\"scale(0.015625)\"/>\n        <path id=\"ArialMT-65\" d=\"M 2694 1069 \nL 3275 997 \nQ 3138 488 2766 206 \nQ 2394 -75 1816 -75 \nQ 1088 -75 661 373 \nQ 234 822 234 1631 \nQ 234 2469 665 2931 \nQ 1097 3394 1784 3394 \nQ 2450 3394 2872 2941 \nQ 3294 2488 3294 1666 \nQ 3294 1616 3291 1516 \nL 816 1516 \nQ 847 969 1125 678 \nQ 1403 388 1819 388 \nQ 2128 388 2347 550 \nQ 2566 713 2694 1069 \nz\nM 847 1978 \nL 2700 1978 \nQ 2663 2397 2488 2606 \nQ 2219 2931 1791 2931 \nQ 1403 2931 1139 2672 \nQ 875 2413 847 1978 \nz\n\" transform=\"scale(0.015625)\"/>\n       </defs>\n       <use xlink:href=\"#ArialMT-61\"/>\n       <use xlink:href=\"#ArialMT-67\" x=\"55.615234\"/>\n       <use xlink:href=\"#ArialMT-65\" x=\"111.230469\"/>\n      </g>\n     </g>\n    </g>\n    <g id=\"xtick_4\">\n     <g id=\"line2d_7\">\n      <path d=\"M 349.273789 641.922013 \nL 349.273789 44.551924 \n\" clip-path=\"url(#pa52f1c7bf7)\" style=\"fill: none; stroke: #cccccc; stroke-opacity: 0.25; stroke-linecap: round\"/>\n     </g>\n     <g id=\"line2d_8\"/>\n     <g id=\"text_4\">\n      <!-- sibsp -->\n      <g style=\"fill: #444443\" transform=\"translate(335.481448 676.059705)rotate(-70)scale(0.14 -0.14)\">\n       <defs>\n        <path id=\"ArialMT-69\" d=\"M 425 3934 \nL 425 4581 \nL 988 4581 \nL 988 3934 \nL 425 3934 \nz\nM 425 0 \nL 425 3319 \nL 988 3319 \nL 988 0 \nL 425 0 \nz\n\" transform=\"scale(0.015625)\"/>\n        <path id=\"ArialMT-62\" d=\"M 941 0 \nL 419 0 \nL 419 4581 \nL 981 4581 \nL 981 2947 \nQ 1338 3394 1891 3394 \nQ 2197 3394 2470 3270 \nQ 2744 3147 2920 2923 \nQ 3097 2700 3197 2384 \nQ 3297 2069 3297 1709 \nQ 3297 856 2875 390 \nQ 2453 -75 1863 -75 \nQ 1275 -75 941 416 \nL 941 0 \nz\nM 934 1684 \nQ 934 1088 1097 822 \nQ 1363 388 1816 388 \nQ 2184 388 2453 708 \nQ 2722 1028 2722 1663 \nQ 2722 2313 2464 2622 \nQ 2206 2931 1841 2931 \nQ 1472 2931 1203 2611 \nQ 934 2291 934 1684 \nz\n\" transform=\"scale(0.015625)\"/>\n       </defs>\n       <use xlink:href=\"#ArialMT-73\"/>\n       <use xlink:href=\"#ArialMT-69\" x=\"50\"/>\n       <use xlink:href=\"#ArialMT-62\" x=\"72.216797\"/>\n       <use xlink:href=\"#ArialMT-73\" x=\"127.832031\"/>\n       <use xlink:href=\"#ArialMT-70\" x=\"177.832031\"/>\n      </g>\n     </g>\n    </g>\n    <g id=\"xtick_5\">\n     <g id=\"line2d_9\">\n      <path d=\"M 423.94505 641.922013 \nL 423.94505 44.551924 \n\" clip-path=\"url(#pa52f1c7bf7)\" style=\"fill: none; stroke: #cccccc; stroke-opacity: 0.25; stroke-linecap: round\"/>\n     </g>\n     <g id=\"line2d_10\"/>\n     <g id=\"text_5\">\n      <!-- parch -->\n      <g style=\"fill: #444443\" transform=\"translate(409.353665 678.255062)rotate(-70)scale(0.14 -0.14)\">\n       <defs>\n        <path id=\"ArialMT-72\" d=\"M 416 0 \nL 416 3319 \nL 922 3319 \nL 922 2816 \nQ 1116 3169 1280 3281 \nQ 1444 3394 1641 3394 \nQ 1925 3394 2219 3213 \nL 2025 2691 \nQ 1819 2813 1613 2813 \nQ 1428 2813 1281 2702 \nQ 1134 2591 1072 2394 \nQ 978 2094 978 1738 \nL 978 0 \nL 416 0 \nz\n\" transform=\"scale(0.015625)\"/>\n        <path id=\"ArialMT-68\" d=\"M 422 0 \nL 422 4581 \nL 984 4581 \nL 984 2938 \nQ 1378 3394 1978 3394 \nQ 2347 3394 2619 3248 \nQ 2891 3103 3008 2847 \nQ 3125 2591 3125 2103 \nL 3125 0 \nL 2563 0 \nL 2563 2103 \nQ 2563 2525 2380 2717 \nQ 2197 2909 1863 2909 \nQ 1613 2909 1392 2779 \nQ 1172 2650 1078 2428 \nQ 984 2206 984 1816 \nL 984 0 \nL 422 0 \nz\n\" transform=\"scale(0.015625)\"/>\n       </defs>\n       <use xlink:href=\"#ArialMT-70\"/>\n       <use xlink:href=\"#ArialMT-61\" x=\"55.615234\"/>\n       <use xlink:href=\"#ArialMT-72\" x=\"111.230469\"/>\n       <use xlink:href=\"#ArialMT-63\" x=\"144.53125\"/>\n       <use xlink:href=\"#ArialMT-68\" x=\"194.53125\"/>\n      </g>\n     </g>\n    </g>\n    <g id=\"xtick_6\">\n     <g id=\"line2d_11\">\n      <path d=\"M 498.616311 641.922013 \nL 498.616311 44.551924 \n\" clip-path=\"url(#pa52f1c7bf7)\" style=\"fill: none; stroke: #cccccc; stroke-opacity: 0.25; stroke-linecap: round\"/>\n     </g>\n     <g id=\"line2d_12\"/>\n     <g id=\"text_6\">\n      <!-- fare -->\n      <g style=\"fill: #444443\" transform=\"translate(487.751556 668.01623)rotate(-70)scale(0.14 -0.14)\">\n       <defs>\n        <path id=\"ArialMT-66\" d=\"M 556 0 \nL 556 2881 \nL 59 2881 \nL 59 3319 \nL 556 3319 \nL 556 3672 \nQ 556 4006 616 4169 \nQ 697 4388 901 4523 \nQ 1106 4659 1475 4659 \nQ 1713 4659 2000 4603 \nL 1916 4113 \nQ 1741 4144 1584 4144 \nQ 1328 4144 1222 4034 \nQ 1116 3925 1116 3625 \nL 1116 3319 \nL 1763 3319 \nL 1763 2881 \nL 1116 2881 \nL 1116 0 \nL 556 0 \nz\n\" transform=\"scale(0.015625)\"/>\n       </defs>\n       <use xlink:href=\"#ArialMT-66\"/>\n       <use xlink:href=\"#ArialMT-61\" x=\"27.783203\"/>\n       <use xlink:href=\"#ArialMT-72\" x=\"83.398438\"/>\n       <use xlink:href=\"#ArialMT-65\" x=\"116.699219\"/>\n      </g>\n     </g>\n    </g>\n    <g id=\"xtick_7\">\n     <g id=\"line2d_13\">\n      <path d=\"M 573.287572 641.922013 \nL 573.287572 44.551924 \n\" clip-path=\"url(#pa52f1c7bf7)\" style=\"fill: none; stroke: #cccccc; stroke-opacity: 0.25; stroke-linecap: round\"/>\n     </g>\n     <g id=\"line2d_14\"/>\n     <g id=\"text_7\">\n      <!-- embarked_Q -->\n      <g style=\"fill: #444443\" transform=\"translate(542.995111 721.454764)rotate(-70)scale(0.14 -0.14)\">\n       <defs>\n        <path id=\"ArialMT-6d\" d=\"M 422 0 \nL 422 3319 \nL 925 3319 \nL 925 2853 \nQ 1081 3097 1340 3245 \nQ 1600 3394 1931 3394 \nQ 2300 3394 2536 3241 \nQ 2772 3088 2869 2813 \nQ 3263 3394 3894 3394 \nQ 4388 3394 4653 3120 \nQ 4919 2847 4919 2278 \nL 4919 0 \nL 4359 0 \nL 4359 2091 \nQ 4359 2428 4304 2576 \nQ 4250 2725 4106 2815 \nQ 3963 2906 3769 2906 \nQ 3419 2906 3187 2673 \nQ 2956 2441 2956 1928 \nL 2956 0 \nL 2394 0 \nL 2394 2156 \nQ 2394 2531 2256 2718 \nQ 2119 2906 1806 2906 \nQ 1569 2906 1367 2781 \nQ 1166 2656 1075 2415 \nQ 984 2175 984 1722 \nL 984 0 \nL 422 0 \nz\n\" transform=\"scale(0.015625)\"/>\n        <path id=\"ArialMT-6b\" d=\"M 425 0 \nL 425 4581 \nL 988 4581 \nL 988 1969 \nL 2319 3319 \nL 3047 3319 \nL 1778 2088 \nL 3175 0 \nL 2481 0 \nL 1384 1697 \nL 988 1316 \nL 988 0 \nL 425 0 \nz\n\" transform=\"scale(0.015625)\"/>\n        <path id=\"ArialMT-64\" d=\"M 2575 0 \nL 2575 419 \nQ 2259 -75 1647 -75 \nQ 1250 -75 917 144 \nQ 584 363 401 755 \nQ 219 1147 219 1656 \nQ 219 2153 384 2558 \nQ 550 2963 881 3178 \nQ 1213 3394 1622 3394 \nQ 1922 3394 2156 3267 \nQ 2391 3141 2538 2938 \nL 2538 4581 \nL 3097 4581 \nL 3097 0 \nL 2575 0 \nz\nM 797 1656 \nQ 797 1019 1065 703 \nQ 1334 388 1700 388 \nQ 2069 388 2326 689 \nQ 2584 991 2584 1609 \nQ 2584 2291 2321 2609 \nQ 2059 2928 1675 2928 \nQ 1300 2928 1048 2622 \nQ 797 2316 797 1656 \nz\n\" transform=\"scale(0.015625)\"/>\n        <path id=\"ArialMT-5f\" d=\"M -97 -1272 \nL -97 -866 \nL 3631 -866 \nL 3631 -1272 \nL -97 -1272 \nz\n\" transform=\"scale(0.015625)\"/>\n        <path id=\"ArialMT-51\" d=\"M 3966 491 \nQ 4388 200 4744 66 \nL 4566 -356 \nQ 4072 -178 3581 206 \nQ 3072 -78 2456 -78 \nQ 1834 -78 1328 222 \nQ 822 522 548 1065 \nQ 275 1609 275 2291 \nQ 275 2969 550 3525 \nQ 825 4081 1333 4372 \nQ 1841 4663 2469 4663 \nQ 3103 4663 3612 4361 \nQ 4122 4059 4389 3517 \nQ 4656 2975 4656 2294 \nQ 4656 1728 4484 1276 \nQ 4313 825 3966 491 \nz\nM 2631 1266 \nQ 3156 1119 3497 828 \nQ 4031 1316 4031 2294 \nQ 4031 2850 3842 3265 \nQ 3653 3681 3289 3911 \nQ 2925 4141 2472 4141 \nQ 1794 4141 1347 3677 \nQ 900 3213 900 2291 \nQ 900 1397 1342 919 \nQ 1784 441 2472 441 \nQ 2797 441 3084 563 \nQ 2800 747 2484 825 \nL 2631 1266 \nz\n\" transform=\"scale(0.015625)\"/>\n       </defs>\n       <use xlink:href=\"#ArialMT-65\"/>\n       <use xlink:href=\"#ArialMT-6d\" x=\"55.615234\"/>\n       <use xlink:href=\"#ArialMT-62\" x=\"138.916016\"/>\n       <use xlink:href=\"#ArialMT-61\" x=\"194.53125\"/>\n       <use xlink:href=\"#ArialMT-72\" x=\"250.146484\"/>\n       <use xlink:href=\"#ArialMT-6b\" x=\"283.447266\"/>\n       <use xlink:href=\"#ArialMT-65\" x=\"333.447266\"/>\n       <use xlink:href=\"#ArialMT-64\" x=\"389.0625\"/>\n       <use xlink:href=\"#ArialMT-5f\" x=\"444.677734\"/>\n       <use xlink:href=\"#ArialMT-51\" x=\"500.292969\"/>\n      </g>\n     </g>\n    </g>\n    <g id=\"xtick_8\">\n     <g id=\"line2d_15\">\n      <path d=\"M 647.958833 641.922013 \nL 647.958833 44.551924 \n\" clip-path=\"url(#pa52f1c7bf7)\" style=\"fill: none; stroke: #cccccc; stroke-opacity: 0.25; stroke-linecap: round\"/>\n     </g>\n     <g id=\"line2d_16\"/>\n     <g id=\"text_8\">\n      <!-- embarked_S -->\n      <g style=\"fill: #444443\" transform=\"translate(618.196824 719.994366)rotate(-70)scale(0.14 -0.14)\">\n       <defs>\n        <path id=\"ArialMT-53\" d=\"M 288 1472 \nL 859 1522 \nQ 900 1178 1048 958 \nQ 1197 738 1509 602 \nQ 1822 466 2213 466 \nQ 2559 466 2825 569 \nQ 3091 672 3220 851 \nQ 3350 1031 3350 1244 \nQ 3350 1459 3225 1620 \nQ 3100 1781 2813 1891 \nQ 2628 1963 1997 2114 \nQ 1366 2266 1113 2400 \nQ 784 2572 623 2826 \nQ 463 3081 463 3397 \nQ 463 3744 659 4045 \nQ 856 4347 1234 4503 \nQ 1613 4659 2075 4659 \nQ 2584 4659 2973 4495 \nQ 3363 4331 3572 4012 \nQ 3781 3694 3797 3291 \nL 3216 3247 \nQ 3169 3681 2898 3903 \nQ 2628 4125 2100 4125 \nQ 1550 4125 1298 3923 \nQ 1047 3722 1047 3438 \nQ 1047 3191 1225 3031 \nQ 1400 2872 2139 2705 \nQ 2878 2538 3153 2413 \nQ 3553 2228 3743 1945 \nQ 3934 1663 3934 1294 \nQ 3934 928 3725 604 \nQ 3516 281 3123 101 \nQ 2731 -78 2241 -78 \nQ 1619 -78 1198 103 \nQ 778 284 539 648 \nQ 300 1013 288 1472 \nz\n\" transform=\"scale(0.015625)\"/>\n       </defs>\n       <use xlink:href=\"#ArialMT-65\"/>\n       <use xlink:href=\"#ArialMT-6d\" x=\"55.615234\"/>\n       <use xlink:href=\"#ArialMT-62\" x=\"138.916016\"/>\n       <use xlink:href=\"#ArialMT-61\" x=\"194.53125\"/>\n       <use xlink:href=\"#ArialMT-72\" x=\"250.146484\"/>\n       <use xlink:href=\"#ArialMT-6b\" x=\"283.447266\"/>\n       <use xlink:href=\"#ArialMT-65\" x=\"333.447266\"/>\n       <use xlink:href=\"#ArialMT-64\" x=\"389.0625\"/>\n       <use xlink:href=\"#ArialMT-5f\" x=\"444.677734\"/>\n       <use xlink:href=\"#ArialMT-53\" x=\"500.292969\"/>\n      </g>\n     </g>\n    </g>\n    <g id=\"xtick_9\">\n     <g id=\"line2d_17\">\n      <path d=\"M 722.630094 641.922013 \nL 722.630094 44.551924 \n\" clip-path=\"url(#pa52f1c7bf7)\" style=\"fill: none; stroke: #cccccc; stroke-opacity: 0.25; stroke-linecap: round\"/>\n     </g>\n     <g id=\"line2d_18\"/>\n     <g id=\"text_9\">\n      <!-- sex_male -->\n      <g style=\"fill: #444443\" transform=\"translate(699.523797 701.649591)rotate(-70)scale(0.14 -0.14)\">\n       <defs>\n        <path id=\"ArialMT-78\" d=\"M 47 0 \nL 1259 1725 \nL 138 3319 \nL 841 3319 \nL 1350 2541 \nQ 1494 2319 1581 2169 \nQ 1719 2375 1834 2534 \nL 2394 3319 \nL 3066 3319 \nL 1919 1756 \nL 3153 0 \nL 2463 0 \nL 1781 1031 \nL 1600 1309 \nL 728 0 \nL 47 0 \nz\n\" transform=\"scale(0.015625)\"/>\n       </defs>\n       <use xlink:href=\"#ArialMT-73\"/>\n       <use xlink:href=\"#ArialMT-65\" x=\"50\"/>\n       <use xlink:href=\"#ArialMT-78\" x=\"105.615234\"/>\n       <use xlink:href=\"#ArialMT-5f\" x=\"155.615234\"/>\n       <use xlink:href=\"#ArialMT-6d\" x=\"211.230469\"/>\n       <use xlink:href=\"#ArialMT-61\" x=\"294.53125\"/>\n       <use xlink:href=\"#ArialMT-6c\" x=\"350.146484\"/>\n       <use xlink:href=\"#ArialMT-65\" x=\"372.363281\"/>\n      </g>\n     </g>\n    </g>\n   </g>\n   <g id=\"matplotlib.axis_2\">\n    <g id=\"ytick_1\">\n     <g id=\"line2d_19\">\n      <path d=\"M 87.924375 81.887555 \nL 759.965725 81.887555 \n\" clip-path=\"url(#pa52f1c7bf7)\" style=\"fill: none; stroke: #cccccc; stroke-opacity: 0.25; stroke-linecap: round\"/>\n     </g>\n     <g id=\"line2d_20\"/>\n     <g id=\"text_10\">\n      <!-- pclass -->\n      <g style=\"fill: #444443\" transform=\"translate(41.243125 85.506774)scale(0.14 -0.14)\">\n       <use xlink:href=\"#ArialMT-70\"/>\n       <use xlink:href=\"#ArialMT-63\" x=\"55.615234\"/>\n       <use xlink:href=\"#ArialMT-6c\" x=\"105.615234\"/>\n       <use xlink:href=\"#ArialMT-61\" x=\"127.832031\"/>\n       <use xlink:href=\"#ArialMT-73\" x=\"183.447266\"/>\n       <use xlink:href=\"#ArialMT-73\" x=\"233.447266\"/>\n      </g>\n     </g>\n    </g>\n    <g id=\"ytick_2\">\n     <g id=\"line2d_21\">\n      <path d=\"M 87.924375 156.558816 \nL 759.965725 156.558816 \n\" clip-path=\"url(#pa52f1c7bf7)\" style=\"fill: none; stroke: #cccccc; stroke-opacity: 0.25; stroke-linecap: round\"/>\n     </g>\n     <g id=\"line2d_22\"/>\n     <g id=\"text_11\">\n      <!-- age -->\n      <g style=\"fill: #444443\" transform=\"translate(57.568438 160.013972)scale(0.14 -0.14)\">\n       <use xlink:href=\"#ArialMT-61\"/>\n       <use xlink:href=\"#ArialMT-67\" x=\"55.615234\"/>\n       <use xlink:href=\"#ArialMT-65\" x=\"111.230469\"/>\n      </g>\n     </g>\n    </g>\n    <g id=\"ytick_3\">\n     <g id=\"line2d_23\">\n      <path d=\"M 87.924375 231.230077 \nL 759.965725 231.230077 \n\" clip-path=\"url(#pa52f1c7bf7)\" style=\"fill: none; stroke: #cccccc; stroke-opacity: 0.25; stroke-linecap: round\"/>\n     </g>\n     <g id=\"line2d_24\"/>\n     <g id=\"text_12\">\n      <!-- sibsp -->\n      <g style=\"fill: #444443\" transform=\"translate(48.243125 234.849296)scale(0.14 -0.14)\">\n       <use xlink:href=\"#ArialMT-73\"/>\n       <use xlink:href=\"#ArialMT-69\" x=\"50\"/>\n       <use xlink:href=\"#ArialMT-62\" x=\"72.216797\"/>\n       <use xlink:href=\"#ArialMT-73\" x=\"127.832031\"/>\n       <use xlink:href=\"#ArialMT-70\" x=\"177.832031\"/>\n      </g>\n     </g>\n    </g>\n    <g id=\"ytick_4\">\n     <g id=\"line2d_25\">\n      <path d=\"M 87.924375 305.901338 \nL 759.965725 305.901338 \n\" clip-path=\"url(#pa52f1c7bf7)\" style=\"fill: none; stroke: #cccccc; stroke-opacity: 0.25; stroke-linecap: round\"/>\n     </g>\n     <g id=\"line2d_26\"/>\n     <g id=\"text_13\">\n      <!-- parch -->\n      <g style=\"fill: #444443\" transform=\"translate(45.906875 309.520557)scale(0.14 -0.14)\">\n       <use xlink:href=\"#ArialMT-70\"/>\n       <use xlink:href=\"#ArialMT-61\" x=\"55.615234\"/>\n       <use xlink:href=\"#ArialMT-72\" x=\"111.230469\"/>\n       <use xlink:href=\"#ArialMT-63\" x=\"144.53125\"/>\n       <use xlink:href=\"#ArialMT-68\" x=\"194.53125\"/>\n      </g>\n     </g>\n    </g>\n    <g id=\"ytick_5\">\n     <g id=\"line2d_27\">\n      <path d=\"M 87.924375 380.572599 \nL 759.965725 380.572599 \n\" clip-path=\"url(#pa52f1c7bf7)\" style=\"fill: none; stroke: #cccccc; stroke-opacity: 0.25; stroke-linecap: round\"/>\n     </g>\n     <g id=\"line2d_28\"/>\n     <g id=\"text_14\">\n      <!-- fare -->\n      <g style=\"fill: #444443\" transform=\"translate(56.802813 384.191818)scale(0.14 -0.14)\">\n       <use xlink:href=\"#ArialMT-66\"/>\n       <use xlink:href=\"#ArialMT-61\" x=\"27.783203\"/>\n       <use xlink:href=\"#ArialMT-72\" x=\"83.398438\"/>\n       <use xlink:href=\"#ArialMT-65\" x=\"116.699219\"/>\n      </g>\n     </g>\n    </g>\n    <g id=\"ytick_6\">\n     <g id=\"line2d_29\">\n      <path d=\"M 87.924375 455.24386 \nL 759.965725 455.24386 \n\" clip-path=\"url(#pa52f1c7bf7)\" style=\"fill: none; stroke: #cccccc; stroke-opacity: 0.25; stroke-linecap: round\"/>\n     </g>\n     <g id=\"line2d_30\"/>\n     <g id=\"text_15\">\n      <!-- embarked_Q -->\n      <g style=\"fill: #444443\" transform=\"translate(0 458.952767)scale(0.14 -0.14)\">\n       <use xlink:href=\"#ArialMT-65\"/>\n       <use xlink:href=\"#ArialMT-6d\" x=\"55.615234\"/>\n       <use xlink:href=\"#ArialMT-62\" x=\"138.916016\"/>\n       <use xlink:href=\"#ArialMT-61\" x=\"194.53125\"/>\n       <use xlink:href=\"#ArialMT-72\" x=\"250.146484\"/>\n       <use xlink:href=\"#ArialMT-6b\" x=\"283.447266\"/>\n       <use xlink:href=\"#ArialMT-65\" x=\"333.447266\"/>\n       <use xlink:href=\"#ArialMT-64\" x=\"389.0625\"/>\n       <use xlink:href=\"#ArialMT-5f\" x=\"444.677734\"/>\n       <use xlink:href=\"#ArialMT-51\" x=\"500.292969\"/>\n      </g>\n     </g>\n    </g>\n    <g id=\"ytick_7\">\n     <g id=\"line2d_31\">\n      <path d=\"M 87.924375 529.915122 \nL 759.965725 529.915122 \n\" clip-path=\"url(#pa52f1c7bf7)\" style=\"fill: none; stroke: #cccccc; stroke-opacity: 0.25; stroke-linecap: round\"/>\n     </g>\n     <g id=\"line2d_32\"/>\n     <g id=\"text_16\">\n      <!-- embarked_S -->\n      <g style=\"fill: #444443\" transform=\"translate(1.550938 533.619653)scale(0.14 -0.14)\">\n       <use xlink:href=\"#ArialMT-65\"/>\n       <use xlink:href=\"#ArialMT-6d\" x=\"55.615234\"/>\n       <use xlink:href=\"#ArialMT-62\" x=\"138.916016\"/>\n       <use xlink:href=\"#ArialMT-61\" x=\"194.53125\"/>\n       <use xlink:href=\"#ArialMT-72\" x=\"250.146484\"/>\n       <use xlink:href=\"#ArialMT-6b\" x=\"283.447266\"/>\n       <use xlink:href=\"#ArialMT-65\" x=\"333.447266\"/>\n       <use xlink:href=\"#ArialMT-64\" x=\"389.0625\"/>\n       <use xlink:href=\"#ArialMT-5f\" x=\"444.677734\"/>\n       <use xlink:href=\"#ArialMT-53\" x=\"500.292969\"/>\n      </g>\n     </g>\n    </g>\n    <g id=\"ytick_8\">\n     <g id=\"line2d_33\">\n      <path d=\"M 87.924375 604.586383 \nL 759.965725 604.586383 \n\" clip-path=\"url(#pa52f1c7bf7)\" style=\"fill: none; stroke: #cccccc; stroke-opacity: 0.25; stroke-linecap: round\"/>\n     </g>\n     <g id=\"line2d_34\"/>\n     <g id=\"text_17\">\n      <!-- sex_male -->\n      <g style=\"fill: #444443\" transform=\"translate(21.010938 608.205601)scale(0.14 -0.14)\">\n       <use xlink:href=\"#ArialMT-73\"/>\n       <use xlink:href=\"#ArialMT-65\" x=\"50\"/>\n       <use xlink:href=\"#ArialMT-78\" x=\"105.615234\"/>\n       <use xlink:href=\"#ArialMT-5f\" x=\"155.615234\"/>\n       <use xlink:href=\"#ArialMT-6d\" x=\"211.230469\"/>\n       <use xlink:href=\"#ArialMT-61\" x=\"294.53125\"/>\n       <use xlink:href=\"#ArialMT-6c\" x=\"350.146484\"/>\n       <use xlink:href=\"#ArialMT-65\" x=\"372.363281\"/>\n      </g>\n     </g>\n    </g>\n   </g>\n   <g id=\"line2d_35\">\n    <path d=\"M 162.595636 641.922013 \nL 162.595636 44.551924 \n\" clip-path=\"url(#pa52f1c7bf7)\" style=\"fill: none; stroke: #444443; stroke-linecap: round\"/>\n   </g>\n   <g id=\"patch_3\">\n    <path d=\"M 87.924375 641.922013 \nL 87.924375 44.551924 \n\" style=\"fill: none; stroke: #444443; stroke-linejoin: miter; stroke-linecap: square\"/>\n   </g>\n   <g id=\"patch_4\">\n    <path d=\"M 759.965725 641.922013 \nL 759.965725 44.551924 \n\" style=\"fill: none; stroke: #cccccc; stroke-width: 0.3; stroke-linejoin: miter; stroke-linecap: square\"/>\n   </g>\n   <g id=\"patch_5\">\n    <path d=\"M 87.924375 641.922013 \nL 759.965725 641.922013 \n\" style=\"fill: none; stroke: #cccccc; stroke-width: 0.3; stroke-linejoin: miter; stroke-linecap: square\"/>\n   </g>\n   <g id=\"patch_6\">\n    <path d=\"M 87.924375 44.551924 \nL 759.965725 44.551924 \n\" style=\"fill: none; stroke: #cccccc; stroke-width: 0.3; stroke-linejoin: miter; stroke-linecap: square\"/>\n   </g>\n   <g id=\"text_18\">\n    <!-- 0.92 -->\n    <g style=\"fill: #444443\" transform=\"translate(113.583443 84.989742)scale(0.12 -0.12)\">\n     <defs>\n      <path id=\"ArialMT-30\" d=\"M 266 2259 \nQ 266 3072 433 3567 \nQ 600 4063 929 4331 \nQ 1259 4600 1759 4600 \nQ 2128 4600 2406 4451 \nQ 2684 4303 2865 4023 \nQ 3047 3744 3150 3342 \nQ 3253 2941 3253 2259 \nQ 3253 1453 3087 958 \nQ 2922 463 2592 192 \nQ 2263 -78 1759 -78 \nQ 1097 -78 719 397 \nQ 266 969 266 2259 \nz\nM 844 2259 \nQ 844 1131 1108 757 \nQ 1372 384 1759 384 \nQ 2147 384 2411 759 \nQ 2675 1134 2675 2259 \nQ 2675 3391 2411 3762 \nQ 2147 4134 1753 4134 \nQ 1366 4134 1134 3806 \nQ 844 3388 844 2259 \nz\n\" transform=\"scale(0.015625)\"/>\n      <path id=\"ArialMT-2e\" d=\"M 581 0 \nL 581 641 \nL 1222 641 \nL 1222 0 \nL 581 0 \nz\n\" transform=\"scale(0.015625)\"/>\n      <path id=\"ArialMT-39\" d=\"M 350 1059 \nL 891 1109 \nQ 959 728 1153 556 \nQ 1347 384 1650 384 \nQ 1909 384 2104 503 \nQ 2300 622 2425 820 \nQ 2550 1019 2634 1356 \nQ 2719 1694 2719 2044 \nQ 2719 2081 2716 2156 \nQ 2547 1888 2255 1720 \nQ 1963 1553 1622 1553 \nQ 1053 1553 659 1965 \nQ 266 2378 266 3053 \nQ 266 3750 677 4175 \nQ 1088 4600 1706 4600 \nQ 2153 4600 2523 4359 \nQ 2894 4119 3086 3673 \nQ 3278 3228 3278 2384 \nQ 3278 1506 3087 986 \nQ 2897 466 2520 194 \nQ 2144 -78 1638 -78 \nQ 1100 -78 759 220 \nQ 419 519 350 1059 \nz\nM 2653 3081 \nQ 2653 3566 2395 3850 \nQ 2138 4134 1775 4134 \nQ 1400 4134 1122 3828 \nQ 844 3522 844 3034 \nQ 844 2597 1108 2323 \nQ 1372 2050 1759 2050 \nQ 2150 2050 2401 2323 \nQ 2653 2597 2653 3081 \nz\n\" transform=\"scale(0.015625)\"/>\n      <path id=\"ArialMT-32\" d=\"M 3222 541 \nL 3222 0 \nL 194 0 \nQ 188 203 259 391 \nQ 375 700 629 1000 \nQ 884 1300 1366 1694 \nQ 2113 2306 2375 2664 \nQ 2638 3022 2638 3341 \nQ 2638 3675 2398 3904 \nQ 2159 4134 1775 4134 \nQ 1369 4134 1125 3890 \nQ 881 3647 878 3216 \nL 300 3275 \nQ 359 3922 746 4261 \nQ 1134 4600 1788 4600 \nQ 2447 4600 2831 4234 \nQ 3216 3869 3216 3328 \nQ 3216 3053 3103 2787 \nQ 2991 2522 2730 2228 \nQ 2469 1934 1863 1422 \nQ 1356 997 1212 845 \nQ 1069 694 975 541 \nL 3222 541 \nz\n\" transform=\"scale(0.015625)\"/>\n     </defs>\n     <use xlink:href=\"#ArialMT-30\"/>\n     <use xlink:href=\"#ArialMT-2e\" x=\"55.615234\"/>\n     <use xlink:href=\"#ArialMT-39\" x=\"83.398438\"/>\n     <use xlink:href=\"#ArialMT-32\" x=\"139.013672\"/>\n    </g>\n   </g>\n   <g id=\"text_19\">\n    <!-- x -->\n    <g style=\"fill: #444443\" transform=\"translate(196.931267 84.989742)scale(0.12 -0.12)\">\n     <use xlink:href=\"#ArialMT-78\"/>\n    </g>\n   </g>\n   <g id=\"text_20\">\n    <!-- 0.07 -->\n    <g style=\"fill: #444443\" transform=\"translate(262.925965 84.989742)scale(0.12 -0.12)\">\n     <defs>\n      <path id=\"ArialMT-37\" d=\"M 303 3981 \nL 303 4522 \nL 3269 4522 \nL 3269 4084 \nQ 2831 3619 2401 2847 \nQ 1972 2075 1738 1259 \nQ 1569 684 1522 0 \nL 944 0 \nQ 953 541 1156 1306 \nQ 1359 2072 1739 2783 \nQ 2119 3494 2547 3981 \nL 303 3981 \nz\n\" transform=\"scale(0.015625)\"/>\n     </defs>\n     <use xlink:href=\"#ArialMT-30\"/>\n     <use xlink:href=\"#ArialMT-2e\" x=\"55.615234\"/>\n     <use xlink:href=\"#ArialMT-30\" x=\"83.398438\"/>\n     <use xlink:href=\"#ArialMT-37\" x=\"139.013672\"/>\n    </g>\n   </g>\n   <g id=\"text_21\">\n    <!-- 0.07 -->\n    <g style=\"fill: #444443\" transform=\"translate(337.597226 84.989742)scale(0.12 -0.12)\">\n     <use xlink:href=\"#ArialMT-30\"/>\n     <use xlink:href=\"#ArialMT-2e\" x=\"55.615234\"/>\n     <use xlink:href=\"#ArialMT-30\" x=\"83.398438\"/>\n     <use xlink:href=\"#ArialMT-37\" x=\"139.013672\"/>\n    </g>\n   </g>\n   <g id=\"text_22\">\n    <!-- 0.50 -->\n    <g style=\"fill: #444443\" transform=\"translate(486.939749 84.989742)scale(0.12 -0.12)\">\n     <defs>\n      <path id=\"ArialMT-35\" d=\"M 266 1200 \nL 856 1250 \nQ 922 819 1161 601 \nQ 1400 384 1738 384 \nQ 2144 384 2425 690 \nQ 2706 997 2706 1503 \nQ 2706 1984 2436 2262 \nQ 2166 2541 1728 2541 \nQ 1456 2541 1237 2417 \nQ 1019 2294 894 2097 \nL 366 2166 \nL 809 4519 \nL 3088 4519 \nL 3088 3981 \nL 1259 3981 \nL 1013 2750 \nQ 1425 3038 1878 3038 \nQ 2478 3038 2890 2622 \nQ 3303 2206 3303 1553 \nQ 3303 931 2941 478 \nQ 2500 -78 1738 -78 \nQ 1113 -78 717 272 \nQ 322 622 266 1200 \nz\n\" transform=\"scale(0.015625)\"/>\n     </defs>\n     <use xlink:href=\"#ArialMT-30\"/>\n     <use xlink:href=\"#ArialMT-2e\" x=\"55.615234\"/>\n     <use xlink:href=\"#ArialMT-35\" x=\"83.398438\"/>\n     <use xlink:href=\"#ArialMT-30\" x=\"139.013672\"/>\n    </g>\n   </g>\n   <g id=\"text_23\">\n    <!-- 0.23 -->\n    <g style=\"fill: #444443\" transform=\"translate(113.583443 159.661003)scale(0.12 -0.12)\">\n     <defs>\n      <path id=\"ArialMT-33\" d=\"M 269 1209 \nL 831 1284 \nQ 928 806 1161 595 \nQ 1394 384 1728 384 \nQ 2125 384 2398 659 \nQ 2672 934 2672 1341 \nQ 2672 1728 2419 1979 \nQ 2166 2231 1775 2231 \nQ 1616 2231 1378 2169 \nL 1441 2663 \nQ 1497 2656 1531 2656 \nQ 1891 2656 2178 2843 \nQ 2466 3031 2466 3422 \nQ 2466 3731 2256 3934 \nQ 2047 4138 1716 4138 \nQ 1388 4138 1169 3931 \nQ 950 3725 888 3313 \nL 325 3413 \nQ 428 3978 793 4289 \nQ 1159 4600 1703 4600 \nQ 2078 4600 2393 4439 \nQ 2709 4278 2876 4000 \nQ 3044 3722 3044 3409 \nQ 3044 3113 2884 2869 \nQ 2725 2625 2413 2481 \nQ 2819 2388 3044 2092 \nQ 3269 1797 3269 1353 \nQ 3269 753 2831 336 \nQ 2394 -81 1725 -81 \nQ 1122 -81 723 278 \nQ 325 638 269 1209 \nz\n\" transform=\"scale(0.015625)\"/>\n     </defs>\n     <use xlink:href=\"#ArialMT-30\"/>\n     <use xlink:href=\"#ArialMT-2e\" x=\"55.615234\"/>\n     <use xlink:href=\"#ArialMT-32\" x=\"83.398438\"/>\n     <use xlink:href=\"#ArialMT-33\" x=\"139.013672\"/>\n    </g>\n   </g>\n   <g id=\"text_24\">\n    <!-- 0.48 -->\n    <g style=\"fill: #444443\" transform=\"translate(188.254704 159.661003)scale(0.12 -0.12)\">\n     <defs>\n      <path id=\"ArialMT-34\" d=\"M 2069 0 \nL 2069 1097 \nL 81 1097 \nL 81 1613 \nL 2172 4581 \nL 2631 4581 \nL 2631 1613 \nL 3250 1613 \nL 3250 1097 \nL 2631 1097 \nL 2631 0 \nL 2069 0 \nz\nM 2069 1613 \nL 2069 3678 \nL 634 1613 \nL 2069 1613 \nz\n\" transform=\"scale(0.015625)\"/>\n      <path id=\"ArialMT-38\" d=\"M 1131 2484 \nQ 781 2613 612 2850 \nQ 444 3088 444 3419 \nQ 444 3919 803 4259 \nQ 1163 4600 1759 4600 \nQ 2359 4600 2725 4251 \nQ 3091 3903 3091 3403 \nQ 3091 3084 2923 2848 \nQ 2756 2613 2416 2484 \nQ 2838 2347 3058 2040 \nQ 3278 1734 3278 1309 \nQ 3278 722 2862 322 \nQ 2447 -78 1769 -78 \nQ 1091 -78 675 323 \nQ 259 725 259 1325 \nQ 259 1772 486 2073 \nQ 713 2375 1131 2484 \nz\nM 1019 3438 \nQ 1019 3113 1228 2906 \nQ 1438 2700 1772 2700 \nQ 2097 2700 2305 2904 \nQ 2513 3109 2513 3406 \nQ 2513 3716 2298 3927 \nQ 2084 4138 1766 4138 \nQ 1444 4138 1231 3931 \nQ 1019 3725 1019 3438 \nz\nM 838 1322 \nQ 838 1081 952 856 \nQ 1066 631 1291 507 \nQ 1516 384 1775 384 \nQ 2178 384 2440 643 \nQ 2703 903 2703 1303 \nQ 2703 1709 2433 1975 \nQ 2163 2241 1756 2241 \nQ 1359 2241 1098 1978 \nQ 838 1716 838 1322 \nz\n\" transform=\"scale(0.015625)\"/>\n     </defs>\n     <use xlink:href=\"#ArialMT-30\"/>\n     <use xlink:href=\"#ArialMT-2e\" x=\"55.615234\"/>\n     <use xlink:href=\"#ArialMT-34\" x=\"83.398438\"/>\n     <use xlink:href=\"#ArialMT-38\" x=\"139.013672\"/>\n    </g>\n   </g>\n   <g id=\"text_25\">\n    <!-- x -->\n    <g style=\"fill: #444443\" transform=\"translate(271.602528 159.661003)scale(0.12 -0.12)\">\n     <use xlink:href=\"#ArialMT-78\"/>\n    </g>\n   </g>\n   <g id=\"text_26\">\n    <!-- 0.10 -->\n    <g style=\"fill: #444443\" transform=\"translate(337.597226 159.661003)scale(0.12 -0.12)\">\n     <defs>\n      <path id=\"ArialMT-31\" d=\"M 2384 0 \nL 1822 0 \nL 1822 3584 \nQ 1619 3391 1289 3197 \nQ 959 3003 697 2906 \nL 697 3450 \nQ 1169 3672 1522 3987 \nQ 1875 4303 2022 4600 \nL 2384 4600 \nL 2384 0 \nz\n\" transform=\"scale(0.015625)\"/>\n     </defs>\n     <use xlink:href=\"#ArialMT-30\"/>\n     <use xlink:href=\"#ArialMT-2e\" x=\"55.615234\"/>\n     <use xlink:href=\"#ArialMT-31\" x=\"83.398438\"/>\n     <use xlink:href=\"#ArialMT-30\" x=\"139.013672\"/>\n    </g>\n   </g>\n   <g id=\"text_27\">\n    <!-- 0.24 -->\n    <g style=\"fill: #444443\" transform=\"translate(412.268487 159.661003)scale(0.12 -0.12)\">\n     <use xlink:href=\"#ArialMT-30\"/>\n     <use xlink:href=\"#ArialMT-2e\" x=\"55.615234\"/>\n     <use xlink:href=\"#ArialMT-32\" x=\"83.398438\"/>\n     <use xlink:href=\"#ArialMT-34\" x=\"139.013672\"/>\n    </g>\n   </g>\n   <g id=\"text_28\">\n    <!-- 0.07 -->\n    <g style=\"fill: #444443\" transform=\"translate(486.939749 159.661003)scale(0.12 -0.12)\">\n     <use xlink:href=\"#ArialMT-30\"/>\n     <use xlink:href=\"#ArialMT-2e\" x=\"55.615234\"/>\n     <use xlink:href=\"#ArialMT-30\" x=\"83.398438\"/>\n     <use xlink:href=\"#ArialMT-37\" x=\"139.013672\"/>\n    </g>\n   </g>\n   <g id=\"text_29\">\n    <!-- 0.77 -->\n    <g style=\"fill: #444443\" transform=\"translate(113.583443 234.332265)scale(0.12 -0.12)\">\n     <use xlink:href=\"#ArialMT-30\"/>\n     <use xlink:href=\"#ArialMT-2e\" x=\"55.615234\"/>\n     <use xlink:href=\"#ArialMT-37\" x=\"83.398438\"/>\n     <use xlink:href=\"#ArialMT-37\" x=\"139.013672\"/>\n    </g>\n   </g>\n   <g id=\"text_30\">\n    <!-- 0.16 -->\n    <g style=\"fill: #444443\" transform=\"translate(188.254704 234.332265)scale(0.12 -0.12)\">\n     <defs>\n      <path id=\"ArialMT-36\" d=\"M 3184 3459 \nL 2625 3416 \nQ 2550 3747 2413 3897 \nQ 2184 4138 1850 4138 \nQ 1581 4138 1378 3988 \nQ 1113 3794 959 3422 \nQ 806 3050 800 2363 \nQ 1003 2672 1297 2822 \nQ 1591 2972 1913 2972 \nQ 2475 2972 2870 2558 \nQ 3266 2144 3266 1488 \nQ 3266 1056 3080 686 \nQ 2894 316 2569 119 \nQ 2244 -78 1831 -78 \nQ 1128 -78 684 439 \nQ 241 956 241 2144 \nQ 241 3472 731 4075 \nQ 1159 4600 1884 4600 \nQ 2425 4600 2770 4297 \nQ 3116 3994 3184 3459 \nz\nM 888 1484 \nQ 888 1194 1011 928 \nQ 1134 663 1356 523 \nQ 1578 384 1822 384 \nQ 2178 384 2434 671 \nQ 2691 959 2691 1453 \nQ 2691 1928 2437 2201 \nQ 2184 2475 1800 2475 \nQ 1419 2475 1153 2201 \nQ 888 1928 888 1484 \nz\n\" transform=\"scale(0.015625)\"/>\n     </defs>\n     <use xlink:href=\"#ArialMT-30\"/>\n     <use xlink:href=\"#ArialMT-2e\" x=\"55.615234\"/>\n     <use xlink:href=\"#ArialMT-31\" x=\"83.398438\"/>\n     <use xlink:href=\"#ArialMT-36\" x=\"139.013672\"/>\n    </g>\n   </g>\n   <g id=\"text_31\">\n    <!-- 0.29 -->\n    <g style=\"fill: #444443\" transform=\"translate(262.925965 234.332265)scale(0.12 -0.12)\">\n     <use xlink:href=\"#ArialMT-30\"/>\n     <use xlink:href=\"#ArialMT-2e\" x=\"55.615234\"/>\n     <use xlink:href=\"#ArialMT-32\" x=\"83.398438\"/>\n     <use xlink:href=\"#ArialMT-39\" x=\"139.013672\"/>\n    </g>\n   </g>\n   <g id=\"text_32\">\n    <!-- x -->\n    <g style=\"fill: #444443\" transform=\"translate(346.273789 234.332265)scale(0.12 -0.12)\">\n     <use xlink:href=\"#ArialMT-78\"/>\n    </g>\n   </g>\n   <g id=\"text_33\">\n    <!-- 0.34 -->\n    <g style=\"fill: #444443\" transform=\"translate(412.268487 234.332265)scale(0.12 -0.12)\">\n     <use xlink:href=\"#ArialMT-30\"/>\n     <use xlink:href=\"#ArialMT-2e\" x=\"55.615234\"/>\n     <use xlink:href=\"#ArialMT-33\" x=\"83.398438\"/>\n     <use xlink:href=\"#ArialMT-34\" x=\"139.013672\"/>\n    </g>\n   </g>\n   <g id=\"text_34\">\n    <!-- 0.44 -->\n    <g style=\"fill: #444443\" transform=\"translate(486.939749 234.332265)scale(0.12 -0.12)\">\n     <use xlink:href=\"#ArialMT-30\"/>\n     <use xlink:href=\"#ArialMT-2e\" x=\"55.615234\"/>\n     <use xlink:href=\"#ArialMT-34\" x=\"83.398438\"/>\n     <use xlink:href=\"#ArialMT-34\" x=\"139.013672\"/>\n    </g>\n   </g>\n   <g id=\"text_35\">\n    <!-- 0.04 -->\n    <g style=\"fill: #444443\" transform=\"translate(636.282271 234.332265)scale(0.12 -0.12)\">\n     <use xlink:href=\"#ArialMT-30\"/>\n     <use xlink:href=\"#ArialMT-2e\" x=\"55.615234\"/>\n     <use xlink:href=\"#ArialMT-30\" x=\"83.398438\"/>\n     <use xlink:href=\"#ArialMT-34\" x=\"139.013672\"/>\n    </g>\n   </g>\n   <g id=\"text_36\">\n    <!-- 0.84 -->\n    <g style=\"fill: #444443\" transform=\"translate(113.583443 309.003526)scale(0.12 -0.12)\">\n     <use xlink:href=\"#ArialMT-30\"/>\n     <use xlink:href=\"#ArialMT-2e\" x=\"55.615234\"/>\n     <use xlink:href=\"#ArialMT-38\" x=\"83.398438\"/>\n     <use xlink:href=\"#ArialMT-34\" x=\"139.013672\"/>\n    </g>\n   </g>\n   <g id=\"text_37\">\n    <!-- 0.06 -->\n    <g style=\"fill: #444443\" transform=\"translate(188.254704 309.003526)scale(0.12 -0.12)\">\n     <use xlink:href=\"#ArialMT-30\"/>\n     <use xlink:href=\"#ArialMT-2e\" x=\"55.615234\"/>\n     <use xlink:href=\"#ArialMT-30\" x=\"83.398438\"/>\n     <use xlink:href=\"#ArialMT-36\" x=\"139.013672\"/>\n    </g>\n   </g>\n   <g id=\"text_38\">\n    <!-- 0.08 -->\n    <g style=\"fill: #444443\" transform=\"translate(262.925965 309.003526)scale(0.12 -0.12)\">\n     <use xlink:href=\"#ArialMT-30\"/>\n     <use xlink:href=\"#ArialMT-2e\" x=\"55.615234\"/>\n     <use xlink:href=\"#ArialMT-30\" x=\"83.398438\"/>\n     <use xlink:href=\"#ArialMT-38\" x=\"139.013672\"/>\n    </g>\n   </g>\n   <g id=\"text_39\">\n    <!-- 0.04 -->\n    <g style=\"fill: #444443\" transform=\"translate(337.597226 309.003526)scale(0.12 -0.12)\">\n     <use xlink:href=\"#ArialMT-30\"/>\n     <use xlink:href=\"#ArialMT-2e\" x=\"55.615234\"/>\n     <use xlink:href=\"#ArialMT-30\" x=\"83.398438\"/>\n     <use xlink:href=\"#ArialMT-34\" x=\"139.013672\"/>\n    </g>\n   </g>\n   <g id=\"text_40\">\n    <!-- x -->\n    <g style=\"fill: #444443\" transform=\"translate(420.94505 309.003526)scale(0.12 -0.12)\">\n     <use xlink:href=\"#ArialMT-78\"/>\n    </g>\n   </g>\n   <g id=\"text_41\">\n    <!-- 0.13 -->\n    <g style=\"fill: #444443\" transform=\"translate(486.939749 309.003526)scale(0.12 -0.12)\">\n     <use xlink:href=\"#ArialMT-30\"/>\n     <use xlink:href=\"#ArialMT-2e\" x=\"55.615234\"/>\n     <use xlink:href=\"#ArialMT-31\" x=\"83.398438\"/>\n     <use xlink:href=\"#ArialMT-33\" x=\"139.013672\"/>\n    </g>\n   </g>\n   <g id=\"text_42\">\n    <!-- 0.06 -->\n    <g style=\"fill: #444443\" transform=\"translate(636.282271 309.003526)scale(0.12 -0.12)\">\n     <use xlink:href=\"#ArialMT-30\"/>\n     <use xlink:href=\"#ArialMT-2e\" x=\"55.615234\"/>\n     <use xlink:href=\"#ArialMT-30\" x=\"83.398438\"/>\n     <use xlink:href=\"#ArialMT-36\" x=\"139.013672\"/>\n    </g>\n   </g>\n   <g id=\"text_43\">\n    <!-- 0.43 -->\n    <g style=\"fill: #444443\" transform=\"translate(113.583443 383.674787)scale(0.12 -0.12)\">\n     <use xlink:href=\"#ArialMT-30\"/>\n     <use xlink:href=\"#ArialMT-2e\" x=\"55.615234\"/>\n     <use xlink:href=\"#ArialMT-34\" x=\"83.398438\"/>\n     <use xlink:href=\"#ArialMT-33\" x=\"139.013672\"/>\n    </g>\n   </g>\n   <g id=\"text_44\">\n    <!-- 0.92 -->\n    <g style=\"fill: #444443\" transform=\"translate(188.254704 383.674787)scale(0.12 -0.12)\">\n     <use xlink:href=\"#ArialMT-30\"/>\n     <use xlink:href=\"#ArialMT-2e\" x=\"55.615234\"/>\n     <use xlink:href=\"#ArialMT-39\" x=\"83.398438\"/>\n     <use xlink:href=\"#ArialMT-32\" x=\"139.013672\"/>\n    </g>\n   </g>\n   <g id=\"text_45\">\n    <!-- 0.16 -->\n    <g style=\"fill: #444443\" transform=\"translate(337.597226 383.674787)scale(0.12 -0.12)\">\n     <use xlink:href=\"#ArialMT-30\"/>\n     <use xlink:href=\"#ArialMT-2e\" x=\"55.615234\"/>\n     <use xlink:href=\"#ArialMT-31\" x=\"83.398438\"/>\n     <use xlink:href=\"#ArialMT-36\" x=\"139.013672\"/>\n    </g>\n   </g>\n   <g id=\"text_46\">\n    <!-- 0.25 -->\n    <g style=\"fill: #444443\" transform=\"translate(412.268487 383.674787)scale(0.12 -0.12)\">\n     <use xlink:href=\"#ArialMT-30\"/>\n     <use xlink:href=\"#ArialMT-2e\" x=\"55.615234\"/>\n     <use xlink:href=\"#ArialMT-32\" x=\"83.398438\"/>\n     <use xlink:href=\"#ArialMT-35\" x=\"139.013672\"/>\n    </g>\n   </g>\n   <g id=\"text_47\">\n    <!-- x -->\n    <g style=\"fill: #444443\" transform=\"translate(495.616311 383.674787)scale(0.12 -0.12)\">\n     <use xlink:href=\"#ArialMT-78\"/>\n    </g>\n   </g>\n   <g id=\"text_48\">\n    <!-- 0.06 -->\n    <g style=\"fill: #444443\" transform=\"translate(710.953532 383.674787)scale(0.12 -0.12)\">\n     <use xlink:href=\"#ArialMT-30\"/>\n     <use xlink:href=\"#ArialMT-2e\" x=\"55.615234\"/>\n     <use xlink:href=\"#ArialMT-30\" x=\"83.398438\"/>\n     <use xlink:href=\"#ArialMT-36\" x=\"139.013672\"/>\n    </g>\n   </g>\n   <g id=\"text_49\">\n    <!-- 0.98 -->\n    <g style=\"fill: #444443\" transform=\"translate(113.583443 458.346048)scale(0.12 -0.12)\">\n     <use xlink:href=\"#ArialMT-30\"/>\n     <use xlink:href=\"#ArialMT-2e\" x=\"55.615234\"/>\n     <use xlink:href=\"#ArialMT-39\" x=\"83.398438\"/>\n     <use xlink:href=\"#ArialMT-38\" x=\"139.013672\"/>\n    </g>\n   </g>\n   <g id=\"text_50\">\n    <!-- 0.09 -->\n    <g style=\"fill: #444443\" transform=\"translate(188.254704 458.346048)scale(0.12 -0.12)\">\n     <use xlink:href=\"#ArialMT-30\"/>\n     <use xlink:href=\"#ArialMT-2e\" x=\"55.615234\"/>\n     <use xlink:href=\"#ArialMT-30\" x=\"83.398438\"/>\n     <use xlink:href=\"#ArialMT-39\" x=\"139.013672\"/>\n    </g>\n   </g>\n   <g id=\"text_51\">\n    <!-- 0.06 -->\n    <g style=\"fill: #444443\" transform=\"translate(262.925965 458.346048)scale(0.12 -0.12)\">\n     <use xlink:href=\"#ArialMT-30\"/>\n     <use xlink:href=\"#ArialMT-2e\" x=\"55.615234\"/>\n     <use xlink:href=\"#ArialMT-30\" x=\"83.398438\"/>\n     <use xlink:href=\"#ArialMT-36\" x=\"139.013672\"/>\n    </g>\n   </g>\n   <g id=\"text_52\">\n    <!-- 0.17 -->\n    <g style=\"fill: #444443\" transform=\"translate(486.939749 458.346048)scale(0.12 -0.12)\">\n     <use xlink:href=\"#ArialMT-30\"/>\n     <use xlink:href=\"#ArialMT-2e\" x=\"55.615234\"/>\n     <use xlink:href=\"#ArialMT-31\" x=\"83.398438\"/>\n     <use xlink:href=\"#ArialMT-37\" x=\"139.013672\"/>\n    </g>\n   </g>\n   <g id=\"text_53\">\n    <!-- x -->\n    <g style=\"fill: #444443\" transform=\"translate(570.287572 458.346048)scale(0.12 -0.12)\">\n     <use xlink:href=\"#ArialMT-78\"/>\n    </g>\n   </g>\n   <g id=\"text_54\">\n    <!-- 0.36 -->\n    <g style=\"fill: #444443\" transform=\"translate(636.282271 458.346048)scale(0.12 -0.12)\">\n     <use xlink:href=\"#ArialMT-30\"/>\n     <use xlink:href=\"#ArialMT-2e\" x=\"55.615234\"/>\n     <use xlink:href=\"#ArialMT-33\" x=\"83.398438\"/>\n     <use xlink:href=\"#ArialMT-36\" x=\"139.013672\"/>\n    </g>\n   </g>\n   <g id=\"text_55\">\n    <!-- 0.86 -->\n    <g style=\"fill: #444443\" transform=\"translate(113.583443 533.017309)scale(0.12 -0.12)\">\n     <use xlink:href=\"#ArialMT-30\"/>\n     <use xlink:href=\"#ArialMT-2e\" x=\"55.615234\"/>\n     <use xlink:href=\"#ArialMT-38\" x=\"83.398438\"/>\n     <use xlink:href=\"#ArialMT-36\" x=\"139.013672\"/>\n    </g>\n   </g>\n   <g id=\"text_56\">\n    <!-- 0.08 -->\n    <g style=\"fill: #444443\" transform=\"translate(188.254704 533.017309)scale(0.12 -0.12)\">\n     <use xlink:href=\"#ArialMT-30\"/>\n     <use xlink:href=\"#ArialMT-2e\" x=\"55.615234\"/>\n     <use xlink:href=\"#ArialMT-30\" x=\"83.398438\"/>\n     <use xlink:href=\"#ArialMT-38\" x=\"139.013672\"/>\n    </g>\n   </g>\n   <g id=\"text_57\">\n    <!-- 0.05 -->\n    <g style=\"fill: #444443\" transform=\"translate(262.925965 533.017309)scale(0.12 -0.12)\">\n     <use xlink:href=\"#ArialMT-30\"/>\n     <use xlink:href=\"#ArialMT-2e\" x=\"55.615234\"/>\n     <use xlink:href=\"#ArialMT-30\" x=\"83.398438\"/>\n     <use xlink:href=\"#ArialMT-35\" x=\"139.013672\"/>\n    </g>\n   </g>\n   <g id=\"text_58\">\n    <!-- 0.14 -->\n    <g style=\"fill: #444443\" transform=\"translate(486.939749 533.017309)scale(0.12 -0.12)\">\n     <use xlink:href=\"#ArialMT-30\"/>\n     <use xlink:href=\"#ArialMT-2e\" x=\"55.615234\"/>\n     <use xlink:href=\"#ArialMT-31\" x=\"83.398438\"/>\n     <use xlink:href=\"#ArialMT-34\" x=\"139.013672\"/>\n    </g>\n   </g>\n   <g id=\"text_59\">\n    <!-- 0.18 -->\n    <g style=\"fill: #444443\" transform=\"translate(561.61101 533.017309)scale(0.12 -0.12)\">\n     <use xlink:href=\"#ArialMT-30\"/>\n     <use xlink:href=\"#ArialMT-2e\" x=\"55.615234\"/>\n     <use xlink:href=\"#ArialMT-31\" x=\"83.398438\"/>\n     <use xlink:href=\"#ArialMT-38\" x=\"139.013672\"/>\n    </g>\n   </g>\n   <g id=\"text_60\">\n    <!-- x -->\n    <g style=\"fill: #444443\" transform=\"translate(644.958833 533.017309)scale(0.12 -0.12)\">\n     <use xlink:href=\"#ArialMT-78\"/>\n    </g>\n   </g>\n   <g id=\"text_61\">\n    <!-- 0.68 -->\n    <g style=\"fill: #444443\" transform=\"translate(113.583443 607.68857)scale(0.12 -0.12)\">\n     <use xlink:href=\"#ArialMT-30\"/>\n     <use xlink:href=\"#ArialMT-2e\" x=\"55.615234\"/>\n     <use xlink:href=\"#ArialMT-36\" x=\"83.398438\"/>\n     <use xlink:href=\"#ArialMT-38\" x=\"139.013672\"/>\n    </g>\n   </g>\n   <g id=\"text_62\">\n    <!-- 0.07 -->\n    <g style=\"fill: #444443\" transform=\"translate(262.925965 607.68857)scale(0.12 -0.12)\">\n     <use xlink:href=\"#ArialMT-30\"/>\n     <use xlink:href=\"#ArialMT-2e\" x=\"55.615234\"/>\n     <use xlink:href=\"#ArialMT-30\" x=\"83.398438\"/>\n     <use xlink:href=\"#ArialMT-37\" x=\"139.013672\"/>\n    </g>\n   </g>\n   <g id=\"text_63\">\n    <!-- 0.03 -->\n    <g style=\"fill: #444443\" transform=\"translate(337.597226 607.68857)scale(0.12 -0.12)\">\n     <use xlink:href=\"#ArialMT-30\"/>\n     <use xlink:href=\"#ArialMT-2e\" x=\"55.615234\"/>\n     <use xlink:href=\"#ArialMT-30\" x=\"83.398438\"/>\n     <use xlink:href=\"#ArialMT-33\" x=\"139.013672\"/>\n    </g>\n   </g>\n   <g id=\"text_64\">\n    <!-- 0.03 -->\n    <g style=\"fill: #444443\" transform=\"translate(412.268487 607.68857)scale(0.12 -0.12)\">\n     <use xlink:href=\"#ArialMT-30\"/>\n     <use xlink:href=\"#ArialMT-2e\" x=\"55.615234\"/>\n     <use xlink:href=\"#ArialMT-30\" x=\"83.398438\"/>\n     <use xlink:href=\"#ArialMT-33\" x=\"139.013672\"/>\n    </g>\n   </g>\n   <g id=\"text_65\">\n    <!-- 0.04 -->\n    <g style=\"fill: #444443\" transform=\"translate(486.939749 607.68857)scale(0.12 -0.12)\">\n     <use xlink:href=\"#ArialMT-30\"/>\n     <use xlink:href=\"#ArialMT-2e\" x=\"55.615234\"/>\n     <use xlink:href=\"#ArialMT-30\" x=\"83.398438\"/>\n     <use xlink:href=\"#ArialMT-34\" x=\"139.013672\"/>\n    </g>\n   </g>\n   <g id=\"text_66\">\n    <!-- 0.04 -->\n    <g style=\"fill: #444443\" transform=\"translate(561.61101 607.68857)scale(0.12 -0.12)\">\n     <use xlink:href=\"#ArialMT-30\"/>\n     <use xlink:href=\"#ArialMT-2e\" x=\"55.615234\"/>\n     <use xlink:href=\"#ArialMT-30\" x=\"83.398438\"/>\n     <use xlink:href=\"#ArialMT-34\" x=\"139.013672\"/>\n    </g>\n   </g>\n   <g id=\"text_67\">\n    <!-- x -->\n    <g style=\"fill: #444443\" transform=\"translate(719.630094 607.68857)scale(0.12 -0.12)\">\n     <use xlink:href=\"#ArialMT-78\"/>\n    </g>\n   </g>\n  </g>\n  <g id=\"axes_2\">\n   <g id=\"patch_7\">\n    <path d=\"M 789.376725 681.463469 \nL 823.199375 681.463469 \nL 823.199375 5.010469 \nL 789.376725 5.010469 \nz\n\" style=\"fill: #ffffff\"/>\n   </g>\n   <g id=\"patch_8\">\n    <path clip-path=\"url(#p34da186cf0)\" style=\"fill: #ffffff; stroke: #ffffff; stroke-width: 0.01; stroke-linejoin: miter\"/>\n   </g>\n   <g id=\"matplotlib.axis_3\">\n    <g id=\"ytick_9\">\n     <g id=\"line2d_36\"/>\n     <g id=\"text_68\">\n      <!-- 0.6 -->\n      <g style=\"fill: #444443\" transform=\"translate(823.199375 686.473937)scale(0.14 -0.14)\">\n       <use xlink:href=\"#ArialMT-30\"/>\n       <use xlink:href=\"#ArialMT-2e\" x=\"55.615234\"/>\n       <use xlink:href=\"#ArialMT-36\" x=\"83.398438\"/>\n      </g>\n     </g>\n    </g>\n    <g id=\"ytick_10\">\n     <g id=\"line2d_37\"/>\n     <g id=\"text_69\">\n      <!-- 0.8 -->\n      <g style=\"fill: #444443\" transform=\"translate(823.199375 348.247437)scale(0.14 -0.14)\">\n       <use xlink:href=\"#ArialMT-30\"/>\n       <use xlink:href=\"#ArialMT-2e\" x=\"55.615234\"/>\n       <use xlink:href=\"#ArialMT-38\" x=\"83.398438\"/>\n      </g>\n     </g>\n    </g>\n    <g id=\"ytick_11\">\n     <g id=\"line2d_38\"/>\n     <g id=\"text_70\">\n      <!-- 1.0 -->\n      <g style=\"fill: #444443\" transform=\"translate(823.199375 10.020937)scale(0.14 -0.14)\">\n       <use xlink:href=\"#ArialMT-31\"/>\n       <use xlink:href=\"#ArialMT-2e\" x=\"55.615234\"/>\n       <use xlink:href=\"#ArialMT-30\" x=\"83.398438\"/>\n      </g>\n     </g>\n    </g>\n   </g>\n   <g id=\"QuadMesh_1\">\n    <path d=\"M 789.376725 681.463469 \nL 823.199375 681.463469 \nL 823.199375 654.405349 \nL 789.376725 654.405349 \nL 789.376725 681.463469 \n\" clip-path=\"url(#p34da186cf0)\" style=\"fill: #f2cbb7\"/>\n    <path d=\"M 789.376725 654.405349 \nL 823.199375 654.405349 \nL 823.199375 627.347229 \nL 789.376725 627.347229 \nL 789.376725 654.405349 \n\" clip-path=\"url(#p34da186cf0)\" style=\"fill: #f3c8b2\"/>\n    <path d=\"M 789.376725 627.347229 \nL 823.199375 627.347229 \nL 823.199375 600.289109 \nL 789.376725 600.289109 \nL 789.376725 627.347229 \n\" clip-path=\"url(#p34da186cf0)\" style=\"fill: #f4c6af\"/>\n    <path d=\"M 789.376725 600.289109 \nL 823.199375 600.289109 \nL 823.199375 573.230989 \nL 789.376725 573.230989 \nL 789.376725 600.289109 \n\" clip-path=\"url(#p34da186cf0)\" style=\"fill: #f5c2aa\"/>\n    <path d=\"M 789.376725 573.230989 \nL 823.199375 573.230989 \nL 823.199375 546.172869 \nL 789.376725 546.172869 \nL 789.376725 573.230989 \n\" clip-path=\"url(#p34da186cf0)\" style=\"fill: #f5c0a7\"/>\n    <path d=\"M 789.376725 546.172869 \nL 823.199375 546.172869 \nL 823.199375 519.114749 \nL 789.376725 519.114749 \nL 789.376725 546.172869 \n\" clip-path=\"url(#p34da186cf0)\" style=\"fill: #f6bda2\"/>\n    <path d=\"M 789.376725 519.114749 \nL 823.199375 519.114749 \nL 823.199375 492.056629 \nL 789.376725 492.056629 \nL 789.376725 519.114749 \n\" clip-path=\"url(#p34da186cf0)\" style=\"fill: #f7ba9f\"/>\n    <path d=\"M 789.376725 492.056629 \nL 823.199375 492.056629 \nL 823.199375 464.998509 \nL 789.376725 464.998509 \nL 789.376725 492.056629 \n\" clip-path=\"url(#p34da186cf0)\" style=\"fill: #f7b79b\"/>\n    <path d=\"M 789.376725 464.998509 \nL 823.199375 464.998509 \nL 823.199375 437.940389 \nL 789.376725 437.940389 \nL 789.376725 464.998509 \n\" clip-path=\"url(#p34da186cf0)\" style=\"fill: #f7b396\"/>\n    <path d=\"M 789.376725 437.940389 \nL 823.199375 437.940389 \nL 823.199375 410.882269 \nL 789.376725 410.882269 \nL 789.376725 437.940389 \n\" clip-path=\"url(#p34da186cf0)\" style=\"fill: #f7b093\"/>\n    <path d=\"M 789.376725 410.882269 \nL 823.199375 410.882269 \nL 823.199375 383.824149 \nL 789.376725 383.824149 \nL 789.376725 410.882269 \n\" clip-path=\"url(#p34da186cf0)\" style=\"fill: #f7ac8e\"/>\n    <path d=\"M 789.376725 383.824149 \nL 823.199375 383.824149 \nL 823.199375 356.766029 \nL 789.376725 356.766029 \nL 789.376725 383.824149 \n\" clip-path=\"url(#p34da186cf0)\" style=\"fill: #f7a98b\"/>\n    <path d=\"M 789.376725 356.766029 \nL 823.199375 356.766029 \nL 823.199375 329.707909 \nL 789.376725 329.707909 \nL 789.376725 356.766029 \n\" clip-path=\"url(#p34da186cf0)\" style=\"fill: #f6a586\"/>\n    <path d=\"M 789.376725 329.707909 \nL 823.199375 329.707909 \nL 823.199375 302.649789 \nL 789.376725 302.649789 \nL 789.376725 329.707909 \n\" clip-path=\"url(#p34da186cf0)\" style=\"fill: #f6a283\"/>\n    <path d=\"M 789.376725 302.649789 \nL 823.199375 302.649789 \nL 823.199375 275.591669 \nL 789.376725 275.591669 \nL 789.376725 302.649789 \n\" clip-path=\"url(#p34da186cf0)\" style=\"fill: #f59d7e\"/>\n    <path d=\"M 789.376725 275.591669 \nL 823.199375 275.591669 \nL 823.199375 248.533549 \nL 789.376725 248.533549 \nL 789.376725 275.591669 \n\" clip-path=\"url(#p34da186cf0)\" style=\"fill: #f4987a\"/>\n    <path d=\"M 789.376725 248.533549 \nL 823.199375 248.533549 \nL 823.199375 221.475429 \nL 789.376725 221.475429 \nL 789.376725 248.533549 \n\" clip-path=\"url(#p34da186cf0)\" style=\"fill: #f39577\"/>\n    <path d=\"M 789.376725 221.475429 \nL 823.199375 221.475429 \nL 823.199375 194.417309 \nL 789.376725 194.417309 \nL 789.376725 221.475429 \n\" clip-path=\"url(#p34da186cf0)\" style=\"fill: #f29072\"/>\n    <path d=\"M 789.376725 194.417309 \nL 823.199375 194.417309 \nL 823.199375 167.359189 \nL 789.376725 167.359189 \nL 789.376725 194.417309 \n\" clip-path=\"url(#p34da186cf0)\" style=\"fill: #f18d6f\"/>\n    <path d=\"M 789.376725 167.359189 \nL 823.199375 167.359189 \nL 823.199375 140.301069 \nL 789.376725 140.301069 \nL 789.376725 167.359189 \n\" clip-path=\"url(#p34da186cf0)\" style=\"fill: #ef886b\"/>\n    <path d=\"M 789.376725 140.301069 \nL 823.199375 140.301069 \nL 823.199375 113.242949 \nL 789.376725 113.242949 \nL 789.376725 140.301069 \n\" clip-path=\"url(#p34da186cf0)\" style=\"fill: #ee8468\"/>\n    <path d=\"M 789.376725 113.242949 \nL 823.199375 113.242949 \nL 823.199375 86.184829 \nL 789.376725 86.184829 \nL 789.376725 113.242949 \n\" clip-path=\"url(#p34da186cf0)\" style=\"fill: #ec7f63\"/>\n    <path d=\"M 789.376725 86.184829 \nL 823.199375 86.184829 \nL 823.199375 59.126709 \nL 789.376725 59.126709 \nL 789.376725 86.184829 \n\" clip-path=\"url(#p34da186cf0)\" style=\"fill: #ea7b60\"/>\n    <path d=\"M 789.376725 59.126709 \nL 823.199375 59.126709 \nL 823.199375 32.068589 \nL 789.376725 32.068589 \nL 789.376725 59.126709 \n\" clip-path=\"url(#p34da186cf0)\" style=\"fill: #e8765c\"/>\n    <path d=\"M 789.376725 32.068589 \nL 823.199375 32.068589 \nL 823.199375 5.010469 \nL 789.376725 5.010469 \nL 789.376725 32.068589 \n\" clip-path=\"url(#p34da186cf0)\" style=\"fill: #e57058\"/>\n   </g>\n   <g id=\"LineCollection_1\"/>\n   <g id=\"patch_9\">\n    <path d=\"M 789.376725 681.463469 \nL 806.28805 681.463469 \nL 823.199375 681.463469 \nL 823.199375 5.010469 \nL 806.28805 5.010469 \nL 789.376725 5.010469 \nL 789.376725 681.463469 \nz\n\" style=\"fill: none; stroke: #ffffff; stroke-width: 1.25; stroke-linejoin: miter; stroke-linecap: square\"/>\n   </g>\n  </g>\n </g>\n <defs>\n  <clipPath id=\"pa52f1c7bf7\">\n   <rect x=\"87.924375\" y=\"44.551924\" width=\"672.04135\" height=\"597.370089\"/>\n  </clipPath>\n  <clipPath id=\"p34da186cf0\">\n   <rect x=\"789.376725\" y=\"5.010469\" width=\"33.82265\" height=\"676.453\"/>\n  </clipPath>\n </defs>\n</svg>\n",
      "text/plain": [
       "<rfpimp.PimpViz at 0x197a393a370>"
      ]
     },
     "execution_count": 24,
     "metadata": {},
     "output_type": "execute_result"
    }
   ],
   "source": [
    "rfpimp.plot_dependence_heatmap(\n",
    "    rfpimp.feature_dependence_matrix(X_train),\n",
    "    value_fontsize=12,\n",
    "    label_fontsize=14,\n",
    "    figsize=(12, 12)\n",
    ")"
   ]
  },
  {
   "cell_type": "markdown",
   "metadata": {},
   "source": [
    "from the image above it looks like pclass (on the x-axis) predicts fare pretty strongly, so lets take fare out and and model again."
   ]
  },
  {
   "cell_type": "code",
   "execution_count": 25,
   "metadata": {},
   "outputs": [
    {
     "data": {
      "text/plain": [
       "0.8015267175572519"
      ]
     },
     "execution_count": 25,
     "metadata": {},
     "output_type": "execute_result"
    }
   ],
   "source": [
    "cols_to_remove = ['pclass']\n",
    "\n",
    "rf3 = RandomForestClassifier(random_state=42)\n",
    "\n",
    "rf3.fit(\n",
    "    X_train[ \n",
    "            [\n",
    "        col for col in X_train.columns if col not in cols_to_remove\n",
    "            ]\n",
    "           ],\n",
    "    y_train\n",
    ")\n",
    "\n",
    "rf3.score(\n",
    "    X_test[ \n",
    "            [\n",
    "        col for col in X_train.columns if col not in cols_to_remove\n",
    "            ]\n",
    "           ],\n",
    "    y_test\n",
    ")"
   ]
  },
  {
   "cell_type": "code",
   "execution_count": 26,
   "metadata": {},
   "outputs": [
    {
     "data": {
      "text/plain": [
       "0.7964376590330788"
      ]
     },
     "execution_count": 26,
     "metadata": {},
     "output_type": "execute_result"
    }
   ],
   "source": [
    "# Compare the above to this\n",
    "\n",
    "rf_4 = RandomForestClassifier(random_state=42)\n",
    "\n",
    "rf_4.fit(X_train, y_train)\n",
    "\n",
    "rf_4.score(X_test, y_test)"
   ]
  },
  {
   "cell_type": "markdown",
   "metadata": {},
   "source": [
    "## Lasso Regression\n",
    "\n",
    "If you use lasso regression, you can set an alpha parameter that acts as a\n",
    "regularization parameter. As you increase the value, it gives less weight to\n",
    "features that are less important."
   ]
  },
  {
   "cell_type": "code",
   "execution_count": 27,
   "metadata": {},
   "outputs": [
    {
     "name": "stderr",
     "output_type": "stream",
     "text": [
      "c:\\Users\\INNO\\Documents\\Python Development\\ML-Pocket-Reference\\.ml_pocket_ref\\lib\\site-packages\\sklearn\\linear_model\\_base.py:133: FutureWarning: The default of 'normalize' will be set to False in version 1.2 and deprecated in version 1.4.\n",
      "If you wish to scale the data, use Pipeline with a StandardScaler in a preprocessing stage. To reproduce the previous behavior:\n",
      "\n",
      "from sklearn.pipeline import make_pipeline\n",
      "\n",
      "model = make_pipeline(StandardScaler(with_mean=False), LassoLarsCV())\n",
      "\n",
      "If you wish to pass a sample_weight parameter, you need to pass it as a fit parameter to each step of the pipeline as follows:\n",
      "\n",
      "kwargs = {s[0] + '__sample_weight': sample_weight for s in model.steps}\n",
      "model.fit(X, y, **kwargs)\n",
      "\n",
      "Set parameter alpha to: original_alpha * np.sqrt(n_samples). \n",
      "  warnings.warn(\n"
     ]
    },
    {
     "data": {
      "text/plain": [
       "Text(0.5, 1.0, 'Regression Coefficients Progression for Lasso Paths')"
      ]
     },
     "execution_count": 27,
     "metadata": {},
     "output_type": "execute_result"
    },
    {
     "data": {
      "image/png": "[encoded data removed]",
      "text/plain": [
       "<Figure size 864x432 with 1 Axes>"
      ]
     },
     "metadata": {
      "needs_background": "light"
     },
     "output_type": "display_data"
    }
   ],
   "source": [
    "model = linear_model.LassoLarsCV(cv=10, max_n_alphas=1000).fit(X_train, y_train)\n",
    "\n",
    "fig, ax = plt.subplots(figsize=(12, 6))\n",
    "\n",
    "cm = iter(\n",
    "    plt.get_cmap('tab20')(np.linspace(0, 1, X.shape[1]))\n",
    ")\n",
    "\n",
    "for i in range(X.shape[1]):\n",
    "    c = next(cm)\n",
    "    ax.plot(\n",
    "        model.alphas_,\n",
    "        model.coef_path_.T[:, i],\n",
    "        c=c,\n",
    "        alpha=0.8,\n",
    "        label=X.columns[i]\n",
    "    )\n",
    "    \n",
    "ax.axvline(\n",
    "    model.alpha_,\n",
    "    linestyle='--',\n",
    "    c='k',\n",
    "    label='alphaCV'\n",
    ")\n",
    "\n",
    "plt.ylabel('Regression Coefficients')\n",
    "\n",
    "ax.legend(X.columns, bbox_to_anchor=(1,1))\n",
    "\n",
    "plt.xlabel('alpha')\n",
    "\n",
    "plt.title('Regression Coefficients Progression for Lasso Paths')"
   ]
  },
  {
   "cell_type": "markdown",
   "metadata": {},
   "source": [
    "## Recursive Feature Elimination\n",
    "\n",
    "Recursive feature elimination will remove the weakest features, then fit a\n",
    "model (see Figure 8-3). It does this by passing in a scikit-learn model with a\n",
    "`.coef_` or `.feature_importances_` attribute:"
   ]
  },
  {
   "cell_type": "code",
   "execution_count": 28,
   "metadata": {},
   "outputs": [
    {
     "data": {
      "text/plain": [
       "array([1, 1, 1, 1, 1, 1, 1, 1])"
      ]
     },
     "execution_count": 28,
     "metadata": {},
     "output_type": "execute_result"
    },
    {
     "data": {
      "image/png": "[encoded data removed]",
      "text/plain": [
       "<Figure size 864x432 with 1 Axes>"
      ]
     },
     "metadata": {
      "needs_background": "light"
     },
     "output_type": "display_data"
    }
   ],
   "source": [
    "fig, ax = plt.subplots(figsize=(12, 6))\n",
    "\n",
    "rfe = RFECV(\n",
    "    RandomForestClassifier(n_estimators=100),\n",
    "    cv = 10\n",
    ")\n",
    "\n",
    "rfe.fit(X,y)\n",
    "\n",
    "rfe.rfe_estimator_.ranking_"
   ]
  },
  {
   "cell_type": "code",
   "execution_count": 29,
   "metadata": {},
   "outputs": [
    {
     "data": {
      "text/plain": [
       "8"
      ]
     },
     "execution_count": 29,
     "metadata": {},
     "output_type": "execute_result"
    }
   ],
   "source": [
    "rfe.rfe_estimator_.n_features_"
   ]
  },
  {
   "cell_type": "code",
   "execution_count": 30,
   "metadata": {},
   "outputs": [
    {
     "data": {
      "text/plain": [
       "Index(['pclass', 'age', 'sibsp', 'parch', 'fare', 'embarked_Q', 'embarked_S',\n",
       "       'sex_male'],\n",
       "      dtype='object')"
      ]
     },
     "execution_count": 30,
     "metadata": {},
     "output_type": "execute_result"
    }
   ],
   "source": [
    "mask = rfe.rfe_estimator_.support_\n",
    "\n",
    "X.columns[mask]"
   ]
  },
  {
   "cell_type": "markdown",
   "metadata": {},
   "source": [
    "> We will use recursive feature elimination to find the 4 most important\n",
    "features. (In this aggregated dataset we find that we have leaked the\n",
    "survival column!)"
   ]
  },
  {
   "cell_type": "code",
   "execution_count": 31,
   "metadata": {},
   "outputs": [
    {
     "data": {
      "text/plain": [
       "Index(['pclass', 'age', 'fare', 'sex_male'], dtype='object')"
      ]
     },
     "execution_count": 31,
     "metadata": {},
     "output_type": "execute_result"
    }
   ],
   "source": [
    "model = RandomForestClassifier(n_estimators=100)\n",
    "\n",
    "rfe = RFE(model, n_features_to_select=4)\n",
    "\n",
    "rfe.fit(X, y)\n",
    "\n",
    "X.columns[rfe.support_]"
   ]
  },
  {
   "cell_type": "markdown",
   "metadata": {},
   "source": [
    "## Mutual Information\n",
    "\n",
    "Sklearn provides nonparametric tests that will use k-nearest neighbor to\n",
    "determine the mutual information between features and the target. Mutual\n",
    "information quantifies the amount of information gained by observing\n",
    "another variable. The value is zero or more. If the value is zero, then there\n",
    "is no relation between them (see Figure 8-4). This number is not bounded\n",
    "and represents the number of bits shared between the feature and the target:"
   ]
  },
  {
   "cell_type": "code",
   "execution_count": 32,
   "metadata": {},
   "outputs": [
    {
     "data": {
      "text/plain": [
       "<AxesSubplot:ylabel='feature'>"
      ]
     },
     "execution_count": 32,
     "metadata": {},
     "output_type": "execute_result"
    },
    {
     "data": {
      "image/png": "[encoded data removed]",
      "text/plain": [
       "<Figure size 864x432 with 1 Axes>"
      ]
     },
     "metadata": {
      "needs_background": "light"
     },
     "output_type": "display_data"
    }
   ],
   "source": [
    "mic = feature_selection.mutual_info_classif(X, y)\n",
    "\n",
    "fig, ax = plt.subplots(figsize=(12, 6))\n",
    "\n",
    "(\n",
    "    pd.DataFrame({\n",
    "        'feature': X.columns,\n",
    "        'vimp': mic\n",
    "                 }\n",
    "    )\n",
    "    .set_index('feature')\n",
    "    .plot.barh(ax=ax)\n",
    ")"
   ]
  },
  {
   "cell_type": "markdown",
   "metadata": {},
   "source": [
    "## Principal Component Analysis\n",
    "\n",
    "Another option for feature selection is to run principal component analysis.\n",
    "Once you have the main principal components, examine the features that\n",
    "contribute to them the most. These are features that have more variance.\n",
    "Note that this is an unsupervised algorithm and doesn’t take y into account.\n",
    "\n",
    "Before performing Feature selection, please SPLIT THE DATA first."
   ]
  },
  {
   "cell_type": "markdown",
   "metadata": {},
   "source": [
    "## Imbalanced Classes\n",
    "\n",
    "When classifying data, and the classes are not relatively balanced in size, the bias toward more popular classes can carry over into your model. Some ways to deal with Imbalanced Classes are:\n",
    "- Tree-based Algorithms and Ensembles\n",
    "- Penalize models\n",
    "- Upsampling the minority \n",
    "- Generate Minority Data\n",
    "- Downsampling Majority\n",
    "\n"
   ]
  },
  {
   "cell_type": "markdown",
   "metadata": {},
   "source": [
    "### Upsampling Minority\n",
    "\n",
    "> You can upsample the minority class in a couple of ways."
   ]
  },
  {
   "cell_type": "code",
   "execution_count": 34,
   "metadata": {},
   "outputs": [],
   "source": [
    "mask = titanic_df['survived'] == 1\n",
    "\n",
    "surv_df = titanic_df[mask]\n",
    "\n",
    "death_df = titanic_df[~mask]\n",
    "\n",
    "# Create a new df the length of the death_df from the surv_df with replacement \n",
    "df_upsample = resample(\n",
    "    surv_df,\n",
    "    replace=True,\n",
    "    n_samples=len(death_df),\n",
    "    random_state=42\n",
    ")"
   ]
  },
  {
   "cell_type": "code",
   "execution_count": 35,
   "metadata": {},
   "outputs": [
    {
     "data": {
      "text/html": [
       "<div>\n",
       "<style scoped>\n",
       "    .dataframe tbody tr th:only-of-type {\n",
       "        vertical-align: middle;\n",
       "    }\n",
       "\n",
       "    .dataframe tbody tr th {\n",
       "        vertical-align: top;\n",
       "    }\n",
       "\n",
       "    .dataframe thead th {\n",
       "        text-align: right;\n",
       "    }\n",
       "</style>\n",
       "<table border=\"1\" class=\"dataframe\">\n",
       "  <thead>\n",
       "    <tr style=\"text-align: right;\">\n",
       "      <th></th>\n",
       "      <th>pclass</th>\n",
       "      <th>survived</th>\n",
       "      <th>name</th>\n",
       "      <th>sex</th>\n",
       "      <th>age</th>\n",
       "      <th>sibsp</th>\n",
       "      <th>parch</th>\n",
       "      <th>ticket</th>\n",
       "      <th>fare</th>\n",
       "      <th>cabin</th>\n",
       "      <th>embarked</th>\n",
       "      <th>boat</th>\n",
       "      <th>body</th>\n",
       "      <th>home.dest</th>\n",
       "    </tr>\n",
       "  </thead>\n",
       "  <tbody>\n",
       "    <tr>\n",
       "      <th>152</th>\n",
       "      <td>1</td>\n",
       "      <td>1</td>\n",
       "      <td>Hawksford, Mr. Walter James</td>\n",
       "      <td>male</td>\n",
       "      <td>NaN</td>\n",
       "      <td>0</td>\n",
       "      <td>0</td>\n",
       "      <td>16988</td>\n",
       "      <td>30.0000</td>\n",
       "      <td>D45</td>\n",
       "      <td>S</td>\n",
       "      <td>3</td>\n",
       "      <td>NaN</td>\n",
       "      <td>Kingston, Surrey</td>\n",
       "    </tr>\n",
       "    <tr>\n",
       "      <th>1033</th>\n",
       "      <td>3</td>\n",
       "      <td>1</td>\n",
       "      <td>Moss, Mr. Albert Johan</td>\n",
       "      <td>male</td>\n",
       "      <td>NaN</td>\n",
       "      <td>0</td>\n",
       "      <td>0</td>\n",
       "      <td>312991</td>\n",
       "      <td>7.7750</td>\n",
       "      <td>NaN</td>\n",
       "      <td>S</td>\n",
       "      <td>B</td>\n",
       "      <td>NaN</td>\n",
       "      <td>NaN</td>\n",
       "    </tr>\n",
       "    <tr>\n",
       "      <th>719</th>\n",
       "      <td>3</td>\n",
       "      <td>1</td>\n",
       "      <td>Cohen, Mr. Gurshon \"Gus\"</td>\n",
       "      <td>male</td>\n",
       "      <td>18.0</td>\n",
       "      <td>0</td>\n",
       "      <td>0</td>\n",
       "      <td>A/5 3540</td>\n",
       "      <td>8.0500</td>\n",
       "      <td>NaN</td>\n",
       "      <td>S</td>\n",
       "      <td>12</td>\n",
       "      <td>NaN</td>\n",
       "      <td>London Brooklyn, NY</td>\n",
       "    </tr>\n",
       "    <tr>\n",
       "      <th>502</th>\n",
       "      <td>2</td>\n",
       "      <td>1</td>\n",
       "      <td>Mellinger, Mrs. (Elizabeth Anne Maidment)</td>\n",
       "      <td>female</td>\n",
       "      <td>41.0</td>\n",
       "      <td>0</td>\n",
       "      <td>1</td>\n",
       "      <td>250644</td>\n",
       "      <td>19.5000</td>\n",
       "      <td>NaN</td>\n",
       "      <td>S</td>\n",
       "      <td>14</td>\n",
       "      <td>NaN</td>\n",
       "      <td>England / Bennington, VT</td>\n",
       "    </tr>\n",
       "    <tr>\n",
       "      <th>160</th>\n",
       "      <td>1</td>\n",
       "      <td>1</td>\n",
       "      <td>Hippach, Mrs. Louis Albert (Ida Sophia Fischer)</td>\n",
       "      <td>female</td>\n",
       "      <td>44.0</td>\n",
       "      <td>0</td>\n",
       "      <td>1</td>\n",
       "      <td>111361</td>\n",
       "      <td>57.9792</td>\n",
       "      <td>B18</td>\n",
       "      <td>C</td>\n",
       "      <td>4</td>\n",
       "      <td>NaN</td>\n",
       "      <td>Chicago, IL</td>\n",
       "    </tr>\n",
       "  </tbody>\n",
       "</table>\n",
       "</div>"
      ],
      "text/plain": [
       "      pclass  survived                                             name  \\\n",
       "152        1         1                      Hawksford, Mr. Walter James   \n",
       "1033       3         1                           Moss, Mr. Albert Johan   \n",
       "719        3         1                         Cohen, Mr. Gurshon \"Gus\"   \n",
       "502        2         1        Mellinger, Mrs. (Elizabeth Anne Maidment)   \n",
       "160        1         1  Hippach, Mrs. Louis Albert (Ida Sophia Fischer)   \n",
       "\n",
       "         sex   age  sibsp  parch    ticket     fare cabin embarked boat  body  \\\n",
       "152     male   NaN      0      0     16988  30.0000   D45        S    3   NaN   \n",
       "1033    male   NaN      0      0    312991   7.7750   NaN        S    B   NaN   \n",
       "719     male  18.0      0      0  A/5 3540   8.0500   NaN        S   12   NaN   \n",
       "502   female  41.0      0      1    250644  19.5000   NaN        S   14   NaN   \n",
       "160   female  44.0      0      1    111361  57.9792   B18        C    4   NaN   \n",
       "\n",
       "                     home.dest  \n",
       "152           Kingston, Surrey  \n",
       "1033                       NaN  \n",
       "719        London Brooklyn, NY  \n",
       "502   England / Bennington, VT  \n",
       "160                Chicago, IL  "
      ]
     },
     "execution_count": 35,
     "metadata": {},
     "output_type": "execute_result"
    }
   ],
   "source": [
    "df_upsample.head()"
   ]
  },
  {
   "cell_type": "code",
   "execution_count": 37,
   "metadata": {},
   "outputs": [
    {
     "data": {
      "text/plain": [
       "0    809\n",
       "1    809\n",
       "Name: survived, dtype: int64"
      ]
     },
     "execution_count": 37,
     "metadata": {},
     "output_type": "execute_result"
    }
   ],
   "source": [
    "# Combine the upsampled df to the death_df\n",
    "df_2 = pd.concat([death_df, df_upsample])\n",
    "\n",
    "# Now we have balanced classes\n",
    "df_2['survived'].value_counts()"
   ]
  },
  {
   "cell_type": "markdown",
   "metadata": {},
   "source": [
    "### Generate Minority Data\n",
    "\n",
    "The imbalanced-learn library can also generate new samples of minority classes with both the Synthetic Minority Over-sampling Technique (SMOTE) and Adaptive Synthetic (ADASYN) sampling approach algorithms. SMOTE works by choosing one of its k-nearest neighbors connecting a line to one of them, and choosing a point along that line.\n",
    "\n",
    "`ADASYN` is similar to `SMOTE`, but generates more samples from those that are harder to learn. The classes in imbanced-learn are named `over_sampling.SMOTE` and `over_sampling.ADASYN`."
   ]
  },
  {
   "cell_type": "markdown",
   "metadata": {},
   "source": [
    "### Downsampling Majority\n",
    "\n",
    "> Here we downsample the majority classes."
   ]
  },
  {
   "cell_type": "code",
   "execution_count": 38,
   "metadata": {},
   "outputs": [],
   "source": [
    "mask = titanic_df['survived'] == 1\n",
    "\n",
    "surv_df = titanic_df[mask]\n",
    "\n",
    "death_df = titanic_df[~mask]\n",
    "\n",
    "df_downsample = resample(\n",
    "    death_df,\n",
    "    replace=False,\n",
    "    n_samples=len(surv_df),\n",
    "    random_state=42\n",
    ")\n",
    "\n",
    "df_3 = pd.concat([surv_df, df_downsample])\n",
    "\n",
    "\n"
   ]
  },
  {
   "cell_type": "code",
   "execution_count": 39,
   "metadata": {},
   "outputs": [
    {
     "data": {
      "text/html": [
       "<div>\n",
       "<style scoped>\n",
       "    .dataframe tbody tr th:only-of-type {\n",
       "        vertical-align: middle;\n",
       "    }\n",
       "\n",
       "    .dataframe tbody tr th {\n",
       "        vertical-align: top;\n",
       "    }\n",
       "\n",
       "    .dataframe thead th {\n",
       "        text-align: right;\n",
       "    }\n",
       "</style>\n",
       "<table border=\"1\" class=\"dataframe\">\n",
       "  <thead>\n",
       "    <tr style=\"text-align: right;\">\n",
       "      <th></th>\n",
       "      <th>pclass</th>\n",
       "      <th>survived</th>\n",
       "      <th>name</th>\n",
       "      <th>sex</th>\n",
       "      <th>age</th>\n",
       "      <th>sibsp</th>\n",
       "      <th>parch</th>\n",
       "      <th>ticket</th>\n",
       "      <th>fare</th>\n",
       "      <th>cabin</th>\n",
       "      <th>embarked</th>\n",
       "      <th>boat</th>\n",
       "      <th>body</th>\n",
       "      <th>home.dest</th>\n",
       "    </tr>\n",
       "  </thead>\n",
       "  <tbody>\n",
       "    <tr>\n",
       "      <th>0</th>\n",
       "      <td>1</td>\n",
       "      <td>1</td>\n",
       "      <td>Allen, Miss. Elisabeth Walton</td>\n",
       "      <td>female</td>\n",
       "      <td>29.0000</td>\n",
       "      <td>0</td>\n",
       "      <td>0</td>\n",
       "      <td>24160</td>\n",
       "      <td>211.3375</td>\n",
       "      <td>B5</td>\n",
       "      <td>S</td>\n",
       "      <td>2</td>\n",
       "      <td>NaN</td>\n",
       "      <td>St Louis, MO</td>\n",
       "    </tr>\n",
       "    <tr>\n",
       "      <th>1</th>\n",
       "      <td>1</td>\n",
       "      <td>1</td>\n",
       "      <td>Allison, Master. Hudson Trevor</td>\n",
       "      <td>male</td>\n",
       "      <td>0.9167</td>\n",
       "      <td>1</td>\n",
       "      <td>2</td>\n",
       "      <td>113781</td>\n",
       "      <td>151.5500</td>\n",
       "      <td>C22 C26</td>\n",
       "      <td>S</td>\n",
       "      <td>11</td>\n",
       "      <td>NaN</td>\n",
       "      <td>Montreal, PQ / Chesterville, ON</td>\n",
       "    </tr>\n",
       "    <tr>\n",
       "      <th>5</th>\n",
       "      <td>1</td>\n",
       "      <td>1</td>\n",
       "      <td>Anderson, Mr. Harry</td>\n",
       "      <td>male</td>\n",
       "      <td>48.0000</td>\n",
       "      <td>0</td>\n",
       "      <td>0</td>\n",
       "      <td>19952</td>\n",
       "      <td>26.5500</td>\n",
       "      <td>E12</td>\n",
       "      <td>S</td>\n",
       "      <td>3</td>\n",
       "      <td>NaN</td>\n",
       "      <td>New York, NY</td>\n",
       "    </tr>\n",
       "    <tr>\n",
       "      <th>6</th>\n",
       "      <td>1</td>\n",
       "      <td>1</td>\n",
       "      <td>Andrews, Miss. Kornelia Theodosia</td>\n",
       "      <td>female</td>\n",
       "      <td>63.0000</td>\n",
       "      <td>1</td>\n",
       "      <td>0</td>\n",
       "      <td>13502</td>\n",
       "      <td>77.9583</td>\n",
       "      <td>D7</td>\n",
       "      <td>S</td>\n",
       "      <td>10</td>\n",
       "      <td>NaN</td>\n",
       "      <td>Hudson, NY</td>\n",
       "    </tr>\n",
       "    <tr>\n",
       "      <th>8</th>\n",
       "      <td>1</td>\n",
       "      <td>1</td>\n",
       "      <td>Appleton, Mrs. Edward Dale (Charlotte Lamson)</td>\n",
       "      <td>female</td>\n",
       "      <td>53.0000</td>\n",
       "      <td>2</td>\n",
       "      <td>0</td>\n",
       "      <td>11769</td>\n",
       "      <td>51.4792</td>\n",
       "      <td>C101</td>\n",
       "      <td>S</td>\n",
       "      <td>D</td>\n",
       "      <td>NaN</td>\n",
       "      <td>Bayside, Queens, NY</td>\n",
       "    </tr>\n",
       "  </tbody>\n",
       "</table>\n",
       "</div>"
      ],
      "text/plain": [
       "   pclass  survived                                           name     sex  \\\n",
       "0       1         1                  Allen, Miss. Elisabeth Walton  female   \n",
       "1       1         1                 Allison, Master. Hudson Trevor    male   \n",
       "5       1         1                            Anderson, Mr. Harry    male   \n",
       "6       1         1              Andrews, Miss. Kornelia Theodosia  female   \n",
       "8       1         1  Appleton, Mrs. Edward Dale (Charlotte Lamson)  female   \n",
       "\n",
       "       age  sibsp  parch  ticket      fare    cabin embarked boat  body  \\\n",
       "0  29.0000      0      0   24160  211.3375       B5        S    2   NaN   \n",
       "1   0.9167      1      2  113781  151.5500  C22 C26        S   11   NaN   \n",
       "5  48.0000      0      0   19952   26.5500      E12        S    3   NaN   \n",
       "6  63.0000      1      0   13502   77.9583       D7        S   10   NaN   \n",
       "8  53.0000      2      0   11769   51.4792     C101        S    D   NaN   \n",
       "\n",
       "                         home.dest  \n",
       "0                     St Louis, MO  \n",
       "1  Montreal, PQ / Chesterville, ON  \n",
       "5                     New York, NY  \n",
       "6                       Hudson, NY  \n",
       "8              Bayside, Queens, NY  "
      ]
     },
     "execution_count": 39,
     "metadata": {},
     "output_type": "execute_result"
    }
   ],
   "source": [
    "# Preview teh data\n",
    "df_3.head()"
   ]
  },
  {
   "cell_type": "code",
   "execution_count": 40,
   "metadata": {},
   "outputs": [
    {
     "data": {
      "text/plain": [
       "1    500\n",
       "0    500\n",
       "Name: survived, dtype: int64"
      ]
     },
     "execution_count": 40,
     "metadata": {},
     "output_type": "execute_result"
    }
   ],
   "source": [
    "df_3['survived'].value_counts()"
   ]
  }
 ],
 "metadata": {
  "kernelspec": {
   "display_name": "Python 3.8.0 64-bit (system)",
   "language": "python",
   "name": "python3"
  },
  "language_info": {
   "codemirror_mode": {
    "name": "ipython",
    "version": 3
   },
   "file_extension": ".py",
   "mimetype": "text/x-python",
   "name": "python",
   "nbconvert_exporter": "python",
   "pygments_lexer": "ipython3",
   "version": "3.8.0"
  },
  "orig_nbformat": 4,
  "vscode": {
   "interpreter": {
    "hash": "968028a025052a680c34ba17f26eeee894533cd7ac2f57c52a8b4b5624f8a6cb"
   }
  }
 },
 "nbformat": 4,
 "nbformat_minor": 2
}

{
 "cells": [
  {
   "cell_type": "markdown",
   "metadata": {},
   "source": [
    "# Classification Models"
   ]
  },
  {
   "cell_type": "markdown",
   "metadata": {},
   "source": [
    "## Logistic Regression\n",
    "\n",
    "Logistic regression estimates probabilities by using a logistic function. This has been the standard classification model for most sciences.\n",
    "\n",
    "### Model Characterisitcs\n",
    "\n",
    "- Runtime efficiency: Can use n_jobs if not using 'liblinear' solver.\n",
    "\n",
    "- Preprocess data: If solver is set to 'sag' or 'saga', standardize so that convergence\n",
    "works. Can handle sparse input.\n",
    "\n",
    "- Prevent overfitting: The C parameter controls regularization. (Lower C is more\n",
    "regularization, higher means less.) Can specify penalty to 'l1' or\n",
    "'l2' (the default).\n",
    "\n",
    "- Interpret results: The .coef_ attribute of the fitted model shows the decision function\n",
    "coefficients. A change in x one unit changes the log odds ratio by the\n",
    "coefficient. The .intercept_ attribute is the inverse log odds of the\n",
    "baseline condition."
   ]
  },
  {
   "cell_type": "code",
   "execution_count": 65,
   "metadata": {},
   "outputs": [],
   "source": [
    "import pandas as pd\n",
    "from sklearn.model_selection import train_test_split\n",
    "from sklearn import (impute, \n",
    "                     preprocessing)\n",
    "from sklearn.experimental import enable_iterative_imputer\n",
    "from sklearn.linear_model import (LogisticRegression)\n",
    "from yellowbrick.model_selection.importances import FeatureImportances\n",
    "import matplotlib.pyplot as plt \n",
    "from sklearn.naive_bayes import GaussianNB\n",
    "from sklearn.svm import SVC\n",
    "from sklearn.neighbors import KNeighborsClassifier\n",
    "from sklearn.tree import DecisionTreeClassifier\n",
    "from sklearn.ensemble import RandomForestClassifier\n",
    "import rfpimp\n",
    "import xgboost as xgb\n",
    "import lightgbm as lgb"
   ]
  },
  {
   "cell_type": "code",
   "execution_count": 3,
   "metadata": {},
   "outputs": [],
   "source": [
    "# URL to the dataset\n",
    "url = r\"data/titanic.csv\"\n",
    "\n",
    "# Read the dataset\n",
    "titanic_df = pd.read_csv(url)\n",
    "\n",
    "\n",
    "orig_df = titanic_df"
   ]
  },
  {
   "cell_type": "code",
   "execution_count": 4,
   "metadata": {},
   "outputs": [],
   "source": [
    "def clean_titanic(titanic_df: pd.DataFrame):\n",
    "    \"\"\"\n",
    "        Perform cleaning on the Titanic dataset\n",
    "    \"\"\"    \n",
    "    # Create a new copy of the Dataset without altering the orginal df \n",
    "    df = titanic_df.copy(deep=True)    \n",
    "    # Drop irrelevant columns\n",
    "    df = (\n",
    "            df.drop(\n",
    "                    columns=['body',\n",
    "                             'cabin',\n",
    "                             'boat',\n",
    "                             'home.dest',\n",
    "                             'name',\n",
    "                             'ticket']  \n",
    "                    )\n",
    "             )\n",
    "    \n",
    "    # Convert the embarked column to categorical data\n",
    "    df['embarked'] = (\n",
    "                      df['embarked']\n",
    "                      # Convert to categorical type\n",
    "                      .astype('category')\n",
    "                     )\n",
    "    # Convert the sex column to categorical data\n",
    "    df['sex'] = (\n",
    "                df['sex']\n",
    "                # Set as category\n",
    "                .astype('category')\n",
    "                )\n",
    "    # Now lets create dummy columns for the categorical data and avoid Perfoect Colinearity\n",
    "    df = pd.get_dummies(df, columns=['embarked', 'sex'], drop_first=True) \n",
    "    \n",
    "    return df"
   ]
  },
  {
   "cell_type": "code",
   "execution_count": 5,
   "metadata": {},
   "outputs": [],
   "source": [
    "def get_train_test_X_y(clean_titanic_df: pd.DataFrame, y_col: str, size: float = 0.3):\n",
    "    # Get a copy of the original df\n",
    "    df = clean_titanic_df.copy(deep=True)\n",
    "    # Get the target\n",
    "    y = df[y_col]\n",
    "    # Get the features\n",
    "    X = df.drop(columns=y_col)\n",
    "    # Split the data into train and test\n",
    "    X_train, X_test, y_train, y_test = train_test_split(X, y, test_size=size, random_state=42)\n",
    "    # Get all feature cols\n",
    "    feature_cols = X.columns\n",
    "    # Get all Numeric columns\n",
    "    num_cols = [\n",
    "            'pclass',\n",
    "            'age',\n",
    "            'sibsp',\n",
    "            'parch',\n",
    "            'fare'\n",
    "        ]\n",
    "\n",
    "    cat_cols = [\n",
    "                'embarked_Q',\n",
    "                'embarked_S',\n",
    "                'sex_male'\n",
    "                ]\n",
    "\n",
    "    # Impute the missing values based on characteristics of the numeric columns\n",
    "    imputer = impute.IterativeImputer()\n",
    "\n",
    "    X_train.loc[:, feature_cols] = imputer.fit_transform(X_train[feature_cols])\n",
    "\n",
    "    X_test.loc[:, feature_cols] = imputer.transform(X_test[feature_cols])\n",
    "    \n",
    "    # Standardising the numeric columns\n",
    "    scaler = preprocessing.StandardScaler()\n",
    "\n",
    "    # Standardize the Numeric Features leaving out the Categorical features\n",
    "    X_train.loc[:, num_cols] = scaler.fit_transform(X_train[num_cols])\n",
    "\n",
    "\n",
    "    # Standardising the test data\n",
    "    X_test.loc[:, num_cols] = scaler.transform(X_test[num_cols])\n",
    "    \n",
    "    return X_train, X_test, y_train, y_test"
   ]
  },
  {
   "cell_type": "code",
   "execution_count": 6,
   "metadata": {},
   "outputs": [],
   "source": [
    "\n",
    "#Cleaning Data\n",
    "clean_df = clean_titanic(titanic_df=orig_df)\n",
    "\n",
    "\n",
    "# Get the testing and training set\n",
    "X_train, X_test, y_train, y_test = get_train_test_X_y(clean_titanic_df=clean_df, y_col='survived')\n",
    "\n",
    "\n",
    "# Concatenate all the data\n",
    "X = pd.concat([X_train, X_test], axis=0)\n",
    "y = pd.concat([y_train, y_test], axis=0)\n"
   ]
  },
  {
   "cell_type": "code",
   "execution_count": 7,
   "metadata": {},
   "outputs": [
    {
     "data": {
      "text/html": [
       "<style>#sk-container-id-1 {color: black;background-color: white;}#sk-container-id-1 pre{padding: 0;}#sk-container-id-1 div.sk-toggleable {background-color: white;}#sk-container-id-1 label.sk-toggleable__label {cursor: pointer;display: block;width: 100%;margin-bottom: 0;padding: 0.3em;box-sizing: border-box;text-align: center;}#sk-container-id-1 label.sk-toggleable__label-arrow:before {content: \"▸\";float: left;margin-right: 0.25em;color: #696969;}#sk-container-id-1 label.sk-toggleable__label-arrow:hover:before {color: black;}#sk-container-id-1 div.sk-estimator:hover label.sk-toggleable__label-arrow:before {color: black;}#sk-container-id-1 div.sk-toggleable__content {max-height: 0;max-width: 0;overflow: hidden;text-align: left;background-color: #f0f8ff;}#sk-container-id-1 div.sk-toggleable__content pre {margin: 0.2em;color: black;border-radius: 0.25em;background-color: #f0f8ff;}#sk-container-id-1 input.sk-toggleable__control:checked~div.sk-toggleable__content {max-height: 200px;max-width: 100%;overflow: auto;}#sk-container-id-1 input.sk-toggleable__control:checked~label.sk-toggleable__label-arrow:before {content: \"▾\";}#sk-container-id-1 div.sk-estimator input.sk-toggleable__control:checked~label.sk-toggleable__label {background-color: #d4ebff;}#sk-container-id-1 div.sk-label input.sk-toggleable__control:checked~label.sk-toggleable__label {background-color: #d4ebff;}#sk-container-id-1 input.sk-hidden--visually {border: 0;clip: rect(1px 1px 1px 1px);clip: rect(1px, 1px, 1px, 1px);height: 1px;margin: -1px;overflow: hidden;padding: 0;position: absolute;width: 1px;}#sk-container-id-1 div.sk-estimator {font-family: monospace;background-color: #f0f8ff;border: 1px dotted black;border-radius: 0.25em;box-sizing: border-box;margin-bottom: 0.5em;}#sk-container-id-1 div.sk-estimator:hover {background-color: #d4ebff;}#sk-container-id-1 div.sk-parallel-item::after {content: \"\";width: 100%;border-bottom: 1px solid gray;flex-grow: 1;}#sk-container-id-1 div.sk-label:hover label.sk-toggleable__label {background-color: #d4ebff;}#sk-container-id-1 div.sk-serial::before {content: \"\";position: absolute;border-left: 1px solid gray;box-sizing: border-box;top: 0;bottom: 0;left: 50%;z-index: 0;}#sk-container-id-1 div.sk-serial {display: flex;flex-direction: column;align-items: center;background-color: white;padding-right: 0.2em;padding-left: 0.2em;position: relative;}#sk-container-id-1 div.sk-item {position: relative;z-index: 1;}#sk-container-id-1 div.sk-parallel {display: flex;align-items: stretch;justify-content: center;background-color: white;position: relative;}#sk-container-id-1 div.sk-item::before, #sk-container-id-1 div.sk-parallel-item::before {content: \"\";position: absolute;border-left: 1px solid gray;box-sizing: border-box;top: 0;bottom: 0;left: 50%;z-index: -1;}#sk-container-id-1 div.sk-parallel-item {display: flex;flex-direction: column;z-index: 1;position: relative;background-color: white;}#sk-container-id-1 div.sk-parallel-item:first-child::after {align-self: flex-end;width: 50%;}#sk-container-id-1 div.sk-parallel-item:last-child::after {align-self: flex-start;width: 50%;}#sk-container-id-1 div.sk-parallel-item:only-child::after {width: 0;}#sk-container-id-1 div.sk-dashed-wrapped {border: 1px dashed gray;margin: 0 0.4em 0.5em 0.4em;box-sizing: border-box;padding-bottom: 0.4em;background-color: white;}#sk-container-id-1 div.sk-label label {font-family: monospace;font-weight: bold;display: inline-block;line-height: 1.2em;}#sk-container-id-1 div.sk-label-container {text-align: center;}#sk-container-id-1 div.sk-container {/* jupyter's `normalize.less` sets `[hidden] { display: none; }` but bootstrap.min.css set `[hidden] { display: none !important; }` so we also need the `!important` here to be able to override the default hidden behavior on the sphinx rendered scikit-learn.org. See: https://github.com/scikit-learn/scikit-learn/issues/21755 */display: inline-block !important;position: relative;}#sk-container-id-1 div.sk-text-repr-fallback {display: none;}</style><div id=\"sk-container-id-1\" class=\"sk-top-container\"><div class=\"sk-text-repr-fallback\"><pre>LogisticRegression(random_state=42)</pre><b>In a Jupyter environment, please rerun this cell to show the HTML representation or trust the notebook. <br />On GitHub, the HTML representation is unable to render, please try loading this page with nbviewer.org.</b></div><div class=\"sk-container\" hidden><div class=\"sk-item\"><div class=\"sk-estimator sk-toggleable\"><input class=\"sk-toggleable__control sk-hidden--visually\" id=\"sk-estimator-id-1\" type=\"checkbox\" checked><label for=\"sk-estimator-id-1\" class=\"sk-toggleable__label sk-toggleable__label-arrow\">LogisticRegression</label><div class=\"sk-toggleable__content\"><pre>LogisticRegression(random_state=42)</pre></div></div></div></div></div>"
      ],
      "text/plain": [
       "LogisticRegression(random_state=42)"
      ]
     },
     "execution_count": 7,
     "metadata": {},
     "output_type": "execute_result"
    }
   ],
   "source": [
    "# Logistic Regression\n",
    "\n",
    "# Initialize the model\n",
    "lr = LogisticRegression(random_state=42)\n",
    "\n",
    "# Fit the model to the training set\n",
    "lr.fit(X_train, y_train)"
   ]
  },
  {
   "cell_type": "code",
   "execution_count": 8,
   "metadata": {},
   "outputs": [
    {
     "data": {
      "text/plain": [
       "0.8015267175572519"
      ]
     },
     "execution_count": 8,
     "metadata": {},
     "output_type": "execute_result"
    }
   ],
   "source": [
    "lr.score(X_test, y_test)"
   ]
  },
  {
   "cell_type": "code",
   "execution_count": 9,
   "metadata": {},
   "outputs": [
    {
     "data": {
      "text/plain": [
       "array([0], dtype=int64)"
      ]
     },
     "execution_count": 9,
     "metadata": {},
     "output_type": "execute_result"
    }
   ],
   "source": [
    "# Predict the class of the first row\n",
    "lr.predict(X.iloc[[0]])"
   ]
  },
  {
   "cell_type": "code",
   "execution_count": 10,
   "metadata": {},
   "outputs": [
    {
     "data": {
      "text/plain": [
       "array([[0.89820343, 0.10179657]])"
      ]
     },
     "execution_count": 10,
     "metadata": {},
     "output_type": "execute_result"
    }
   ],
   "source": [
    "# Predict Probability\n",
    "lr.predict_proba(X.iloc[[0]])"
   ]
  },
  {
   "cell_type": "code",
   "execution_count": 11,
   "metadata": {},
   "outputs": [
    {
     "data": {
      "text/plain": [
       "array([[-0.1073587, -2.2847789]])"
      ]
     },
     "execution_count": 11,
     "metadata": {},
     "output_type": "execute_result"
    }
   ],
   "source": [
    "# Predict the log Probability\n",
    "lr.predict_log_proba(X.iloc[[0]])"
   ]
  },
  {
   "cell_type": "code",
   "execution_count": 12,
   "metadata": {},
   "outputs": [
    {
     "data": {
      "text/plain": [
       "array([-2.1774202])"
      ]
     },
     "execution_count": 12,
     "metadata": {},
     "output_type": "execute_result"
    }
   ],
   "source": [
    "lr.decision_function(X.iloc[[0]])"
   ]
  },
  {
   "cell_type": "code",
   "execution_count": 26,
   "metadata": {},
   "outputs": [
    {
     "name": "stderr",
     "output_type": "stream",
     "text": [
      "c:\\Users\\INNO\\Documents\\Python Development\\ML-Pocket-Reference\\.ml_pocket_ref\\lib\\site-packages\\sklearn\\base.py:450: UserWarning: X does not have valid feature names, but LogisticRegression was fitted with feature names\n",
      "  warnings.warn(\n",
      "c:\\Users\\INNO\\Documents\\Python Development\\ML-Pocket-Reference\\.ml_pocket_ref\\lib\\site-packages\\yellowbrick\\model_selection\\importances.py:194: YellowbrickWarning: detected multi-dimensional feature importances but stack=False, using mean to aggregate them.\n",
      "  warnings.warn(\n"
     ]
    },
    {
     "data": {
      "image/png": "[encoded data removed]",
      "text/plain": [
       "<Figure size 432x288 with 1 Axes>"
      ]
     },
     "metadata": {
      "needs_background": "light"
     },
     "output_type": "display_data"
    },
    {
     "data": {
      "text/plain": [
       "<AxesSubplot:title={'center':'Feature Importances of 8 Features using LogisticRegression'}, xlabel='relative coefficient magnitude'>"
      ]
     },
     "execution_count": 26,
     "metadata": {},
     "output_type": "execute_result"
    }
   ],
   "source": [
    "# Showing the feature importances of the lr model\n",
    "\n",
    "fig, ax = plt.subplots(figsize=(6,4))\n",
    "\n",
    "fi_viz = FeatureImportances(lr)\n",
    "\n",
    "fi_viz.fit(X,y)\n",
    "\n",
    "# Beautify the visualization\n",
    "fi_viz.poof()"
   ]
  },
  {
   "cell_type": "markdown",
   "metadata": {},
   "source": [
    "## Naive Bayes\n",
    "\n",
    "Naive Bayes is a probabilistic classifier that assumes independence between the features of the data. It is popular for text classification applications, such as catching spam. One advantage of this model is that because it assumes feature independence, it can train a model with a small number of samples. A downside is that it can’t capture the interactions between features.\n",
    "\n",
    "> This simple model can also work with data that has many features. As such, it serves as a good baseline model.\n",
    "\n",
    "This model has the following properties:\n",
    "- Runtime efficiency: \n",
    "Training O(Nd), where N is the number of training examples and d is dimensionality. Testing O(cd), where c is the number of classes.\n",
    "There are three classes in sklearn: `GaussianNB`, `MultinomialNB`, and `BernoulliNB`. The first assumes a Gaussian distribution (continuous features with a normal distribution), the second is for discrete occurrence counts, and the third is for discrete Boolean features.\n",
    "\n",
    "\n",
    "- Preprocess data:\n",
    "Assumes that data is independent. Should perform better after removing colinear columns. For continuous numerical data, might be good to bin data. Gaussian assumes normal distribution, and you might need to transform data to convert to normal distribution.\n",
    "\n",
    "- Prevent overfitting:\n",
    "Exhibits high bias and low variance (ensembles won’t reduce variance).\n",
    "\n",
    "- Interpret results:\n",
    "Percentage is the likelihood that a sample belongs to a class based on priors."
   ]
  },
  {
   "cell_type": "code",
   "execution_count": 29,
   "metadata": {},
   "outputs": [
    {
     "data": {
      "text/plain": [
       "0.7557251908396947"
      ]
     },
     "execution_count": 29,
     "metadata": {},
     "output_type": "execute_result"
    }
   ],
   "source": [
    "# Initialize the Gaussian NB Classifier Model\n",
    "nb = GaussianNB()\n",
    "\n",
    "# Fit the Gaussian NB Classifier Model to the training data\n",
    "nb.fit(X_train, y_train)\n",
    "\n",
    "# Get the score on the test set\n",
    "nb.score(X_test, y_test)"
   ]
  },
  {
   "cell_type": "code",
   "execution_count": 30,
   "metadata": {},
   "outputs": [
    {
     "data": {
      "text/plain": [
       "array([0], dtype=int64)"
      ]
     },
     "execution_count": 30,
     "metadata": {},
     "output_type": "execute_result"
    }
   ],
   "source": [
    "# Predict the records in the firs row\n",
    "nb.predict(X.iloc[[0]])"
   ]
  },
  {
   "cell_type": "code",
   "execution_count": 31,
   "metadata": {},
   "outputs": [
    {
     "data": {
      "text/plain": [
       "array([[0.95949468, 0.04050532]])"
      ]
     },
     "execution_count": 31,
     "metadata": {},
     "output_type": "execute_result"
    }
   ],
   "source": [
    "# Now predict the probability\n",
    "nb.predict_proba(X.iloc[[0]])"
   ]
  },
  {
   "cell_type": "code",
   "execution_count": 32,
   "metadata": {},
   "outputs": [
    {
     "data": {
      "text/plain": [
       "array([[-0.04134851, -3.20632193]])"
      ]
     },
     "execution_count": 32,
     "metadata": {},
     "output_type": "execute_result"
    }
   ],
   "source": [
    "# Now predict the log probability\n",
    "nb.predict_log_proba(X.iloc[[0]])"
   ]
  },
  {
   "cell_type": "markdown",
   "metadata": {},
   "source": [
    "## Support Vector Machine\n",
    "\n",
    "A Support Vector Machine (SVM) is an algorithm that tries to fit a line (or plane or hyperplane) between the different classes that maximizes the distance from the line to the points of the classes. In this way it tries to find a robust separation between the classes. The support vectors are the points of the edge of the dividing hyperplane.\n",
    "\n",
    "SVMs have the following properties:\n",
    "\n",
    "- Runtime efficiency: \n",
    "The scikit-learn implementation is O(n⁴), so it can be hard to scale to\n",
    "large sizes. Using a linear kernel or the LinearSVC model can improve\n",
    "the runtime performance at perhaps the cost of accuracy. Upping the\n",
    "cache_size parameter can bring that down to O(n³).\n",
    "\n",
    "- Preprocess data:\n",
    "The algorithm is not scale invariant. Standardizing the data is highly\n",
    "recommended.\n",
    "\n",
    "- Prevent overfitting:\n",
    "The C (penalty parameter) controls regularization. A smaller value\n",
    "allows for a smaller margin in the hyperplane. A higher value for gamma\n",
    "will tend to overfit the training data. The LinearSVC model supports a\n",
    "loss and penalty parameter to support regularization.\n",
    "\n",
    "- Interpret results:\n",
    "Inspect .support_vectors_, though these are hard to explain. With\n",
    "linear kernels, you can inspect .coef_."
   ]
  },
  {
   "cell_type": "code",
   "execution_count": 34,
   "metadata": {},
   "outputs": [
    {
     "data": {
      "text/plain": [
       "0.806615776081425"
      ]
     },
     "execution_count": 34,
     "metadata": {},
     "output_type": "execute_result"
    }
   ],
   "source": [
    "# Initialize the SVC\n",
    "svc_model = SVC(random_state=42, probability=True)\n",
    "\n",
    "# Fit the SVC model to the Training Data\n",
    "svc_model.fit(X_train, y_train)\n",
    "\n",
    "# Get the SVC score\n",
    "svc_model.score(X_test, y_test)"
   ]
  },
  {
   "cell_type": "code",
   "execution_count": 35,
   "metadata": {},
   "outputs": [
    {
     "data": {
      "text/plain": [
       "array([0], dtype=int64)"
      ]
     },
     "execution_count": 35,
     "metadata": {},
     "output_type": "execute_result"
    }
   ],
   "source": [
    "# Predict the first row\n",
    "svc_model.predict(X.iloc[[0]])"
   ]
  },
  {
   "cell_type": "code",
   "execution_count": 36,
   "metadata": {},
   "outputs": [
    {
     "data": {
      "text/plain": [
       "array([[0.84643281, 0.15356719]])"
      ]
     },
     "execution_count": 36,
     "metadata": {},
     "output_type": "execute_result"
    }
   ],
   "source": [
    "# Predict the Probability\n",
    "svc_model.predict_proba(X.iloc[[0]])"
   ]
  },
  {
   "cell_type": "code",
   "execution_count": 37,
   "metadata": {},
   "outputs": [
    {
     "data": {
      "text/plain": [
       "array([[-0.16672446, -1.87361708]])"
      ]
     },
     "execution_count": 37,
     "metadata": {},
     "output_type": "execute_result"
    }
   ],
   "source": [
    "# Predict the log Probability\n",
    "svc_model.predict_log_proba(X.iloc[[0]])"
   ]
  },
  {
   "cell_type": "markdown",
   "metadata": {},
   "source": [
    "## K-Nearest Neighbor\n",
    "\n",
    "The K-Nearest Neighbor (KNN) algorithm classifies based on distance to\n",
    "some number (k) of training samples. The algorithm family is called\n",
    "instance-based learning as there are no parameters to learn. This model\n",
    "assumes that distance is sufficient for inference; otherwise it makes no\n",
    "assumptions about the underlying data or its distributions.\n",
    "\n",
    "\n",
    "Nearest neighbor models have the following properties:\n",
    "\n",
    "- Runtime efficiency:\n",
    "Training O(1), but need to store data. Testing O(Nd) where N is the\n",
    "number of training examples and d is dimensionality.\n",
    "\n",
    "- Preprocess data:\n",
    "Yes, distance-based calculations perform better when standardized.\n",
    "\n",
    "- Prevent overfitting:\n",
    "Raise n_neighbors. Change p for L1 or L2 metric.\n",
    "\n",
    "- Interpret results:\n",
    "Interpret the k-nearest neighbors to the sample (using the .kneighbors\n",
    "method). Those neighbors (if you can explain them) explain your result."
   ]
  },
  {
   "cell_type": "code",
   "execution_count": 45,
   "metadata": {},
   "outputs": [
    {
     "data": {
      "text/plain": [
       "0.7709923664122137"
      ]
     },
     "execution_count": 45,
     "metadata": {},
     "output_type": "execute_result"
    }
   ],
   "source": [
    "# Instantiate the classifier model\n",
    "knn_model = KNeighborsClassifier()\n",
    "\n",
    "# Fit the training data\n",
    "knn_model.fit(X_train, y_train)\n",
    "\n",
    "# Get the score\n",
    "knn_model.score(X_test, y_test)"
   ]
  },
  {
   "cell_type": "code",
   "execution_count": 40,
   "metadata": {},
   "outputs": [
    {
     "data": {
      "text/plain": [
       "array([0], dtype=int64)"
      ]
     },
     "execution_count": 40,
     "metadata": {},
     "output_type": "execute_result"
    }
   ],
   "source": [
    "# Predicting a single record\n",
    "knn_model.predict(X.iloc[[0]])"
   ]
  },
  {
   "cell_type": "code",
   "execution_count": 41,
   "metadata": {},
   "outputs": [
    {
     "data": {
      "text/plain": [
       "array([[0.8, 0.2]])"
      ]
     },
     "execution_count": 41,
     "metadata": {},
     "output_type": "execute_result"
    }
   ],
   "source": [
    "# Predicting Probabilities\n",
    "knn_model.predict_proba(X.iloc[[0]])"
   ]
  },
  {
   "cell_type": "markdown",
   "metadata": {},
   "source": [
    "#### Key Parameters for KNN\n",
    "- `n_neighbors=5`:\n",
    "Number of neighbors.\n",
    "\n",
    "- `p=2`:\n",
    "Minkowski power parameter: 1 = manhattan (L1). 2 = Euclidean (L2).\n",
    "\n",
    "- `weights='uniform'`:\n",
    "Can be 'distance', in which case, closer points have more influence.\n",
    "Distance metrics include: 'euclidean', 'manhattan', 'chebyshev',\n",
    "'minkowski', 'wminkowski', 'seuclidean', 'mahalanobis',"
   ]
  },
  {
   "cell_type": "markdown",
   "metadata": {},
   "source": [
    "## Decision Tree\n",
    "\n",
    "A decision tree is like going to a doctor who asks a series of questions to determine the cause of your symptoms. We can use a process to create a decision tree and have a series of questions to predict a target class. The advantages of this model include support for nonnumeric data (in some\n",
    "implementations), little data preparation (no need for scaling), support for dealing with nonlinear relationships, feature importances are revealed, and it is easy to explain.\n",
    "\n",
    "> The default algorithm used for creation is called the classification and\n",
    "regression tree (CART). It uses the Gini impurity or index measure to\n",
    "construct decisions. This is done by looping over the features and finding\n",
    "the value that gives the lowest probability of misclassifying.\n",
    "\n",
    "\n",
    "Decision trees have the following properties:\n",
    "- `Runtime efficiency`:\n",
    "For creation, loop over each of the m features, and sort all n samples,\n",
    "O(mn log n). For predicting, you walk the tree, O( height).\n",
    "\n",
    "- `Preprocess data`: \n",
    "Scaling is not necessary. Need to get rid of missing values and convert\n",
    "to numeric.\n",
    "\n",
    "- `Prevent overfitting`:\n",
    "Set max_depth to a lower number, raise min_impurity_decrease.\n",
    "\n",
    "- `Interpret results`:\n",
    "Can step through the tree of choices. Because there are steps, a tree is\n",
    "bad at dealing with linear relationships (a small change in a number can\n",
    "go down a different path). The tree is also highly dependent on the\n",
    "training data. A small change can change the whole tree."
   ]
  },
  {
   "cell_type": "code",
   "execution_count": 47,
   "metadata": {},
   "outputs": [
    {
     "data": {
      "text/plain": [
       "0.7608142493638677"
      ]
     },
     "execution_count": 47,
     "metadata": {},
     "output_type": "execute_result"
    }
   ],
   "source": [
    "# Instantiate the Decision Tree Classifier\n",
    "dt_model = DecisionTreeClassifier(random_state=42, max_depth=5)\n",
    "\n",
    "# Fit the model to the training data\n",
    "dt_model.fit(X_train, y_train)\n",
    "\n",
    "# Get the score on the test data\n",
    "dt_model.score(X_test, y_test)"
   ]
  },
  {
   "cell_type": "code",
   "execution_count": 48,
   "metadata": {},
   "outputs": [
    {
     "data": {
      "text/plain": [
       "array([0], dtype=int64)"
      ]
     },
     "execution_count": 48,
     "metadata": {},
     "output_type": "execute_result"
    }
   ],
   "source": [
    "# Predict a single record\n",
    "dt_model.predict(X.iloc[[0]])"
   ]
  },
  {
   "cell_type": "code",
   "execution_count": 49,
   "metadata": {},
   "outputs": [
    {
     "data": {
      "text/plain": [
       "array([[0.88607595, 0.11392405]])"
      ]
     },
     "execution_count": 49,
     "metadata": {},
     "output_type": "execute_result"
    }
   ],
   "source": [
    "# Predict Probability\n",
    "dt_model.predict_proba(X.iloc[[0]])"
   ]
  },
  {
   "cell_type": "code",
   "execution_count": 50,
   "metadata": {},
   "outputs": [
    {
     "data": {
      "text/plain": [
       "array([[-0.12095261, -2.17222328]])"
      ]
     },
     "execution_count": 50,
     "metadata": {},
     "output_type": "execute_result"
    }
   ],
   "source": [
    "# Predict Log Probability\n",
    "dt_model.predict_log_proba(X.iloc[[0]])"
   ]
  },
  {
   "cell_type": "markdown",
   "metadata": {},
   "source": [
    "Attributes after fitting:\n",
    "- `classes_`:\n",
    "Class labels\n",
    "\n",
    "- `feature_importances_`:\n",
    "Array of Gini importance\n",
    "\n",
    "- `n_classes_`:\n",
    "Number of classes\n",
    "\n",
    "- `n_features_`:\n",
    "Number of features\n",
    "\n",
    "- `tree_`:\n",
    "Underlying tree object"
   ]
  },
  {
   "cell_type": "code",
   "execution_count": 53,
   "metadata": {},
   "outputs": [
    {
     "name": "stderr",
     "output_type": "stream",
     "text": [
      "c:\\Users\\INNO\\Documents\\Python Development\\ML-Pocket-Reference\\.ml_pocket_ref\\lib\\site-packages\\sklearn\\base.py:450: UserWarning: X does not have valid feature names, but DecisionTreeClassifier was fitted with feature names\n",
      "  warnings.warn(\n"
     ]
    },
    {
     "data": {
      "image/png": "[encoded data removed]",
      "text/plain": [
       "<Figure size 720x720 with 1 Axes>"
      ]
     },
     "metadata": {
      "needs_background": "light"
     },
     "output_type": "display_data"
    },
    {
     "data": {
      "text/plain": [
       "<AxesSubplot:title={'center':'Feature Importances of 8 Features using DecisionTreeClassifier'}, xlabel='relative importance'>"
      ]
     },
     "execution_count": 53,
     "metadata": {},
     "output_type": "execute_result"
    }
   ],
   "source": [
    "# Visualize feature importance with Yellowbrick\n",
    "\n",
    "fig, ax = plt.subplots(figsize=(10,10))\n",
    "\n",
    "fi_viz = FeatureImportances(dt_model)\n",
    "\n",
    "fi_viz.fit(X, y)\n",
    "\n",
    "fi_viz.poof()"
   ]
  },
  {
   "cell_type": "markdown",
   "metadata": {},
   "source": [
    "## Random Forest\n",
    "\n",
    "A random forest is an ensemble of decision trees. It uses bagging to correct\n",
    "the tendency of decision trees to overfit. By creating many trees trained on\n",
    "random subsamples of the samples and random features of the data, the\n",
    "variance is lowered.\n",
    "\n",
    "The idea with random forests is to create a “forest” of decision trees trained\n",
    "on different columns of the training data. If each tree has a better than 50%\n",
    "chance of correct classification, you should incorporate its prediction. The\n",
    "random forest has been an excellent tool for both classification and\n",
    "regression, though it has recently fallen out of favor for gradient-boosted\n",
    "trees."
   ]
  },
  {
   "cell_type": "markdown",
   "metadata": {},
   "source": [
    "- `Preprocess data`:\n",
    "Not necessary.\n",
    "\n",
    "- `Prevent overfitting`:\n",
    "Add more trees (n_estimators). Use lower max_depth.\n",
    "\n",
    "- `Interpret results`:\n",
    "Supports feature importance, but we don’t have a single decision tree\n",
    "that we can walk through. Can inspect single trees from the ensemble."
   ]
  },
  {
   "cell_type": "code",
   "execution_count": 55,
   "metadata": {},
   "outputs": [
    {
     "data": {
      "text/plain": [
       "0.8015267175572519"
      ]
     },
     "execution_count": 55,
     "metadata": {},
     "output_type": "execute_result"
    }
   ],
   "source": [
    "# Instantiate the model\n",
    "rf_model = RandomForestClassifier(random_state=42)\n",
    "\n",
    "# Fit the model on the training data\n",
    "rf_model.fit(X_train, y_train)\n",
    "\n",
    "# Use the trained model for predicting and get the accuracy score\n",
    "rf_model.score(X_test, y_test)"
   ]
  },
  {
   "cell_type": "code",
   "execution_count": 57,
   "metadata": {},
   "outputs": [
    {
     "data": {
      "text/plain": [
       "Feature\n",
       "sex_male      0.180662\n",
       "pclass        0.055980\n",
       "age           0.048346\n",
       "parch         0.017812\n",
       "sibsp         0.010178\n",
       "embarked_Q    0.010178\n",
       "fare          0.007634\n",
       "embarked_S    0.002545\n",
       "Name: Importance, dtype: float64"
      ]
     },
     "execution_count": 57,
     "metadata": {},
     "output_type": "execute_result"
    }
   ],
   "source": [
    "# Instantiate the random forest model\n",
    "rf_model_2 = RandomForestClassifier(random_state=42)\n",
    "\n",
    "# Fit the model to the training data\n",
    "rf_model_2.fit(X_train, y_train)\n",
    "\n",
    "# Get the feature importance\n",
    "rfpimp.importances(rf_model_2, X_test, y_test).Importance"
   ]
  },
  {
   "cell_type": "markdown",
   "metadata": {},
   "source": [
    "## XGBoost\n",
    "\n",
    "XGBoost is a popular library outside of scikit-learn. It creates a weak tree and then “boosts” the subsequent trees to reduce the residual errors. It tries to capture and address any patterns in the errors until they appear to be random.\n",
    "\n",
    "XGBoost has the following properties:\n",
    "\n",
    "- `Runtime efficiency`:\n",
    "XGBoost is parallelizeable. Use the n_jobs option to indicate the number of CPUs. Use GPU for even better performance.\n",
    "\n",
    "- `Preprocess data`:\n",
    "No scaling necessary with tree models. Need to encode categorical data.\n",
    "\n",
    "- `Prevent overfitting`:\n",
    "The early_stopping_rounds=N parameter can be set to stop training if there is no improvement after N rounds. L1 and L2 regularization are controlled by reg_alpha and reg_lambda, respectively. Higher\n",
    "numbers are more conservative.\n",
    "\n",
    "- `Interpret results`:\n",
    "Has feature importance."
   ]
  },
  {
   "cell_type": "code",
   "execution_count": 60,
   "metadata": {},
   "outputs": [
    {
     "name": "stdout",
     "output_type": "stream",
     "text": [
      "[0]\tvalidation_0-logloss:0.57936\n",
      "[1]\tvalidation_0-logloss:0.52183\n",
      "[2]\tvalidation_0-logloss:0.49387\n",
      "[3]\tvalidation_0-logloss:0.47555\n",
      "[4]\tvalidation_0-logloss:0.47134\n",
      "[5]\tvalidation_0-logloss:0.46024\n",
      "[6]\tvalidation_0-logloss:0.45697\n",
      "[7]\tvalidation_0-logloss:0.45371\n",
      "[8]\tvalidation_0-logloss:0.45796\n",
      "[9]\tvalidation_0-logloss:0.45714\n",
      "[10]\tvalidation_0-logloss:0.45183\n",
      "[11]\tvalidation_0-logloss:0.45715\n",
      "[12]\tvalidation_0-logloss:0.45523\n",
      "[13]\tvalidation_0-logloss:0.45086\n",
      "[14]\tvalidation_0-logloss:0.45079\n",
      "[15]\tvalidation_0-logloss:0.45225\n",
      "[16]\tvalidation_0-logloss:0.45042\n",
      "[17]\tvalidation_0-logloss:0.45166\n",
      "[18]\tvalidation_0-logloss:0.45175\n",
      "[19]\tvalidation_0-logloss:0.45032\n",
      "[20]\tvalidation_0-logloss:0.45453\n",
      "[21]\tvalidation_0-logloss:0.45329\n",
      "[22]\tvalidation_0-logloss:0.45469\n",
      "[23]\tvalidation_0-logloss:0.45649\n",
      "[24]\tvalidation_0-logloss:0.45814\n",
      "[25]\tvalidation_0-logloss:0.45846\n",
      "[26]\tvalidation_0-logloss:0.45802\n",
      "[27]\tvalidation_0-logloss:0.46184\n",
      "[28]\tvalidation_0-logloss:0.46237\n",
      "[29]\tvalidation_0-logloss:0.46213\n"
     ]
    },
    {
     "name": "stderr",
     "output_type": "stream",
     "text": [
      "c:\\Users\\INNO\\Documents\\Python Development\\ML-Pocket-Reference\\.ml_pocket_ref\\lib\\site-packages\\xgboost\\sklearn.py:793: UserWarning: `early_stopping_rounds` in `fit` method is deprecated for better compatibility with scikit-learn, use `early_stopping_rounds` in constructor or`set_params` instead.\n",
      "  warnings.warn(\n"
     ]
    },
    {
     "data": {
      "text/plain": [
       "0.7989821882951654"
      ]
     },
     "execution_count": 60,
     "metadata": {},
     "output_type": "execute_result"
    }
   ],
   "source": [
    "# Instantiate the xgboost model\n",
    "xgb_model = xgb.XGBClassifier(random_state=42)\n",
    "\n",
    "# Fit the model to the training data\n",
    "xgb_model.fit(X_train, y_train, early_stopping_rounds=10, eval_set=[(X_test, y_test)])\n",
    "\n",
    "# Get the score\n",
    "xgb_model.score(X_test, y_test)"
   ]
  },
  {
   "cell_type": "code",
   "execution_count": 61,
   "metadata": {},
   "outputs": [
    {
     "data": {
      "text/plain": [
       "array([0])"
      ]
     },
     "execution_count": 61,
     "metadata": {},
     "output_type": "execute_result"
    }
   ],
   "source": [
    "# Predict 1 record\n",
    "xgb_model.predict(X.iloc[[0]])"
   ]
  },
  {
   "cell_type": "code",
   "execution_count": 62,
   "metadata": {},
   "outputs": [
    {
     "data": {
      "text/plain": [
       "array([[0.9273083 , 0.07269169]], dtype=float32)"
      ]
     },
     "execution_count": 62,
     "metadata": {},
     "output_type": "execute_result"
    }
   ],
   "source": [
    "# Predict Probabilities 1 record\n",
    "xgb_model.predict_proba(X.iloc[[0]])"
   ]
  },
  {
   "cell_type": "code",
   "execution_count": 64,
   "metadata": {},
   "outputs": [
    {
     "data": {
      "image/png": "[encoded data removed]",
      "text/plain": [
       "<Figure size 720x720 with 1 Axes>"
      ]
     },
     "metadata": {
      "needs_background": "light"
     },
     "output_type": "display_data"
    },
    {
     "data": {
      "text/plain": [
       "<AxesSubplot:title={'center':'Feature Importances of 8 Features using XGBClassifier'}, xlabel='relative importance'>"
      ]
     },
     "execution_count": 64,
     "metadata": {},
     "output_type": "execute_result"
    }
   ],
   "source": [
    "fig, ax = plt.subplots(figsize=(10,10))\n",
    "\n",
    "fi_viz = FeatureImportances(xgb_model)\n",
    "\n",
    "fi_viz.fit(X, y)\n",
    "\n",
    "fi_viz.poof()"
   ]
  },
  {
   "cell_type": "markdown",
   "metadata": {},
   "source": [
    "## Gradient Boosted with LightGBM\n",
    "\n",
    "> LightGBM is an implementation by Microsoft. LightGBM uses a sampling mechanism to deal with continuous values. This allows quicker creation of trees (than say XGBoost), and reduces memory usage.\n",
    "\n",
    "It has the following properties:\n",
    "\n",
    "- `Runtime efficiency`:\n",
    "Can take advantage of multiple CPUs. By using binning, can be 15 times faster than XGBoost.\n",
    "\n",
    "- `Preprocess data`:\n",
    "Has some support for encoding categorical columns as integers (or pandas Categorical type), but AUC appears to suffer compared to one-hot encoding.\n",
    "\n",
    "- `Prevent overfitting`:\n",
    "Lower num_leaves. Increase min_data_in_leaf. Use min_gain_to_split with lambda_l1 or lambda_l2.\n",
    "\n",
    "- `Interpret results`:\n",
    "Feature importance is available. Individual trees are weak and tend to be hard to interpret."
   ]
  },
  {
   "cell_type": "code",
   "execution_count": 66,
   "metadata": {},
   "outputs": [
    {
     "data": {
      "text/plain": [
       "0.8015267175572519"
      ]
     },
     "execution_count": 66,
     "metadata": {},
     "output_type": "execute_result"
    }
   ],
   "source": [
    "# Instantiate the lightgbm model\n",
    "light_gbm_model = lgb.LGBMClassifier(random_state=42)\n",
    "\n",
    "# Fit the classifier with the training data\n",
    "light_gbm_model.fit(X_train, y_train)\n",
    "\n",
    "# Get the Prediction score\n",
    "light_gbm_model.score(X_test, y_test) "
   ]
  },
  {
   "cell_type": "code",
   "execution_count": 67,
   "metadata": {},
   "outputs": [
    {
     "data": {
      "text/plain": [
       "array([0], dtype=int64)"
      ]
     },
     "execution_count": 67,
     "metadata": {},
     "output_type": "execute_result"
    }
   ],
   "source": [
    "# Predict using LGBM Classifier\n",
    "light_gbm_model.predict(X.iloc[[0]])"
   ]
  },
  {
   "cell_type": "code",
   "execution_count": 68,
   "metadata": {},
   "outputs": [
    {
     "data": {
      "text/plain": [
       "array([[0.96245378, 0.03754622]])"
      ]
     },
     "execution_count": 68,
     "metadata": {},
     "output_type": "execute_result"
    }
   ],
   "source": [
    "# Predict Probabilities using LGBM Classifier\n",
    "light_gbm_model.predict_proba(X.iloc[[0]])"
   ]
  },
  {
   "cell_type": "code",
   "execution_count": 70,
   "metadata": {},
   "outputs": [
    {
     "data": {
      "text/plain": [
       "<AxesSubplot:title={'center':'Feature importance'}, xlabel='Feature importance', ylabel='Features'>"
      ]
     },
     "execution_count": 70,
     "metadata": {},
     "output_type": "execute_result"
    },
    {
     "data": {
      "image/png": "[encoded data removed]",
      "text/plain": [
       "<Figure size 720x720 with 1 Axes>"
      ]
     },
     "metadata": {
      "needs_background": "light"
     },
     "output_type": "display_data"
    }
   ],
   "source": [
    "fig, ax = plt.subplots(figsize=(10,10))\n",
    "\n",
    "lgb.plot_importance(light_gbm_model, ax=ax)\n",
    "\n",
    "# lgb.tight_layout()"
   ]
  }
 ],
 "metadata": {
  "kernelspec": {
   "display_name": "Python 3.8.0 ('.ml_pocket_ref')",
   "language": "python",
   "name": "python3"
  },
  "language_info": {
   "codemirror_mode": {
    "name": "ipython",
    "version": 3
   },
   "file_extension": ".py",
   "mimetype": "text/x-python",
   "name": "python",
   "nbconvert_exporter": "python",
   "pygments_lexer": "ipython3",
   "version": "3.8.0"
  },
  "orig_nbformat": 4,
  "vscode": {
   "interpreter": {
    "hash": "968028a025052a680c34ba17f26eeee894533cd7ac2f57c52a8b4b5624f8a6cb"
   }
  }
 },
 "nbformat": 4,
 "nbformat_minor": 2
}
